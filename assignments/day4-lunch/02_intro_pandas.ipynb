{
 "cells": [
  {
   "cell_type": "markdown",
   "id": "d49be3cc",
   "metadata": {},
   "source": [
    "# Learning objectives"
   ]
  },
  {
   "cell_type": "markdown",
   "id": "2a3e8419",
   "metadata": {},
   "source": [
    "1. Introduce pandas\n",
    "    ```\n",
    "    import pandas as pd\n",
    "    df = pd.read_csv( \"data.csv\" )\n",
    "    ```\n",
    "1. Explore objects\n",
    "    - Check `type()`, report `.shape`, subset `.loc[,]` or `.iloc[,]`\n",
    "    - Manipulate data in arrays\n",
    "    - Access `.columns`, `.index`, `.values`\n",
    "1. Visualize data (columns)\n",
    "    - male_10 vs female_14D\n",
    "    - male_10 vs female_10"
   ]
  },
  {
   "cell_type": "markdown",
   "id": "c967f7ef",
   "metadata": {},
   "source": [
    "# Introduce data\n",
    "\n",
    "- https://pandas.pydata.org\n",
    "    - Getting started > Intro to pandas > What kind of data does pandas handle?"
   ]
  },
  {
   "cell_type": "code",
   "execution_count": 1,
   "id": "17c158cc",
   "metadata": {},
   "outputs": [],
   "source": [
    "# head ../../qbb2021/data/fpkms.csv\n",
    "# t_name,gene_name,male_10,male_11,male_12,male_13,male_14A,male_14B,male_14C,male_14D,female_10,female_11,female_12,female_13,female_14A,female_14B,female_14C,female_14D\n",
    "# FBtr0114258,CR41571,0.0,0.0,0.0,0.0,0.0,0.0,0.0,0.0,0.0,0.0,0.0,0.0,0.0,0.0,0.0,0.0\n",
    "#     ...\n",
    "# FBtr0113885,Parp,10.997173,0.0,0.0,0.0,14.805335000000001,0.0,17.601667000000003,10.729349000000001,0.0,0.0,14.888651000000001,14.518989000000001,20.34367,4.087385,0.0,25.284622"
   ]
  },
  {
   "cell_type": "markdown",
   "id": "e06f9473",
   "metadata": {},
   "source": [
    "# Load packages\n",
    "\n",
    "- https://pandas.pydata.org\n",
    "    - Documentaion > User guide > 10 minutes to pandas"
   ]
  },
  {
   "cell_type": "code",
   "execution_count": 2,
   "id": "d6128979",
   "metadata": {},
   "outputs": [],
   "source": [
    "import pandas as pd\n",
    "import matplotlib.pyplot as plt\n",
    "import numpy as np"
   ]
  },
  {
   "cell_type": "markdown",
   "id": "1715304e",
   "metadata": {},
   "source": [
    "# Load data"
   ]
  },
  {
   "cell_type": "code",
   "execution_count": 3,
   "id": "ea6ee2d0",
   "metadata": {},
   "outputs": [
    {
     "data": {
      "text/html": [
       "<div>\n",
       "<style scoped>\n",
       "    .dataframe tbody tr th:only-of-type {\n",
       "        vertical-align: middle;\n",
       "    }\n",
       "\n",
       "    .dataframe tbody tr th {\n",
       "        vertical-align: top;\n",
       "    }\n",
       "\n",
       "    .dataframe thead th {\n",
       "        text-align: right;\n",
       "    }\n",
       "</style>\n",
       "<table border=\"1\" class=\"dataframe\">\n",
       "  <thead>\n",
       "    <tr style=\"text-align: right;\">\n",
       "      <th></th>\n",
       "      <th>t_name</th>\n",
       "      <th>gene_name</th>\n",
       "      <th>male_10</th>\n",
       "      <th>male_11</th>\n",
       "      <th>male_12</th>\n",
       "      <th>male_13</th>\n",
       "      <th>male_14A</th>\n",
       "      <th>male_14B</th>\n",
       "      <th>male_14C</th>\n",
       "      <th>male_14D</th>\n",
       "      <th>female_10</th>\n",
       "      <th>female_11</th>\n",
       "      <th>female_12</th>\n",
       "      <th>female_13</th>\n",
       "      <th>female_14A</th>\n",
       "      <th>female_14B</th>\n",
       "      <th>female_14C</th>\n",
       "      <th>female_14D</th>\n",
       "    </tr>\n",
       "  </thead>\n",
       "  <tbody>\n",
       "    <tr>\n",
       "      <th>0</th>\n",
       "      <td>FBtr0114258</td>\n",
       "      <td>CR41571</td>\n",
       "      <td>0.000000</td>\n",
       "      <td>0.000000</td>\n",
       "      <td>0.000000</td>\n",
       "      <td>0.000000</td>\n",
       "      <td>0.000000</td>\n",
       "      <td>0.000000</td>\n",
       "      <td>0.000000</td>\n",
       "      <td>0.000000</td>\n",
       "      <td>0.000000</td>\n",
       "      <td>0.000000</td>\n",
       "      <td>0.000000</td>\n",
       "      <td>0.000000</td>\n",
       "      <td>0.000000</td>\n",
       "      <td>0.000000</td>\n",
       "      <td>0.000000</td>\n",
       "      <td>0.00000</td>\n",
       "    </tr>\n",
       "    <tr>\n",
       "      <th>1</th>\n",
       "      <td>FBtr0346770</td>\n",
       "      <td>CG45784</td>\n",
       "      <td>0.000000</td>\n",
       "      <td>0.000000</td>\n",
       "      <td>0.000000</td>\n",
       "      <td>0.000000</td>\n",
       "      <td>0.000000</td>\n",
       "      <td>0.000000</td>\n",
       "      <td>0.000000</td>\n",
       "      <td>0.000000</td>\n",
       "      <td>0.000000</td>\n",
       "      <td>0.000000</td>\n",
       "      <td>0.000000</td>\n",
       "      <td>0.000000</td>\n",
       "      <td>0.000000</td>\n",
       "      <td>0.000000</td>\n",
       "      <td>0.000000</td>\n",
       "      <td>0.00000</td>\n",
       "    </tr>\n",
       "    <tr>\n",
       "      <th>2</th>\n",
       "      <td>FBtr0302440</td>\n",
       "      <td>CR12798</td>\n",
       "      <td>0.000000</td>\n",
       "      <td>0.000000</td>\n",
       "      <td>0.000000</td>\n",
       "      <td>0.000000</td>\n",
       "      <td>0.000000</td>\n",
       "      <td>0.000000</td>\n",
       "      <td>0.000000</td>\n",
       "      <td>0.000000</td>\n",
       "      <td>0.000000</td>\n",
       "      <td>0.000000</td>\n",
       "      <td>0.000000</td>\n",
       "      <td>0.000000</td>\n",
       "      <td>0.000000</td>\n",
       "      <td>0.000000</td>\n",
       "      <td>0.000000</td>\n",
       "      <td>0.00000</td>\n",
       "    </tr>\n",
       "    <tr>\n",
       "      <th>3</th>\n",
       "      <td>FBtr0302347</td>\n",
       "      <td>CR40182</td>\n",
       "      <td>23.712564</td>\n",
       "      <td>11.967821</td>\n",
       "      <td>20.767498</td>\n",
       "      <td>13.566818</td>\n",
       "      <td>18.802116</td>\n",
       "      <td>26.802691</td>\n",
       "      <td>22.819895</td>\n",
       "      <td>11.682728</td>\n",
       "      <td>21.894249</td>\n",
       "      <td>13.922059</td>\n",
       "      <td>16.482141</td>\n",
       "      <td>12.622680</td>\n",
       "      <td>31.800016</td>\n",
       "      <td>22.883186</td>\n",
       "      <td>14.330216</td>\n",
       "      <td>17.20257</td>\n",
       "    </tr>\n",
       "    <tr>\n",
       "      <th>4</th>\n",
       "      <td>FBtr0346769</td>\n",
       "      <td>CG45783</td>\n",
       "      <td>0.000000</td>\n",
       "      <td>0.000000</td>\n",
       "      <td>0.000000</td>\n",
       "      <td>0.000000</td>\n",
       "      <td>0.000000</td>\n",
       "      <td>0.000000</td>\n",
       "      <td>0.000000</td>\n",
       "      <td>0.000000</td>\n",
       "      <td>0.000000</td>\n",
       "      <td>0.000000</td>\n",
       "      <td>0.000000</td>\n",
       "      <td>0.000000</td>\n",
       "      <td>0.000000</td>\n",
       "      <td>0.000000</td>\n",
       "      <td>0.000000</td>\n",
       "      <td>0.00000</td>\n",
       "    </tr>\n",
       "    <tr>\n",
       "      <th>...</th>\n",
       "      <td>...</td>\n",
       "      <td>...</td>\n",
       "      <td>...</td>\n",
       "      <td>...</td>\n",
       "      <td>...</td>\n",
       "      <td>...</td>\n",
       "      <td>...</td>\n",
       "      <td>...</td>\n",
       "      <td>...</td>\n",
       "      <td>...</td>\n",
       "      <td>...</td>\n",
       "      <td>...</td>\n",
       "      <td>...</td>\n",
       "      <td>...</td>\n",
       "      <td>...</td>\n",
       "      <td>...</td>\n",
       "      <td>...</td>\n",
       "      <td>...</td>\n",
       "    </tr>\n",
       "    <tr>\n",
       "      <th>34713</th>\n",
       "      <td>FBtr0114187</td>\n",
       "      <td>CR40502</td>\n",
       "      <td>0.000000</td>\n",
       "      <td>0.000000</td>\n",
       "      <td>0.000000</td>\n",
       "      <td>0.000000</td>\n",
       "      <td>0.000000</td>\n",
       "      <td>0.000000</td>\n",
       "      <td>0.000000</td>\n",
       "      <td>0.000000</td>\n",
       "      <td>0.000000</td>\n",
       "      <td>0.000000</td>\n",
       "      <td>0.000000</td>\n",
       "      <td>0.000000</td>\n",
       "      <td>0.000000</td>\n",
       "      <td>0.000000</td>\n",
       "      <td>0.000000</td>\n",
       "      <td>0.00000</td>\n",
       "    </tr>\n",
       "    <tr>\n",
       "      <th>34714</th>\n",
       "      <td>FBtr0304147</td>\n",
       "      <td>CR40719</td>\n",
       "      <td>0.000000</td>\n",
       "      <td>0.000000</td>\n",
       "      <td>0.000000</td>\n",
       "      <td>0.000000</td>\n",
       "      <td>0.000000</td>\n",
       "      <td>0.000000</td>\n",
       "      <td>0.000000</td>\n",
       "      <td>0.000000</td>\n",
       "      <td>0.000000</td>\n",
       "      <td>0.000000</td>\n",
       "      <td>0.000000</td>\n",
       "      <td>0.000000</td>\n",
       "      <td>0.000000</td>\n",
       "      <td>0.000000</td>\n",
       "      <td>0.000000</td>\n",
       "      <td>0.00000</td>\n",
       "    </tr>\n",
       "    <tr>\n",
       "      <th>34715</th>\n",
       "      <td>FBtr0114216</td>\n",
       "      <td>CR40679</td>\n",
       "      <td>2.011199</td>\n",
       "      <td>0.000000</td>\n",
       "      <td>7.994137</td>\n",
       "      <td>2.064200</td>\n",
       "      <td>3.141665</td>\n",
       "      <td>0.000000</td>\n",
       "      <td>1.519102</td>\n",
       "      <td>9.190801</td>\n",
       "      <td>13.475658</td>\n",
       "      <td>1.771435</td>\n",
       "      <td>4.649351</td>\n",
       "      <td>7.004174</td>\n",
       "      <td>6.904506</td>\n",
       "      <td>0.835856</td>\n",
       "      <td>1.151747</td>\n",
       "      <td>1.98591</td>\n",
       "    </tr>\n",
       "    <tr>\n",
       "      <th>34716</th>\n",
       "      <td>FBtr0114222</td>\n",
       "      <td>CR40743</td>\n",
       "      <td>0.000000</td>\n",
       "      <td>0.000000</td>\n",
       "      <td>0.000000</td>\n",
       "      <td>0.000000</td>\n",
       "      <td>0.000000</td>\n",
       "      <td>0.000000</td>\n",
       "      <td>0.000000</td>\n",
       "      <td>0.000000</td>\n",
       "      <td>0.000000</td>\n",
       "      <td>0.000000</td>\n",
       "      <td>0.000000</td>\n",
       "      <td>0.000000</td>\n",
       "      <td>0.000000</td>\n",
       "      <td>0.000000</td>\n",
       "      <td>0.000000</td>\n",
       "      <td>0.00000</td>\n",
       "    </tr>\n",
       "    <tr>\n",
       "      <th>34717</th>\n",
       "      <td>FBtr0114283</td>\n",
       "      <td>CR41619</td>\n",
       "      <td>0.000000</td>\n",
       "      <td>0.000000</td>\n",
       "      <td>0.000000</td>\n",
       "      <td>0.000000</td>\n",
       "      <td>0.000000</td>\n",
       "      <td>0.000000</td>\n",
       "      <td>0.000000</td>\n",
       "      <td>0.000000</td>\n",
       "      <td>0.000000</td>\n",
       "      <td>0.000000</td>\n",
       "      <td>0.000000</td>\n",
       "      <td>0.000000</td>\n",
       "      <td>0.000000</td>\n",
       "      <td>0.000000</td>\n",
       "      <td>0.000000</td>\n",
       "      <td>0.00000</td>\n",
       "    </tr>\n",
       "  </tbody>\n",
       "</table>\n",
       "<p>34718 rows × 18 columns</p>\n",
       "</div>"
      ],
      "text/plain": [
       "            t_name gene_name    male_10    male_11    male_12    male_13  \\\n",
       "0      FBtr0114258   CR41571   0.000000   0.000000   0.000000   0.000000   \n",
       "1      FBtr0346770   CG45784   0.000000   0.000000   0.000000   0.000000   \n",
       "2      FBtr0302440   CR12798   0.000000   0.000000   0.000000   0.000000   \n",
       "3      FBtr0302347   CR40182  23.712564  11.967821  20.767498  13.566818   \n",
       "4      FBtr0346769   CG45783   0.000000   0.000000   0.000000   0.000000   \n",
       "...            ...       ...        ...        ...        ...        ...   \n",
       "34713  FBtr0114187   CR40502   0.000000   0.000000   0.000000   0.000000   \n",
       "34714  FBtr0304147   CR40719   0.000000   0.000000   0.000000   0.000000   \n",
       "34715  FBtr0114216   CR40679   2.011199   0.000000   7.994137   2.064200   \n",
       "34716  FBtr0114222   CR40743   0.000000   0.000000   0.000000   0.000000   \n",
       "34717  FBtr0114283   CR41619   0.000000   0.000000   0.000000   0.000000   \n",
       "\n",
       "        male_14A   male_14B   male_14C   male_14D  female_10  female_11  \\\n",
       "0       0.000000   0.000000   0.000000   0.000000   0.000000   0.000000   \n",
       "1       0.000000   0.000000   0.000000   0.000000   0.000000   0.000000   \n",
       "2       0.000000   0.000000   0.000000   0.000000   0.000000   0.000000   \n",
       "3      18.802116  26.802691  22.819895  11.682728  21.894249  13.922059   \n",
       "4       0.000000   0.000000   0.000000   0.000000   0.000000   0.000000   \n",
       "...          ...        ...        ...        ...        ...        ...   \n",
       "34713   0.000000   0.000000   0.000000   0.000000   0.000000   0.000000   \n",
       "34714   0.000000   0.000000   0.000000   0.000000   0.000000   0.000000   \n",
       "34715   3.141665   0.000000   1.519102   9.190801  13.475658   1.771435   \n",
       "34716   0.000000   0.000000   0.000000   0.000000   0.000000   0.000000   \n",
       "34717   0.000000   0.000000   0.000000   0.000000   0.000000   0.000000   \n",
       "\n",
       "       female_12  female_13  female_14A  female_14B  female_14C  female_14D  \n",
       "0       0.000000   0.000000    0.000000    0.000000    0.000000     0.00000  \n",
       "1       0.000000   0.000000    0.000000    0.000000    0.000000     0.00000  \n",
       "2       0.000000   0.000000    0.000000    0.000000    0.000000     0.00000  \n",
       "3      16.482141  12.622680   31.800016   22.883186   14.330216    17.20257  \n",
       "4       0.000000   0.000000    0.000000    0.000000    0.000000     0.00000  \n",
       "...          ...        ...         ...         ...         ...         ...  \n",
       "34713   0.000000   0.000000    0.000000    0.000000    0.000000     0.00000  \n",
       "34714   0.000000   0.000000    0.000000    0.000000    0.000000     0.00000  \n",
       "34715   4.649351   7.004174    6.904506    0.835856    1.151747     1.98591  \n",
       "34716   0.000000   0.000000    0.000000    0.000000    0.000000     0.00000  \n",
       "34717   0.000000   0.000000    0.000000    0.000000    0.000000     0.00000  \n",
       "\n",
       "[34718 rows x 18 columns]"
      ]
     },
     "execution_count": 3,
     "metadata": {},
     "output_type": "execute_result"
    }
   ],
   "source": [
    "df_fpkms = pd.read_csv( \"../../qbb2021/data/fpkms.csv\" )\n",
    "df_fpkms"
   ]
  },
  {
   "cell_type": "markdown",
   "id": "ee8944d1",
   "metadata": {},
   "source": [
    "# Check, report, subset"
   ]
  },
  {
   "cell_type": "code",
   "execution_count": 4,
   "id": "644b2646",
   "metadata": {},
   "outputs": [
    {
     "data": {
      "text/plain": [
       "pandas.core.frame.DataFrame"
      ]
     },
     "execution_count": 4,
     "metadata": {},
     "output_type": "execute_result"
    }
   ],
   "source": [
    "type( df_fpkms )"
   ]
  },
  {
   "cell_type": "code",
   "execution_count": 5,
   "id": "c76e926f",
   "metadata": {},
   "outputs": [
    {
     "data": {
      "text/plain": [
       "(34718, 18)"
      ]
     },
     "execution_count": 5,
     "metadata": {},
     "output_type": "execute_result"
    }
   ],
   "source": [
    "df_fpkms.shape"
   ]
  },
  {
   "cell_type": "code",
   "execution_count": 6,
   "id": "ccace333",
   "metadata": {},
   "outputs": [
    {
     "data": {
      "text/plain": [
       "0        FBtr0114258\n",
       "1        FBtr0346770\n",
       "2        FBtr0302440\n",
       "3        FBtr0302347\n",
       "4        FBtr0346769\n",
       "            ...     \n",
       "34713    FBtr0114187\n",
       "34714    FBtr0304147\n",
       "34715    FBtr0114216\n",
       "34716    FBtr0114222\n",
       "34717    FBtr0114283\n",
       "Name: t_name, Length: 34718, dtype: object"
      ]
     },
     "execution_count": 6,
     "metadata": {},
     "output_type": "execute_result"
    }
   ],
   "source": [
    "df_fpkms.loc[:,\"t_name\"]"
   ]
  },
  {
   "cell_type": "code",
   "execution_count": 7,
   "id": "ca31775e",
   "metadata": {},
   "outputs": [
    {
     "data": {
      "text/html": [
       "<div>\n",
       "<style scoped>\n",
       "    .dataframe tbody tr th:only-of-type {\n",
       "        vertical-align: middle;\n",
       "    }\n",
       "\n",
       "    .dataframe tbody tr th {\n",
       "        vertical-align: top;\n",
       "    }\n",
       "\n",
       "    .dataframe thead th {\n",
       "        text-align: right;\n",
       "    }\n",
       "</style>\n",
       "<table border=\"1\" class=\"dataframe\">\n",
       "  <thead>\n",
       "    <tr style=\"text-align: right;\">\n",
       "      <th></th>\n",
       "      <th>t_name</th>\n",
       "      <th>gene_name</th>\n",
       "      <th>male_10</th>\n",
       "    </tr>\n",
       "  </thead>\n",
       "  <tbody>\n",
       "    <tr>\n",
       "      <th>0</th>\n",
       "      <td>FBtr0114258</td>\n",
       "      <td>CR41571</td>\n",
       "      <td>0.000000</td>\n",
       "    </tr>\n",
       "    <tr>\n",
       "      <th>1</th>\n",
       "      <td>FBtr0346770</td>\n",
       "      <td>CG45784</td>\n",
       "      <td>0.000000</td>\n",
       "    </tr>\n",
       "    <tr>\n",
       "      <th>2</th>\n",
       "      <td>FBtr0302440</td>\n",
       "      <td>CR12798</td>\n",
       "      <td>0.000000</td>\n",
       "    </tr>\n",
       "    <tr>\n",
       "      <th>3</th>\n",
       "      <td>FBtr0302347</td>\n",
       "      <td>CR40182</td>\n",
       "      <td>23.712564</td>\n",
       "    </tr>\n",
       "    <tr>\n",
       "      <th>4</th>\n",
       "      <td>FBtr0346769</td>\n",
       "      <td>CG45783</td>\n",
       "      <td>0.000000</td>\n",
       "    </tr>\n",
       "  </tbody>\n",
       "</table>\n",
       "</div>"
      ],
      "text/plain": [
       "        t_name gene_name    male_10\n",
       "0  FBtr0114258   CR41571   0.000000\n",
       "1  FBtr0346770   CG45784   0.000000\n",
       "2  FBtr0302440   CR12798   0.000000\n",
       "3  FBtr0302347   CR40182  23.712564\n",
       "4  FBtr0346769   CG45783   0.000000"
      ]
     },
     "execution_count": 7,
     "metadata": {},
     "output_type": "execute_result"
    }
   ],
   "source": [
    "df_fpkms.iloc[0:5,0:3]"
   ]
  },
  {
   "cell_type": "markdown",
   "id": "996a9ff6",
   "metadata": {},
   "source": [
    "# Manipulate data in arrays\n",
    "\n",
    "- Documentation > API Reference > Routines -- https://numpy.org"
   ]
  },
  {
   "cell_type": "code",
   "execution_count": 8,
   "id": "eae1cdc6",
   "metadata": {},
   "outputs": [
    {
     "data": {
      "image/png": "[encoded data removed]",
      "text/plain": [
       "<Figure size 432x288 with 3 Axes>"
      ]
     },
     "metadata": {
      "needs_background": "light"
     },
     "output_type": "display_data"
    }
   ],
   "source": [
    "x = df_fpkms.loc[:,\"male_10\"]\n",
    "x_log2 = np.log2( x+1 )\n",
    "x_plus1mil = x+1000000\n",
    "\n",
    "fig, axs = plt.subplots( ncols=3 )\n",
    "axs[0].hist( x )\n",
    "axs[1].hist( x_log2 )\n",
    "axs[2].hist( x_plus1mil )\n",
    "plt.show()"
   ]
  },
  {
   "cell_type": "markdown",
   "id": "aad75f03",
   "metadata": {},
   "source": [
    "# Access DataFrame parts"
   ]
  },
  {
   "cell_type": "code",
   "execution_count": 9,
   "id": "3df6d896",
   "metadata": {},
   "outputs": [
    {
     "data": {
      "text/plain": [
       "Index(['t_name', 'gene_name', 'male_10', 'male_11', 'male_12', 'male_13',\n",
       "       'male_14A', 'male_14B', 'male_14C', 'male_14D', 'female_10',\n",
       "       'female_11', 'female_12', 'female_13', 'female_14A', 'female_14B',\n",
       "       'female_14C', 'female_14D'],\n",
       "      dtype='object')"
      ]
     },
     "execution_count": 9,
     "metadata": {},
     "output_type": "execute_result"
    }
   ],
   "source": [
    "df_fpkms.columns"
   ]
  },
  {
   "cell_type": "code",
   "execution_count": 10,
   "id": "037ef53b",
   "metadata": {},
   "outputs": [
    {
     "data": {
      "text/plain": [
       "RangeIndex(start=0, stop=34718, step=1)"
      ]
     },
     "execution_count": 10,
     "metadata": {},
     "output_type": "execute_result"
    }
   ],
   "source": [
    "df_fpkms.index"
   ]
  },
  {
   "cell_type": "code",
   "execution_count": 11,
   "id": "11d71a2a",
   "metadata": {},
   "outputs": [
    {
     "data": {
      "text/plain": [
       "array([['FBtr0114258', 'CR41571', 0.0, ..., 0.0, 0.0, 0.0],\n",
       "       ['FBtr0346770', 'CG45784', 0.0, ..., 0.0, 0.0, 0.0],\n",
       "       ['FBtr0302440', 'CR12798', 0.0, ..., 0.0, 0.0, 0.0],\n",
       "       ...,\n",
       "       ['FBtr0114216', 'CR40679', 2.011199, ..., 0.8358559999999999,\n",
       "        1.151747, 1.98591],\n",
       "       ['FBtr0114222', 'CR40743', 0.0, ..., 0.0, 0.0, 0.0],\n",
       "       ['FBtr0114283', 'CR41619', 0.0, ..., 0.0, 0.0, 0.0]], dtype=object)"
      ]
     },
     "execution_count": 11,
     "metadata": {},
     "output_type": "execute_result"
    }
   ],
   "source": [
    "df_fpkms.values"
   ]
  },
  {
   "cell_type": "markdown",
   "id": "f680a45b",
   "metadata": {},
   "source": [
    "# Plot two samples"
   ]
  },
  {
   "cell_type": "code",
   "execution_count": 12,
   "id": "3123d81c",
   "metadata": {},
   "outputs": [],
   "source": [
    "x = df_fpkms.loc[:,\"male_10\"]\n",
    "y = df_fpkms.loc[:,\"female_14D\"]"
   ]
  },
  {
   "cell_type": "code",
   "execution_count": 13,
   "id": "34befb66",
   "metadata": {},
   "outputs": [
    {
     "data": {
      "image/png": "[encoded data removed]",
      "text/plain": [
       "<Figure size 432x288 with 1 Axes>"
      ]
     },
     "metadata": {
      "needs_background": "light"
     },
     "output_type": "display_data"
    }
   ],
   "source": [
    "fig, ax = plt.subplots()\n",
    "ax.plot( x, y )\n",
    "plt.show()"
   ]
  },
  {
   "cell_type": "markdown",
   "id": "1a1af829",
   "metadata": {},
   "source": [
    "# Improve plot?\n",
    "\n",
    "- Plotting > Basic -- https://matplotlib.org/stable/api/axes_api.html"
   ]
  },
  {
   "cell_type": "code",
   "execution_count": 14,
   "id": "8c9a8b0e",
   "metadata": {},
   "outputs": [],
   "source": [
    "x = df_fpkms.loc[:,\"male_10\"]\n",
    "x = np.log2(x+1)\n",
    "y = df_fpkms.loc[:,\"female_14D\"]\n",
    "y = np.log2(y+1)\n",
    "\n",
    "x2 = np.log2( df_fpkms.loc[:,\"male_10\"] + 1 )\n",
    "y2 = np.log2( df_fpkms.loc[:,\"female_10\"] + 1 )"
   ]
  },
  {
   "cell_type": "code",
   "execution_count": 15,
   "id": "f8ca44b9",
   "metadata": {},
   "outputs": [
    {
     "data": {
      "image/png": "[encoded data removed]",
      "text/plain": [
       "<Figure size 432x288 with 2 Axes>"
      ]
     },
     "metadata": {
      "needs_background": "light"
     },
     "output_type": "display_data"
    }
   ],
   "source": [
    "fig, axs = plt.subplots( ncols=2 )\n",
    "axs[0].scatter( x, y, s=0.1 )\n",
    "axs[1].scatter( x2, y2, s=0.1 )\n",
    "plt.show()"
   ]
  },
  {
   "cell_type": "code",
   "execution_count": null,
   "id": "c7299315",
   "metadata": {},
   "outputs": [],
   "source": []
  }
 ],
 "metadata": {
  "kernelspec": {
   "display_name": "Python 3 (ipykernel)",
   "language": "python",
   "name": "python3"
  },
  "language_info": {
   "codemirror_mode": {
    "name": "ipython",
    "version": 3
   },
   "file_extension": ".py",
   "mimetype": "text/x-python",
   "name": "python",
   "nbconvert_exporter": "python",
   "pygments_lexer": "ipython3",
   "version": "3.9.6"
  }
 },
 "nbformat": 4,
 "nbformat_minor": 5
}
