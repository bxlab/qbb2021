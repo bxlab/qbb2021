{
 "cells": [
  {
   "cell_type": "markdown",
   "metadata": {},
   "source": [
    "# Numpy\n",
    "\n",
    "Numpy is a very powerful set of modules for doing numerical operations and manipulations in python. More specifically, numpy is all about multi-dimensional arrays. Also, numpy can replace panda dataframes.\n",
    "\n",
    "### Array creation\n",
    "\n",
    "First, let's look at creating some arrays with numpy."
   ]
  },
  {
   "cell_type": "code",
   "execution_count": null,
   "metadata": {},
   "outputs": [],
   "source": [
    "# Array creating, zeros, ones, empty, full, array\n",
    "import numpy\n",
    "\n",
    "one = numpy.ones(5, int)\n",
    "print(one)\n",
    "\n",
    "zero = numpy.zeros(5, float)\n",
    "print(zero)\n",
    "\n",
    "empty = numpy.empty([5,2])\n",
    "print(empty)\n",
    "\n",
    "full = numpy.full([2, 2], 5, int)\n",
    "print(full)\n",
    "\n",
    "arange = numpy.arange(10)\n",
    "print(arange)\n",
    "\n",
    "arr = numpy.array([[1, 2, 3], [4, 5, 6]], int)\n",
    "print(arr)"
   ]
  },
  {
   "cell_type": "markdown",
   "metadata": {},
   "source": [
    "Just like other python classes, numpy arrays have several attributes that we can look at."
   ]
  },
  {
   "cell_type": "code",
   "execution_count": null,
   "metadata": {},
   "outputs": [],
   "source": [
    "# Array attributes dtype, shape, size\n",
    "print(arr.dtype)\n",
    "print(arr.shape)\n",
    "print(arr.size)"
   ]
  },
  {
   "cell_type": "markdown",
   "metadata": {},
   "source": [
    "### Indexing\n",
    "\n",
    "Okay, but how do I get information from or put information into my array?"
   ]
  },
  {
   "cell_type": "code",
   "execution_count": null,
   "metadata": {},
   "outputs": [],
   "source": [
    "# Indexing an array\n",
    "arr[0, 0] = 100\n",
    "print(arr[0, 0])\n",
    "\n",
    "arr[:, 0] = 101\n",
    "print(arr)\n",
    "\n",
    "arr[(0, 1, 0), (0, 1, 2)] = 9\n",
    "print(arr)\n",
    "\n",
    "arr[(0, 1, 0), 0] = 10\n",
    "print(arr)\n",
    "\n",
    "print(arr[0, :], type(arr[0, :]))\n",
    "\n",
    "arr[-1, -2:] = 50\n",
    "print(arr)\n",
    "\n",
    "print(numpy.arange(10)[::-2])"
   ]
  },
  {
   "cell_type": "markdown",
   "metadata": {},
   "source": [
    "### Where\n",
    "\n",
    "We can also perform operations on the entire array without having to loop through it. Let's find out which numbers between 0 and 99 are divisible by 7."
   ]
  },
  {
   "cell_type": "code",
   "execution_count": null,
   "metadata": {},
   "outputs": [],
   "source": [
    "# Create an arange array and check %7==0\n",
    "A = numpy.arange(100)\n",
    "mask = (A % 7) == 0\n",
    "print(mask)\n",
    "\n",
    "where = numpy.where(mask)\n",
    "print(where)\n",
    "\n",
    "A = A.reshape(2, -1)\n",
    "print(A.shape)\n",
    "where = numpy.where((A % 7) == 0)\n",
    "print(where)"
   ]
  },
  {
   "cell_type": "markdown",
   "metadata": {},
   "source": [
    "### Reshaping\n",
    "\n",
    "We can also easily create a 1D array with either the `flatten` or `ravel` methods. The difference is that flatten returns a copy of the array while ravel creates a new *view* of the array (it doesn't touch the data but defines how to take indexing values and map them to data). This means that you can still change data in the original view of a raveled array and see those changes reflected in raveled view."
   ]
  },
  {
   "cell_type": "code",
   "execution_count": null,
   "metadata": {},
   "outputs": [],
   "source": [
    "A = numpy.arange(100).reshape(10, 10)\n",
    "A_flat = A.flatten()\n",
    "A_ravel = A.ravel()\n",
    "A[0, :10] = 0\n",
    "print(A_flat)\n",
    "print(\"\")\n",
    "print(A_ravel)"
   ]
  },
  {
   "cell_type": "markdown",
   "metadata": {},
   "source": [
    "There is the question of how does numpy decide how to flatten data. The answer is that there are two standards, C (join rows) and Fortran-like (join columns). Numpy defaults to C but you can specify either.\n",
    "\n",
    "### Loading from text file\n",
    "\n",
    "Now let's try something more pratical. Let's say we have a set of genes and enhancers and we want to know all of the enhancer-gene pairs that fall within 1000 bases."
   ]
  },
  {
   "cell_type": "code",
   "execution_count": null,
   "metadata": {},
   "outputs": [],
   "source": [
    "# Load gene and enhancer coordinates and find distances\n",
    "genes = numpy.loadtxt(\"genes.txt\", dtype=int)\n",
    "enhancers = numpy.loadtxt(\"enhancers.txt\", dtype=int)"
   ]
  },
  {
   "cell_type": "markdown",
   "metadata": {},
   "source": [
    "### Broadcasting\n",
    "\n",
    "Now lets introduce the concept of *broadcasting*. Broadcasting is implicitly altering the shape(s) of arrays to match."
   ]
  },
  {
   "cell_type": "code",
   "execution_count": null,
   "metadata": {},
   "outputs": [],
   "source": [
    "dist = numpy.abs(genes.reshape(-1, 1) - enhancers.reshape(1, -1))\n",
    "where = numpy.where(dist <= 1000)\n",
    "print(where)"
   ]
  },
  {
   "cell_type": "markdown",
   "metadata": {},
   "source": [
    "### Binary search\n",
    "\n",
    "Can we use numpy to more easily solve the binary search problem? Yes! The method `searchsorted` actually uses a binary search algorithm."
   ]
  },
  {
   "cell_type": "code",
   "execution_count": null,
   "metadata": {},
   "outputs": [],
   "source": [
    "# Let's find the position of enhancer8\n",
    "pos = enhancers[8]\n",
    "index = numpy.searchsorted(genes, pos)\n",
    "print(index)\n",
    "print(pos - genes[10], genes[11] - pos)"
   ]
  },
  {
   "cell_type": "markdown",
   "metadata": {},
   "source": [
    "In fact, we can actually solve the problem of gene-enhancer pairs <= 1000bp without doing all of the comparisons. Let's see how:"
   ]
  },
  {
   "cell_type": "code",
   "execution_count": null,
   "metadata": {},
   "outputs": [],
   "source": [
    "gene_starts = numpy.searchsorted(genes + 1000, enhancers)\n",
    "gene_ends = numpy.searchsorted(genes - 1000, enhancers)\n",
    "for i in range(enhancers.shape[0]):\n",
    "    print(i, list(range(gene_starts[i], gene_ends[i])))\n"
   ]
  },
  {
   "cell_type": "markdown",
   "metadata": {},
   "source": [
    "### Structured arrays\n",
    "\n",
    "But, what if I have different types of data in my file, not just all ints, or all floats? Can I still load it? You sure can."
   ]
  },
  {
   "cell_type": "code",
   "execution_count": null,
   "metadata": {},
   "outputs": [],
   "source": [
    "a=numpy.loadtxt(\"test.txt\", dtype=numpy.dtype([('ints', int), ('floats', float), (\"chars\", \"<U1\")]))\n",
    "print(a)\n",
    "print(a['ints'])\n",
    "print(a[2])"
   ]
  },
  {
   "cell_type": "markdown",
   "metadata": {},
   "source": [
    "### npy and npz files\n",
    "\n",
    "Can I avoid having to convert back and forth from text to integers, floats? Why, yes, you can. Numpy allows you to save arrays exactly as they are encoded so it's fast to save and load them. The only downside is that you can't easily look at them with a text editor. You're also not limited to a single array"
   ]
  },
  {
   "cell_type": "code",
   "execution_count": null,
   "metadata": {},
   "outputs": [],
   "source": [
    "numpy.save(\"test.npy\", a)\n",
    "b = numpy.load(\"test.npy\")\n",
    "print(b)\n",
    "numpy.savez(\"test.npz\",a=b, b=numpy.ones(3,int))\n",
    "#numpy.savez(\"test.npz\",**{\"a\":b, \"b\":numpy.ones(3,int)})\n",
    "c = numpy.load(\"test.npz\")\n",
    "print(c[\"b\"])"
   ]
  },
  {
   "cell_type": "markdown",
   "metadata": {},
   "source": [
    "### uFuncs\n",
    "\n",
    "One thing that numpy excels at is being crazy fast with math operations on a matrix. That's because it uses compiled code to perform the operations, rather than sluggish Python. The result is that your python can approach C speeds if you are using numpy for everything and avoiding loops. These compiled functions are called *uFuncs* and are accessed with standard math operators. However, the one requirement for numpy to use a uFunc is that the arrays need to be of the same data type."
   ]
  },
  {
   "cell_type": "code",
   "execution_count": null,
   "metadata": {},
   "outputs": [],
   "source": [
    "from timeit import timeit\n",
    "a = numpy.ones((5,5),int)\n",
    "b = numpy.zeros((5,5),int)\n",
    "c = numpy.zeros((5,5),float)\n",
    "%timeit a + b\n",
    "%timeit a + c"
   ]
  },
  {
   "cell_type": "markdown",
   "metadata": {},
   "source": [
    "### Image data\n",
    "\n",
    "Numpy also provides a nice platform for working with things like image data."
   ]
  },
  {
   "cell_type": "code",
   "execution_count": null,
   "metadata": {},
   "outputs": [],
   "source": [
    "import numpy as np\n",
    "import matplotlib.pyplot as plt\n",
    "\n",
    "image = plt.imread(\"lena.png\")\n",
    "print(image.shape, image.dtype)\n",
    "plt.imshow(image)\n"
   ]
  },
  {
   "cell_type": "code",
   "execution_count": null,
   "metadata": {},
   "outputs": [],
   "source": [
    "from scipy.ndimage import gaussian_filter\n",
    "image2 = gaussian_filter(image, 2.0)\n",
    "plt.imshow(image2)"
   ]
  },
  {
   "cell_type": "code",
   "execution_count": null,
   "metadata": {},
   "outputs": [],
   "source": [
    "# Let's make our own gaussian kernel\n",
    "sigma = 2.0\n",
    "n = int(numpy.ceil(sigma * 4))\n",
    "ax = numpy.linspace(-n, n, n * 2 + 1)\n",
    "kernel1D = numpy.exp(-0.5 * ax ** 2 / sigma ** 2)\n",
    "kernel = kernel1D.reshape(1, -1) * kernel1D.reshape(-1, 1)\n",
    "kernel[numpy.where((ax.reshape(1, -1) ** 2 + ax.reshape(-1, 1) ** 2) ** 0.5 > 4 * sigma)] = 0\n",
    "kernel /= numpy.sum(kernel)\n",
    "print(kernel)"
   ]
  },
  {
   "cell_type": "code",
   "execution_count": null,
   "metadata": {},
   "outputs": [],
   "source": [
    "image3 = numpy.zeros_like(image)\n",
    "total = numpy.zeros((image.shape[0], image.shape[1], 1), image.dtype)\n",
    "for x in range(-n, n + 1):\n",
    "    for y in range(-n, n + 1):\n",
    "        image3[max(0, x):(image.shape[0] + min(0, x)), max(0, y):(image.shape[1] + min(0, y)), :] += (\n",
    "            image[max(0, -x):(image.shape[0] + min(0, -x)), max(0, -y):(image.shape[1] + min(0, -y)), :] *\n",
    "            kernel[x + n, y + n])\n",
    "        total[max(0, x):(image.shape[0] + min(0, x)), max(0, y):(image.shape[1] + min(0, y)), 0] += kernel[x + n, y + n]\n",
    "image3 /= total\n",
    "fig, ax = plt.subplots(1, 2)\n",
    "fig.set_size_inches(12,25, forward=True)\n",
    "ax[0].imshow(image2)\n",
    "ax[1].imshow(image3)\n",
    "plt.show()"
   ]
  },
  {
   "cell_type": "code",
   "execution_count": null,
   "metadata": {},
   "outputs": [],
   "source": []
  }
 ],
 "metadata": {
  "kernelspec": {
   "display_name": "Python 3",
   "language": "python",
   "name": "python3"
  },
  "language_info": {
   "codemirror_mode": {
    "name": "ipython",
    "version": 3
   },
   "file_extension": ".py",
   "mimetype": "text/x-python",
   "name": "python",
   "nbconvert_exporter": "python",
   "pygments_lexer": "ipython3",
   "version": "3.5.0"
  }
 },
 "nbformat": 4,
 "nbformat_minor": 2
}
