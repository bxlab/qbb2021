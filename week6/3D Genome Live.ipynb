{
 "cells": [
  {
   "cell_type": "markdown",
   "metadata": {},
   "source": [
    "## Mapping HiC data\n",
    "\n",
    "First, let's create a reference from just human chromosome 1 (build hg19). So we neet to get that fasta file:\n",
    "\n",
    "```bash\n",
    "wget https://hgdownload.soe.ucsc.edu/goldenPath/hg19/chromosomes/chr1.fa.gz\n",
    "```\n",
    "\n",
    "Then, we'll need to create our index.\n",
    "\n",
    "```bash\n",
    "mkdir index\n",
    "bowtie2-build --threads 7 chr1.fa.gz index/hg19chr1\n",
    "```\n",
    "\n",
    "Now let's fetch our data.\n",
    "\n",
    "```bash\n",
    "wget https://bx.bio.jhu.edu/data/msauria/cmdb-lab/hic_example_reads.tgz\n",
    "tar xzf hic_example_reads.tgz\n",
    "```\n",
    "\n",
    "We should have two fastq files, one for each side of a paired end sequencing run. Now, let's map them.\n",
    "\n",
    "```bash\n",
    "bowtie2 -p 7 -x index/hg19chr1 -1 hic_example_1.fastq -2 hic_example_2.fastq > mapped.sam\n",
    "```\n",
    "\n",
    "And viola, we have mapped reads. No we need to see what they can tell us.\n",
    "\n",
    "## Parsing HiC data\n",
    "\n",
    "Let's load the reads into python and bin them into genomic intervals. Because we're using 2 dimensions (one for the first read and another for the second read), we will use a 2D matrix to keep track of our data. And I can tell you that our coordinate range for these reads is 50Mb-60Mb and we will be using 10Kb bins."
   ]
  },
  {
   "cell_type": "code",
   "execution_count": null,
   "metadata": {},
   "outputs": [],
   "source": [
    "import numpy\n",
    "\n"
   ]
  },
  {
   "cell_type": "markdown",
   "metadata": {},
   "source": [
    "## Plotting HiC data\n",
    "\n",
    "Next, let's plot our data to see what it looks like."
   ]
  },
  {
   "cell_type": "code",
   "execution_count": null,
   "metadata": {},
   "outputs": [],
   "source": [
    "%matplotlib inline\n",
    "import matplotlib.pyplot as plt\n",
    "\n"
   ]
  },
  {
   "cell_type": "code",
   "execution_count": null,
   "metadata": {},
   "outputs": [],
   "source": [
    "# What if we transform the data?\n",
    "\n"
   ]
  },
  {
   "cell_type": "code",
   "execution_count": null,
   "metadata": {},
   "outputs": [],
   "source": [
    "# Alternatively, we could just set a lower maximum value\n",
    "\n"
   ]
  },
  {
   "cell_type": "code",
   "execution_count": null,
   "metadata": {},
   "outputs": [],
   "source": [
    "# Let's zoom in on bins 100-280\n",
    "\n"
   ]
  },
  {
   "cell_type": "markdown",
   "metadata": {},
   "source": [
    "## Adding gene expression data\n",
    "\n",
    "Now let's see how this relates to the genes in the area."
   ]
  },
  {
   "cell_type": "code",
   "execution_count": null,
   "metadata": {},
   "outputs": [],
   "source": []
  },
  {
   "cell_type": "code",
   "execution_count": null,
   "metadata": {},
   "outputs": [],
   "source": [
    "import matplotlib.cm as cm\n",
    "import matplotlib.patches as patches\n",
    "\n",
    "cmap = cm.get_cmap('Reds', 256)\n",
    "\n"
   ]
  },
  {
   "cell_type": "code",
   "execution_count": null,
   "metadata": {},
   "outputs": [],
   "source": [
    "# What about our zoomed in region (100-280)"
   ]
  },
  {
   "cell_type": "code",
   "execution_count": null,
   "metadata": {},
   "outputs": [],
   "source": []
  }
 ],
 "metadata": {
  "kernelspec": {
   "display_name": "Python 3",
   "language": "python",
   "name": "python3"
  },
  "language_info": {
   "codemirror_mode": {
    "name": "ipython",
    "version": 3
   },
   "file_extension": ".py",
   "mimetype": "text/x-python",
   "name": "python",
   "nbconvert_exporter": "python",
   "pygments_lexer": "ipython3",
   "version": "3.5.0"
  }
 },
 "nbformat": 4,
 "nbformat_minor": 2
}
