{
 "cells": [
  {
   "cell_type": "markdown",
   "metadata": {},
   "source": [
    "## Learning objectives\n",
    "\n",
    "\n",
    "1. Running python scripts\n",
    "\n",
    "2. Writing functions\n",
    "\n",
    "3. Understanding assert statements\n",
    "\n",
    "4. Parsing FASTA files\n",
    "\n",
    "5. Writing a k-mer counter\n",
    "\n",
    "---"
   ]
  },
  {
   "cell_type": "markdown",
   "metadata": {},
   "source": [
    "## Running a python script from the command line\n",
    "\n",
    "There are several ways to run a python script from the command line. We have been using one, passing a script to the python program. Alternatively, we can make the script executable itself.\n",
    "\n",
    "```bash\n",
    ">chmod a+rx SCRIPT.py\n",
    "```\n",
    "\n",
    "This means that we can now call our script, either using a direct path to it\n",
    "\n",
    "```bash\n",
    ">./SCRIPT.py\n",
    "```\n",
    "\n",
    "Alternatively, the script could be put into any folder listed in the `PATH` environmental variable.\n",
    "\n",
    "However, running any of the scripts we've seen so far give us an error. Why? The computer doesn't know what language the code is written in so it defaults to the language of the shell you're in (we're in bash). So how do we fix this?\n",
    "\n",
    "### The Shebang!!!\n",
    "\n",
    "The shebang is a special comment at the beginning of the script that tells the computer what environment to run the script in. We can even use it to tell the computer a specific version of python to use."
   ]
  },
  {
   "cell_type": "code",
   "execution_count": null,
   "metadata": {},
   "outputs": [],
   "source": []
  },
  {
   "cell_type": "markdown",
   "metadata": {},
   "source": [
    "Now we can run our script as a stand-alone program and the computer will know how to run it as a python script! The same thing works for any other non-compiled language scripting."
   ]
  },
  {
   "cell_type": "markdown",
   "metadata": {},
   "source": [
    "## Writing functions\n",
    "\n",
    "Anytime that you may want to run the same set of operations more than once, a function is a convenient way to save writing the code over. Functions also allow you to create much more readable and understandable code. Function definitions contain four parts, the word \"def\" to let the interpreter know that you're defining a function, the name of the function, the arguments that the function can take, and the code to execute."
   ]
  },
  {
   "cell_type": "code",
   "execution_count": null,
   "metadata": {},
   "outputs": [],
   "source": []
  },
  {
   "cell_type": "markdown",
   "metadata": {},
   "source": [
    "Arguments to a function have a specific order and the order that you pass thenm to the function will correspond to the order they are given in the function definition. However, you can use the names of the arguments in the function definition to pass arguments in different orders."
   ]
  },
  {
   "cell_type": "code",
   "execution_count": null,
   "metadata": {},
   "outputs": [],
   "source": []
  },
  {
   "cell_type": "markdown",
   "metadata": {},
   "source": [
    "Sometimes you don't need to define every argument everytime you call the function. You can define default values when you define the function. However, you need to put all variables without default values before those with defaults."
   ]
  },
  {
   "cell_type": "code",
   "execution_count": null,
   "metadata": {},
   "outputs": [],
   "source": []
  },
  {
   "cell_type": "markdown",
   "metadata": {},
   "source": [
    "There are two ways that functions can pass back information. The `return` statement will end the function and pass back whatever follows the return. If there is no return statement, then the function returns `None`. The second way is to pass a mutable variable to the function. When a function is called, immutable variables remain unchanged by operations in the function. Mutable variable types, however, allow changes within the function to be maintained after the function call finishes."
   ]
  },
  {
   "cell_type": "code",
   "execution_count": null,
   "metadata": {},
   "outputs": [],
   "source": []
  },
  {
   "cell_type": "markdown",
   "metadata": {},
   "source": [
    "What can we do if we have many different results that we want to return from a function? Given the following function, can you edit the code to return all of the variables that we created within the function?"
   ]
  },
  {
   "cell_type": "code",
   "execution_count": null,
   "metadata": {},
   "outputs": [],
   "source": []
  },
  {
   "cell_type": "markdown",
   "metadata": {},
   "source": [
    "Functions can also be called recursively. That is, a function can call itself. This is very useful for things like traversing a tree. Let's try finding a factorial value."
   ]
  },
  {
   "cell_type": "code",
   "execution_count": null,
   "metadata": {},
   "outputs": [],
   "source": []
  },
  {
   "cell_type": "markdown",
   "metadata": {},
   "source": [
    "If you haven't encountered it by now, one of the quirks about (but not limited to) python is that it is interpreted linearly from top to bottom, which pratically means that you can't refer to anything that hasn't been defined above it, including functions. So, if you have functions but the main part of your code is outside a function, you have tp pay attention to ordering. As you can see, the following doesn't work."
   ]
  },
  {
   "cell_type": "code",
   "execution_count": null,
   "metadata": {},
   "outputs": [],
   "source": [
    "a = some_function()\n",
    "\n",
    "def some_function():\n",
    "    return \"my value\""
   ]
  },
  {
   "cell_type": "markdown",
   "metadata": {},
   "source": [
    "Therefor it is useful to enclose ALL of your code in functions. Traditionally, the main part of your code will occur in the cleverly named `main` function. "
   ]
  },
  {
   "cell_type": "code",
   "execution_count": null,
   "metadata": {},
   "outputs": [],
   "source": []
  },
  {
   "cell_type": "markdown",
   "metadata": {},
   "source": [
    "But, that code doesn't seem to do anything!!! Why not? Can we fix it?"
   ]
  },
  {
   "cell_type": "markdown",
   "metadata": {},
   "source": [
    "## Defensive programming\n",
    "\n",
    "One thing to watch out for is code being executed in a way that you didn't intend. Therefore its important to check that things are what you expect before moving on. "
   ]
  },
  {
   "cell_type": "code",
   "execution_count": null,
   "metadata": {
    "format": "row",
    "scrolled": true
   },
   "outputs": [],
   "source": []
  },
  {
   "cell_type": "markdown",
   "metadata": {},
   "source": [
    "## Parsing a FASTA sequence\n",
    "\n",
    "Now, let's use our new found skills to read in a FASTA file. The FASTA format is used to hold raw sequence. Each sequence begins with a \">\" followed by the name of the sequence. All of the lines following this until then next name line or the end of the file are the sequence associated with that name, broken by line breaks for readability. So, let's break down the steps we'll need to take to read in a FASTA file with a single sequence. And let's do it in a function that accepts a file stream as an argument.\n",
    "\n",
    "### FASTA format\n",
    "\n",
    "\n",
    "<br><div style=\"background: #EEE\"> \\>sequence 1<br> AGATCTCCCTGAGAGAAGAGCTCTCTCTCGA<br> TCTCGGATTACGTAGGCTAGAGAGAGAGCTA<br> TTCAA<br> \\>sequence 2<br> GATCTCGGGATAAAAAAACTGGGATCTGATC<br> ATCTAAAGAGAG </div><br>\n"
   ]
  },
  {
   "cell_type": "markdown",
   "metadata": {},
   "source": [
    "*Write your pseudo-code here*\n"
   ]
  },
  {
   "cell_type": "code",
   "execution_count": null,
   "metadata": {
    "format": "row",
    "scrolled": true
   },
   "outputs": [],
   "source": [
    "# Let's have it accept an open file object\n",
    "# That way it can be passed a file or standard input\n"
   ]
  },
  {
   "cell_type": "code",
   "execution_count": null,
   "metadata": {
    "format": "row",
    "scrolled": true
   },
   "outputs": [],
   "source": []
  },
  {
   "cell_type": "markdown",
   "metadata": {},
   "source": [
    "## Parsing a FASTA file\n",
    "\n",
    "Now that we've read in a single sequence, let's alter that function to read in all of the sequences in a file. How do we need to alter the function?\n"
   ]
  },
  {
   "cell_type": "markdown",
   "metadata": {},
   "source": [
    "*Write your pseudo-code here*\n"
   ]
  },
  {
   "cell_type": "code",
   "execution_count": null,
   "metadata": {
    "format": "row",
    "scrolled": true
   },
   "outputs": [],
   "source": []
  },
  {
   "cell_type": "markdown",
   "metadata": {},
   "source": [
    "To test this, we'll need a FASTA file so copy `/Users/cmdb/qbb2021/data/subset.fa` into the same directory as this notebook."
   ]
  },
  {
   "cell_type": "code",
   "execution_count": null,
   "metadata": {
    "format": "row",
    "scrolled": true
   },
   "outputs": [],
   "source": []
  },
  {
   "cell_type": "markdown",
   "metadata": {},
   "source": [
    "## K-mer counting\n",
    "\n",
    "A k-mer is an arbitrary length sequence. One characteristic of genomes is that some k-mers are reused often while others are rare or absent. This can allow us to distinguish different species by k-mer distributions, identify copy numnber variation, repeat expansions or contractions, etc. It is also used in sequene alignment. Now that we've got a function for reading in sequences, let's break those sequences down into k-mers and count the occurance of each k-mer. But, what steps do we need to do this?"
   ]
  },
  {
   "cell_type": "markdown",
   "metadata": {},
   "source": [
    "*Write your pseudo-code here*"
   ]
  },
  {
   "cell_type": "code",
   "execution_count": null,
   "metadata": {
    "format": "row",
    "scrolled": true
   },
   "outputs": [],
   "source": []
  },
  {
   "cell_type": "markdown",
   "metadata": {},
   "source": [
    "While it is useful to know the distribution of k-mers for a set of sequences, there are some applications like sequence alignment that you also need to know the position. Since we have seen that some k-mers occur more than once, we need to be able to hold multiple positions for each k-mer. What changes to the above code do we need to make to hold the locations of each k-mer?"
   ]
  },
  {
   "cell_type": "code",
   "execution_count": null,
   "metadata": {},
   "outputs": [],
   "source": []
  }
 ],
 "metadata": {
  "kernelspec": {
   "display_name": "Python 3",
   "language": "python",
   "name": "python3"
  },
  "language_info": {
   "codemirror_mode": {
    "name": "ipython",
    "version": 3
   },
   "file_extension": ".py",
   "mimetype": "text/x-python",
   "name": "python",
   "nbconvert_exporter": "python",
   "pygments_lexer": "ipython3",
   "version": "3.5.0"
  },
  "toc": {
   "base_numbering": 1,
   "nav_menu": {},
   "number_sections": false,
   "sideBar": true,
   "skip_h1_title": false,
   "title_cell": "Table of Contents",
   "title_sidebar": "Contents",
   "toc_cell": false,
   "toc_postion": {},
   "toc_section_display": true,
   "toc_window_display": true
  }
 },
 "nbformat": 4,
 "nbformat_minor": 4
}
