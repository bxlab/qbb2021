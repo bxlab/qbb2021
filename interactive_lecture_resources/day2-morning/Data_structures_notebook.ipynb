{
 "cells": [
  {
   "cell_type": "markdown",
   "metadata": {},
   "source": [
    "## Learning objectives\n",
    "\n",
    "\n",
    "1. Python data structures\n",
    "\n",
    "2. Nesting data structures\n",
    "\n",
    "3. Copying data structures\n",
    "\n",
    "4. Using dictionary methods to access data\n",
    "\n",
    "5. Importing modules and getting command line arguments\n",
    "\n",
    "6. Applying data structures in \"for\" loops\n",
    "\n",
    "---\n"
   ]
  },
  {
   "cell_type": "markdown",
   "metadata": {},
   "source": [
    "## Python data structures\n",
    "\n",
    "So far, we've talked about loops. Now let's look at the other three data structures python offers.\n",
    "\n",
    "- tuples\n",
    "- sets\n",
    "- dictionaries\n",
    "\n",
    "### Tuples\n",
    "\n",
    "Tuples are a lot like lists in that they're ordered and can hold anything, but unlike lists, once they're created thay can't be changed. We define a tuple using parantheses - () or the funtion tuple(), which takes a list as an argument. If the tuple only contains 1 item, you need a comma after it - (X,)."
   ]
  },
  {
   "cell_type": "code",
   "execution_count": null,
   "metadata": {},
   "outputs": [],
   "source": [
    "A = (1, 2, 3)\n",
    "\n",
    "# What happens if we try to assign a new item to A[1]?\n"
   ]
  },
  {
   "cell_type": "markdown",
   "metadata": {},
   "source": [
    "Tuples are good for things that you don't want or need to change. We'll see a good example in a moment of such a use case. Just like lists, you can find out the number of entries with `len`"
   ]
  },
  {
   "cell_type": "code",
   "execution_count": null,
   "metadata": {},
   "outputs": [],
   "source": [
    "A = (1, 2, 3)\n"
   ]
  },
  {
   "cell_type": "markdown",
   "metadata": {},
   "source": [
    "### Sets\n",
    "\n",
    "A set is a collections of immutable or \"hashable\" objects. This means that the objects cannot be able to be changed once created. Sets are unordered but have really fast lookup. They also have set-specific operations like intersect and union. Sets are defined using the function set() with nothing or a list or tuple for an argument."
   ]
  },
  {
   "cell_type": "code",
   "execution_count": null,
   "metadata": {},
   "outputs": [],
   "source": [
    "A = set([1, 2, 3])\n",
    "\n",
    "# We can check if the set contains something with \"in\"\n",
    "\n",
    "\n",
    "# We can add things to the set with the \"add\" method\n",
    "\n",
    "\n",
    "# We can remove things using the \"remove\" method\n",
    "\n",
    "\n",
    "# We can convert to a list, but the order cannot be counted on\n",
    "\n",
    "\n",
    "# But what if we put in a mutable object?\n"
   ]
  },
  {
   "attachments": {
    "Hash_table_5_0_1_1_1_1_1_LL.svg": {
     "image/svg+xml": [
      "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"
     ]
    }
   },
   "cell_type": "markdown",
   "metadata": {},
   "source": [
    "Sets use a hash table.\n",
    "![Hash_table_5_0_1_1_1_1_1_LL.svg](attachment:Hash_table_5_0_1_1_1_1_1_LL.svg)"
   ]
  },
  {
   "cell_type": "markdown",
   "metadata": {},
   "source": [
    "### Dictionaries\n",
    "\n",
    "A dictionary is a collection of key and value pairs. Keys can be anything immutable and values can be anything. Dictionaries are unordered but have also have fast lookup because they also use a hash table. Dictionaries are defined using squiggly brackets - {}, or dict()"
   ]
  },
  {
   "cell_type": "code",
   "execution_count": null,
   "metadata": {},
   "outputs": [],
   "source": [
    "A = {1: \"a\", \"b\": 2}\n",
    "\n",
    "# We can add to a dictionary by defining a new value for a key\n",
    "\n",
    "\n",
    "# We can remove a value using \"del\"\n",
    "\n",
    "\n",
    "# Also, dictionaries can use \"pop\"\n",
    "\n",
    "\n",
    "# We can check for a key with \"in\"\n",
    "\n",
    "\n",
    "# If we want a list-like object for a key, convert to tuple\n",
    "\n",
    "\n",
    "# We can also extract keys, values, or both from a dictionary\n",
    "# We need to convert to list if not using in a for loop\n",
    "\n",
    "\n",
    "# One other really useful method for dictionaries, setdefault()\n",
    "\n",
    "\n",
    "# Along those lines, we can use the method \"get\" if we want a default value if the key is missing\n"
   ]
  },
  {
   "cell_type": "markdown",
   "metadata": {},
   "source": [
    "## Importing modules\n",
    "\n",
    "Modules are collections of code that someone has written and can be brought into your project and used. They can give you access to functions, classes and variables. There are several very useful modules builtin to python. We've already used `copy`. Now let's look at one that you will use in almost every script, `sys`."
   ]
  },
  {
   "cell_type": "code",
   "execution_count": null,
   "metadata": {},
   "outputs": [],
   "source": [
    "import sys\n",
    "\n",
    "# In order to use things in sys, we need to use sys.\n",
    "print(type(sys.stdout))\n",
    "\n",
    "# We could also use from sys import to get a specific object or objects\n",
    "from sys import stdout\n",
    "print(type(stdout))\n",
    "      \n",
    "# We can also rename the module within our program\n",
    "import sys as mysys\n",
    "print(type(mysys.stdout))"
   ]
  },
  {
   "cell_type": "markdown",
   "metadata": {},
   "source": [
    "Now, writing a program to run without being able to pass it different information each time is of limited use. Let's see how to get values given as arguments when running the program.\n",
    "`sys.argv` is a list containing all of the arguments on the command line starting with the python script name. So, to get arguments passed to the script, you can copy it from `sys.argv`."
   ]
  },
  {
   "cell_type": "code",
   "execution_count": null,
   "metadata": {
    "scrolled": false
   },
   "outputs": [],
   "source": [
    "import sys\n",
    "arguments = list(sys.argv)\n",
    "print(arguments)"
   ]
  },
  {
   "cell_type": "markdown",
   "metadata": {},
   "source": [
    "## A little more about \"for\" loops\n",
    "\n",
    "\n",
    "Because `for` loops are such a critical tool in python, let's make sure that we understand them. A for loop does one thing. Takes items from an ordered set of objects and puts them one at a time into a variable that can then be used in the body of the for loop.\n",
    "\n",
    "\n",
    "The ordered set of objects can be a list, a tuple, the characters of a string, or an iterator. An iterator is just like a list that doesn't hold everything in memory at once but fetches or creates the next item when it is needed. We've seen two iterators so far, `range` and filehandles.\n",
    "\n"
   ]
  },
  {
   "cell_type": "code",
   "execution_count": null,
   "metadata": {
    "format": "row",
    "scrolled": true
   },
   "outputs": [],
   "source": [
    "A = ['a', 'b', 'c']\n"
   ]
  },
  {
   "cell_type": "markdown",
   "metadata": {},
   "source": [
    "The basic syntax of the for loop doesn't change, regardless of what you are looping over. You just need the statement `for`, a variable to put values in, the keyword `in`, the ordered set of objects, and the colon to indicate the beginning of the body of the for loop. Just be careful not to change the length of the ordered set of items you are looping through in your for loop, as this can cause errors.\n",
    "\n",
    "For loops can also implicitly unpack things, i.e. take a variable that contains multiple ordered entries and assign each to a different variable."
   ]
  },
  {
   "cell_type": "code",
   "execution_count": null,
   "metadata": {},
   "outputs": [],
   "source": [
    "A = [(\"a\", 1), [\"b\", 2]]\n"
   ]
  },
  {
   "cell_type": "markdown",
   "metadata": {},
   "source": [
    "## Combining tuples and lists\n",
    "\n",
    "\n",
    "As we saw, tuples are immutable, meaning that they can't be changed once created. However, we also saw that when you create a list, what you have really created is a reference to the chain of items in the list. So, what happens when you have a list in a tuple?\n",
    "\n",
    "\n"
   ]
  },
  {
   "cell_type": "code",
   "execution_count": null,
   "metadata": {
    "format": "row",
    "scrolled": true
   },
   "outputs": [],
   "source": [
    "L = [1,2,3]\n",
    "T1 = (L, 'A', 'B')\n",
    "print(T1)"
   ]
  },
  {
   "cell_type": "markdown",
   "metadata": {},
   "source": [
    "But, what happens if we try to change something in the list? A list is mutable, but it is contained in a tuple, which isn't.\n",
    "\n",
    "\n"
   ]
  },
  {
   "cell_type": "code",
   "execution_count": null,
   "metadata": {
    "format": "row",
    "scrolled": true
   },
   "outputs": [],
   "source": []
  },
  {
   "cell_type": "markdown",
   "metadata": {},
   "source": [
    "Okay, it works! That is because the reference isn't changing.\n",
    "\n",
    "\n",
    "## Shallow and deep copy\n",
    "\n",
    "\n",
    "We've seen how data structures can be nested. Now what if we need to have two copies of them?\n",
    "\n",
    "\n"
   ]
  },
  {
   "cell_type": "code",
   "execution_count": null,
   "metadata": {
    "format": "row",
    "scrolled": true
   },
   "outputs": [],
   "source": []
  },
  {
   "cell_type": "markdown",
   "metadata": {},
   "source": [
    "But if we alter the list of T1, what happens to T2?\n",
    "\n",
    "\n"
   ]
  },
  {
   "cell_type": "code",
   "execution_count": null,
   "metadata": {
    "format": "row",
    "scrolled": true
   },
   "outputs": [],
   "source": []
  },
  {
   "cell_type": "markdown",
   "metadata": {},
   "source": [
    "What we have done is make a shallow copy. If we need to make a copy of all of the elements, including the list, we need to make a deep copy. To do this, we could do it manually.\n",
    "\n",
    "\n"
   ]
  },
  {
   "cell_type": "code",
   "execution_count": null,
   "metadata": {
    "format": "row",
    "scrolled": true
   },
   "outputs": [],
   "source": []
  },
  {
   "cell_type": "markdown",
   "metadata": {},
   "source": [
    "However, this is not very elegant or practical. Another option is to use a built-in python module called 'copy'. There are only two functions in this module, ```copy``` and ```deepcopy```, which are pretty self-explanatory names. Let's see what a deep copy looks like.\n",
    "\n",
    "\n"
   ]
  },
  {
   "cell_type": "code",
   "execution_count": null,
   "metadata": {
    "format": "row",
    "scrolled": true
   },
   "outputs": [],
   "source": [
    "import copy\n"
   ]
  },
  {
   "cell_type": "markdown",
   "metadata": {},
   "source": [
    "We now have a deep copy of our tuple. What's more, the ```deepcopy``` function will work on most python objects, and all of the ones you will encounter here.\n",
    "\n",
    "\n",
    "### Excercise:\n",
    "\n",
    "\n",
    "Create a nested data structure (one data structure as the member of another data structure) and make a deep copy of it. Then alter the nested data structure and print both outer data structures to prove that your deep copy worked.\n",
    "\n",
    "\n"
   ]
  },
  {
   "cell_type": "code",
   "execution_count": null,
   "metadata": {
    "format": "row",
    "scrolled": true
   },
   "outputs": [],
   "source": [
    "from copy import deepcopy\n"
   ]
  },
  {
   "cell_type": "markdown",
   "metadata": {},
   "source": [
    "## Accessing dictionary items\n",
    "\n",
    "\n",
    "Earlier you saw three different methods that could access information from a dictionary. Let's look at how these work. Take the use case of keeping track of which tissues each of a set of genes are expressed in. Given a set of gene names A-E and tissues 0-6, let's find some basic properties of this data set. Let's find how many genes are expressed in tissue 1\n",
    "\n",
    "\n"
   ]
  },
  {
   "cell_type": "code",
   "execution_count": null,
   "metadata": {
    "format": "row",
    "scrolled": true
   },
   "outputs": [],
   "source": [
    "data = {\n",
    "    'A': [0, 2, 3],\n",
    "    'B': [1],\n",
    "    'C': [3, 4, 5],\n",
    "    'D': [0, 1, 2, 3],\n",
    "    'E': [6],\n",
    "}\n"
   ]
  },
  {
   "cell_type": "markdown",
   "metadata": {},
   "source": [
    "What about keeping track of which genes are expressed in tissue 1? To do this, we need both the keys (gene names) and values (tissue lists) so the most logical method to use is ```.items```. This will introduce a new bit of for loop syntax. Since two items are returned each time in a tuple, the key and the value, we can either put that tuple into a variable and access each part in the for loop like this:\n",
    "\n",
    "\n"
   ]
  },
  {
   "cell_type": "code",
   "execution_count": null,
   "metadata": {
    "format": "row",
    "scrolled": true
   },
   "outputs": [],
   "source": []
  },
  {
   "cell_type": "markdown",
   "metadata": {},
   "source": [
    "However, an easier way would be to unpack the tuple in the line that we call the for loop. This works because we know how many values are in the tuple ahead of time.\n",
    "\n",
    "\n"
   ]
  },
  {
   "cell_type": "code",
   "execution_count": null,
   "metadata": {
    "format": "row",
    "scrolled": true
   },
   "outputs": [],
   "source": []
  },
  {
   "cell_type": "markdown",
   "metadata": {},
   "source": [
    "### Excercise:\n",
    "\n",
    "\n",
    "Write code that takes in our data dictionary and counts the total number of unique tissues and returns a sorted list of these tissues.\n",
    "\n",
    "\n"
   ]
  },
  {
   "cell_type": "code",
   "execution_count": null,
   "metadata": {
    "format": "row",
    "scrolled": true
   },
   "outputs": [],
   "source": []
  },
  {
   "cell_type": "markdown",
   "metadata": {},
   "source": [
    "## Enumerate\n",
    "\n",
    "\n",
    "Since we've just seen the unpacking syntax in a for loop, let's look at one other function that uses this approach and is very handy, the function ```enumerate```. Enumerate takes any iterator (including things like lists) and returns a counter along with the iterator items.\n",
    "\n",
    "\n"
   ]
  },
  {
   "cell_type": "code",
   "execution_count": null,
   "metadata": {
    "format": "row",
    "scrolled": true
   },
   "outputs": [],
   "source": [
    "L = ['A', 'B', 'C', 'D', 'E', 'F', 'G', 'H', 'I']\n"
   ]
  },
  {
   "cell_type": "markdown",
   "metadata": {},
   "source": [
    "## Counting unique items\n",
    "\n",
    "\n",
    "Now let's say we want to count unique items in a text file. In this case, let's look at a t_data.ctab file, which is a file of transcript-level expression measurements formated for the program 'ballgown'. We'll be using the file ```data/t_data.ctab```. First, let's load it into memory from the file.\n",
    "\n",
    "\n"
   ]
  },
  {
   "cell_type": "code",
   "execution_count": null,
   "metadata": {
    "format": "row",
    "scrolled": true
   },
   "outputs": [],
   "source": [
    "fs = open('/Users/cmdb/qbb2021/data/SRR072893.t_data.ctab', 'r')\n"
   ]
  },
  {
   "cell_type": "markdown",
   "metadata": {},
   "source": [
    "Now, the first line of the file will tell us which columns have which data.\n",
    "\n",
    "\n"
   ]
  },
  {
   "cell_type": "code",
   "execution_count": null,
   "metadata": {
    "format": "row",
    "scrolled": true
   },
   "outputs": [],
   "source": []
  },
  {
   "cell_type": "markdown",
   "metadata": {},
   "source": [
    "Now for counting unique genes. We can see that gene names are in the ninth column (where the first column is number zero). So, we've already seen that keeping track of unique elements is an excellent use of sets, so let's use that approach here.\n",
    "\n",
    "What steps do we need to accomplish this?"
   ]
  },
  {
   "cell_type": "markdown",
   "metadata": {},
   "source": [
    "*Write your pseudo-code here*"
   ]
  },
  {
   "cell_type": "code",
   "execution_count": null,
   "metadata": {
    "format": "row",
    "scrolled": true
   },
   "outputs": [],
   "source": []
  },
  {
   "cell_type": "markdown",
   "metadata": {},
   "source": [
    "### Exercise\n",
    "\n",
    "\n",
    "Can you modify the code so that we are only counting unique genes that have at least one transcript with non-zero expression?\n",
    "\n",
    "\n"
   ]
  },
  {
   "cell_type": "code",
   "execution_count": null,
   "metadata": {
    "format": "row",
    "scrolled": true
   },
   "outputs": [],
   "source": []
  },
  {
   "cell_type": "markdown",
   "metadata": {},
   "source": [
    "## Counting occurences of items\n",
    "\n",
    "\n",
    "What if we want to count the number of transcripts for each gene? We will still need to keep track of unique gene names, but now we need to track the number of transcripts for each as well. This is exactly the sort of thing a dictionary is good for. Let's use the same approach as above, but modify our code to use a dictionary instead of a set to track genes.\n",
    "\n",
    "\n"
   ]
  },
  {
   "cell_type": "code",
   "execution_count": null,
   "metadata": {
    "format": "row",
    "scrolled": true
   },
   "outputs": [],
   "source": []
  },
  {
   "cell_type": "markdown",
   "metadata": {},
   "source": [
    "Of course, we can actually make this even a little easier by getting rid of the conditional statement and using the dictionary method ```.setdefault```.\n",
    "\n",
    "\n"
   ]
  },
  {
   "cell_type": "code",
   "execution_count": null,
   "metadata": {
    "format": "row",
    "scrolled": true
   },
   "outputs": [],
   "source": []
  },
  {
   "cell_type": "markdown",
   "metadata": {},
   "source": [
    "### Exercise\n",
    "\n",
    "\n",
    "Given our set of genes and transcript counts, can you figure out which gene has the most transcripts and how many transcripts that is? Start with writing the pseudo-code so you know what steps you need to accomplish the task.\n"
   ]
  },
  {
   "cell_type": "markdown",
   "metadata": {},
   "source": [
    "*Write your pseudo-code here*"
   ]
  },
  {
   "cell_type": "code",
   "execution_count": null,
   "metadata": {
    "format": "row",
    "scrolled": true
   },
   "outputs": [],
   "source": []
  }
 ],
 "metadata": {
  "kernelspec": {
   "display_name": "Python 3",
   "language": "python",
   "name": "python3"
  },
  "language_info": {
   "codemirror_mode": {
    "name": "ipython",
    "version": 3
   },
   "file_extension": ".py",
   "mimetype": "text/x-python",
   "name": "python",
   "nbconvert_exporter": "python",
   "pygments_lexer": "ipython3",
   "version": "3.5.0"
  },
  "toc": {
   "base_numbering": 1,
   "nav_menu": {},
   "number_sections": false,
   "sideBar": true,
   "skip_h1_title": false,
   "title_cell": "Table of Contents",
   "title_sidebar": "Contents",
   "toc_cell": false,
   "toc_postion": {},
   "toc_section_display": true,
   "toc_window_display": true
  }
 },
 "nbformat": 4,
 "nbformat_minor": 4
}
