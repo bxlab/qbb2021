{
  "metadata": {
    "toc": {
      "number_sections": false,
      "base_numbering": 1,
      "toc_section_display": true,
      "toc_window_display": true,
      "nav_menu": {},
      "sideBar": true,
      "toc_cell": false,
      "skip_h1_title": false,
      "title_sidebar": "Contents",
      "toc_postion": {},
      "title_cell": "Table of Contents"
    },
    "language_info": {
      "nbconvert_exporter": "python",
      "pygments_lexer": "ipython3",
      "mimetype": "text/x-python",
      "codemirror_mode": {
        "version": 3,
        "name": "ipython"
      },
      "file_extension": ".py",
      "version": "3.7.6",
      "name": "python"
    },
    "kernelspec": {
      "display_name": "Python 3",
      "name": "python3",
      "language": "python"
    }
  },
  "nbformat": 4,
  "cells": [
    {
      "attachments": {},
      "metadata": {},
      "cell_type": "markdown",
      "source": "Adapted from [Software Carpentry](https://swcarpentry.github.io/python-novice-inflammation/02-numpy/index.html \"02-numpy\")"
    },
    {
      "attachments": {},
      "metadata": {},
      "cell_type": "markdown",
      "source": "---\n\n\n\n\n# Analyzing Patient Data\n\n\nteaching: 40\n\n\nexercises: 20\n\n\nquestions:\n\n\n- \"How can I process tabular data files in Python?\"\n\n\nobjectives:\n\n\n- \"Explain what a library is and what libraries are used for.\"\n- \"Import a Python library and use the functions it contains.\"\n- \"Read tabular data from a file into a program.\"\n- \"Select individual values and subsections from data.\"\n- \"Perform operations on arrays of data.\"\n\n\nkeypoints:\n\n\n- \"Import a library into a program using `import libraryname`.\"\n- \"Use the `numpy` library to work with arrays in Python.\"\n- \"The expression `array.shape` gives the shape of an array.\"\n- \"Use `array[x, y]` to select a single element from a 2D array.\"\n- \"Array indices start at 0, not 1.\"\n- \"Use `low:high` to specify a `slice` that includes the indices from `low` to `high-1`.\"\n- \"Use `# some kind of explanation` to add comments to programs.\"\n- \"Use `numpy.mean(array)`, `numpy.max(array)`, and `numpy.min(array)` to calculate simple statistics.\"\n- \"Use `numpy.mean(array, axis=0)` or `numpy.mean(array, axis=1)` to calculate statistics across the specified axis.\"\n---\n\n\n\n\nWords are useful, but what's more useful are the sentences and stories we build with them. Similarly, while a lot of powerful, general tools are built into Python, specialized tools built up from these basic units live in <span style=\"color:red\" title=\"A family of code units (functions, classes, variables) that implement a set of related tasks.\">libraries</span> that can be called upon when needed.\n\n\n## Loading data into Python\n\n\nTo begin processing inflammation data, we need to load it into Python. We can do that using a library called [NumPy](http://docs.scipy.org/doc/numpy/ \"NumPy Documentation\"), which stands for Numerical Python. In general, you should use this library when you want to do fancy things with lots of numbers, especially if you have matrices or arrays. To tell Python that we'd like to start using NumPy, we need to <span style=\"color:red\" title=\"To load a library into a program.\">import</span> it:\n\n\n"
    },
    {
      "outputs": [],
      "metadata": {
        "collapsed": false,
        "scrolled": true,
        "format": "row"
      },
      "source": "import numpy",
      "cell_type": "code",
      "execution_count": 0
    },
    {
      "attachments": {},
      "metadata": {},
      "cell_type": "markdown",
      "source": "Importing a library is like getting a piece of lab equipment out of a storage locker and setting it up on the bench. Libraries provide additional functionality to the basic Python package, much like a new piece of equipment adds functionality to a lab space. Just like in the lab, importing too many libraries can sometimes complicate and slow down your programs - so we only import what we need for each program.\n\n\nOnce we've imported the library, we can ask the library to read our data file for us:\n\n\n"
    },
    {
      "outputs": [],
      "metadata": {
        "collapsed": false,
        "scrolled": true,
        "format": "row"
      },
      "source": "numpy.loadtxt(fname='data/inflammation-01.csv', delimiter=',')",
      "cell_type": "code",
      "execution_count": 0
    },
    {
      "attachments": {},
      "metadata": {},
      "cell_type": "markdown",
      "source": "The expression `numpy.loadtxt(...)` is a <span style=\"color:red\" title=\"A use of a function in another piece of software.\">function call</span> that asks Python to run the <span style=\"color:red\" title=\"A named group of instructions that is executed when the function's name is used in the code. Occurrence of a function name in the code is a function call. Functions may process input arguments and return the result back. Functions may also be used for logically grouping together pieces of code. In such cases, they don't need to return any meaningful value and can be written without the `return` statement completely. Such functions return a special value `None`, which is a way of saying 'nothing' in Python.\">function</span> `loadtxt` which belongs to the `numpy` library. This <span style=\"color:red\" title=\"A two-part notation used in many programming languages in which `thing.component` refers to the `component` belonging to `thing`.\">dotted notation</span> is used everywhere in Python: the thing that appears before the dot contains the thing that appears after.\n\n\nAs an example, John Smith is the John that belongs to the Smith family. We could use the dot notation to write his name `smith.john`, just as `loadtxt` is a function that belongs to the `numpy` library.\n\n\n`numpy.loadtxt` has two <span style=\"color:red\" title=\"A variable named in the function's declaration that is used to hold a value passed into the call. The term is often used interchangeably (and inconsistently) with argument.\">parameters</span>: the name of the file we want to read and the <span style=\"color:red\" title=\"A character or characters used to separate individual values, such as the commas between columns in a CSV file.\">delimiter</span> that separates values on a line. These both need to be character strings (or <span style=\"color:red\" title=\"Short for 'character string', a sequence of zero or more characters.\">strings</span> for short), so we put them in quotes.\n\n\nSince we haven't told it to do anything else with the function's output, the <span style=\"color:red\" title=\"Interactive computational environment accessed via your web browser, in which you can write and execute Python code and combine it with explanatory text, mathematics and visualizations. Examples are IPython or Jupyter notebooks.\">notebook</span> displays it. In this case, that output is the data we just loaded. By default, only a few rows and columns are shown (with `...` to omit elements when displaying big arrays). Note that, to save space when displaying NumPy arrays, Python does not show us trailing zeros, so `1.0` becomes `1.`.\n\n\n"
    },
    {
      "attachments": {},
      "metadata": {},
      "cell_type": "markdown",
      "source": "## Importing libraries with shortcuts\n\n\nIn this lesson we use the `import numpy` <span style=\"color:red\" title=\"The rules that define how code must be written for a computer to understand.\">syntax</span> to import NumPy. However, shortcuts such as `import numpy as np` are frequently used.  Importing NumPy this way means that after the inital import, rather than writing `numpy.loadtxt(...)`, you can now write `np.loadtxt(...)`. Some people prefer this as it is quicker to type and results in shorter lines of code - especially for libraries with long names! You will frequently see Python code online using a NumPy function with `np`, and it's because they've used this shortcut. It makes no difference which approach you choose to take, but you must be consistent as if you use `import numpy as np` then `numpy.loadtxt(...)` will not work, and you must use `np.loadtxt(...)` instead. Because of this, when working with other people it is important you agree on how libraries are imported.\n\n\n"
    },
    {
      "attachments": {},
      "metadata": {},
      "cell_type": "markdown",
      "source": "Our call to `numpy.loadtxt` read our file but didn't save the data in memory. To do that, we need to assign the array to a variable. In a similar manner to how we assign a single value to a variable, we can also assign an array of values to a variable using the same syntax. Let's re-run `numpy.loadtxt` and save the returned data:\n\n\n"
    },
    {
      "outputs": [],
      "metadata": {
        "collapsed": false,
        "scrolled": true,
        "format": "row"
      },
      "source": "data = numpy.loadtxt(fname='data/inflammation-01.csv', delimiter=',')",
      "cell_type": "code",
      "execution_count": 0
    },
    {
      "attachments": {},
      "metadata": {},
      "cell_type": "markdown",
      "source": "This statement doesn't produce any output because we've assigned the output to the variable `data`. If we want to check that the data have been loaded, we can print the variable's value:\n\n\n"
    },
    {
      "outputs": [],
      "metadata": {
        "collapsed": false,
        "scrolled": true,
        "format": "row"
      },
      "source": "print(data)",
      "cell_type": "code",
      "execution_count": 0
    },
    {
      "attachments": {},
      "metadata": {},
      "cell_type": "markdown",
      "source": "Now that the data are in memory, we can manipulate them. First, let's ask what <span style=\"color:red\" title=\"The classification of something in a program (for example, the contents of a variable) as a kind of number (e.g. floating-point, integer), string, or something else.\">type</span> of thing `data` refers to:\n\n\n"
    },
    {
      "outputs": [],
      "metadata": {
        "collapsed": false,
        "scrolled": true,
        "format": "row"
      },
      "source": "print(type(data))",
      "cell_type": "code",
      "execution_count": 0
    },
    {
      "attachments": {},
      "metadata": {},
      "cell_type": "markdown",
      "source": "The output tells us that `data` currently refers to an N-dimensional array, the functionality for which is provided by the NumPy library. These data correspond to arthritis patients' inflammation. The rows are the individual patients, and the columns are their daily inflammation measurements.\n\n\n"
    },
    {
      "attachments": {},
      "metadata": {},
      "cell_type": "markdown",
      "source": "## Data Type\n\n\nA Numpy array contains one or more elements of the same type. The `type` function will only tell you that a variable is a NumPy array but won't tell you the type of thing inside the array. We can find out the type of the data contained in the NumPy array.\n\n\n"
    },
    {
      "outputs": [],
      "metadata": {
        "collapsed": false,
        "scrolled": true,
        "format": "row"
      },
      "source": "print(data.dtype)",
      "cell_type": "code",
      "execution_count": 0
    },
    {
      "attachments": {},
      "metadata": {},
      "cell_type": "markdown",
      "source": "This tells us that the NumPy array's elements are <span style=\"color:red\" title=\"A number containing a fractional part and an exponent. See also: integer.\">floating-point numbers</span>.\n\n\n"
    },
    {
      "attachments": {},
      "metadata": {},
      "cell_type": "markdown",
      "source": "With the following command, we can see the array's <span style=\"color:red\" title=\"An array's dimensions, represented as a vector. For example, a 5\u00d73 array's shape is `(5,3)`.\">shape</span>:\n\n\n"
    },
    {
      "outputs": [],
      "metadata": {
        "collapsed": false,
        "scrolled": true,
        "format": "row"
      },
      "source": "print(data.shape)",
      "cell_type": "code",
      "execution_count": 0
    },
    {
      "attachments": {},
      "metadata": {},
      "cell_type": "markdown",
      "source": "The output tells us that the `data` array variable contains 60 rows and 40 columns. When we created the variable `data` to store our arthritis data, we did not only create the array; we also created information about the array, called <span style=\"color:red\" title=\"A variable contained within an object.\">members</span> or attributes. This extra information describes `data` in the same way an adjective describes a noun. `data.shape` is an attribute of `data` which describes the dimensions of `data`. We use the same dotted notation for the attributes of variables that we use for the functions in libraries because they have the same part-and-whole relationship.\n\n\nIf we want to get a single number from the array, we must provide an <span style=\"color:red\" title=\"A subscript that specifies the location of a single value in a collection, such as a single pixel in an image.\">index</span> in square brackets after the variable name, just as we do in math when referring to an element of a matrix.  Our inflammation data has two dimensions, so we will need to use two indices to refer to one specific value:\n\n\n"
    },
    {
      "outputs": [],
      "metadata": {
        "collapsed": false,
        "scrolled": true,
        "format": "row"
      },
      "source": "print('first value in data:', data[0, 0])",
      "cell_type": "code",
      "execution_count": 0
    },
    {
      "outputs": [],
      "metadata": {
        "collapsed": false,
        "scrolled": true,
        "format": "row"
      },
      "source": "print('middle value in data:', data[30, 20])",
      "cell_type": "code",
      "execution_count": 0
    },
    {
      "attachments": {
        "fig/python-zero-index.png": {
          "image/png": "base64-encoded-png-data"
        }
      },
      "metadata": {},
      "cell_type": "markdown",
      "source": "The expression `data[30, 20]` accesses the element at row 30, column 20. While this expression may not surprise you, `data[0, 0]` might. Programming languages like Fortran, MATLAB and R start counting at 1 because that's what human beings have done for thousands of years. Languages in the C family (including C++, Java, Perl, and Python) count from 0 because it represents an offset from the first value in the array (the second value is offset by one index from the first value). This is closer to the way that computers represent arrays (if you are interested in the historical reasons behind counting indices from zero, you can read [Mike Hoye's blog post](http://exple.tive.org/blarg/2013/10/22/citation-needed/)). As a result, if we have an M\u00d7N array in Python, its indices go from 0 to M-1 on the first axis and 0 to N-1 on the second. It takes a bit of getting used to, but one way to remember the rule is that the index is how many steps we have to take from the start to get the item we want.\n\n\n> <img src=fig/python-zero-index.png>Zero Index\n\n\n"
    },
    {
      "attachments": {},
      "metadata": {},
      "cell_type": "markdown",
      "source": "## In the Corner\n\n\nWhat may also surprise you is that when Python displays an array, it shows the element with index `[0, 0]` in the upper left corner rather than the lower left. This is consistent with the way mathematicians draw matrices but different from the Cartesian coordinates. The indices are (row, column) instead of (column, row) for the same reason, which can be confusing when plotting data.\n\n\n"
    },
    {
      "attachments": {},
      "metadata": {},
      "cell_type": "markdown",
      "source": "## Slicing data\n\n\nAn index like `[30, 20]` selects a single element of an array, but we can select whole sections as well. For example, we can select the first ten days (columns) of values for the first four patients (rows) like this:\n\n\n"
    },
    {
      "outputs": [],
      "metadata": {
        "collapsed": false,
        "scrolled": true,
        "format": "row"
      },
      "source": "print(data[0:4, 0:10])",
      "cell_type": "code",
      "execution_count": 0
    },
    {
      "attachments": {},
      "metadata": {},
      "cell_type": "markdown",
      "source": "The <span style=\"color:red\" title=\"A regular subsequence of a larger sequence, such as the first five elements or every second element.\">slice</span> `0:4` means, \"Start at index 0 and go up to, but not including, index 4\". Again, the up-to-but-not-including takes a bit of getting used to, but the rule is that the difference between the upper and lower bounds is the number of values in the slice.\n\n\nWe don't have to start slices at 0:\n\n\n"
    },
    {
      "outputs": [],
      "metadata": {
        "collapsed": false,
        "scrolled": true,
        "format": "row"
      },
      "source": "print(data[5:10, 0:10])",
      "cell_type": "code",
      "execution_count": 0
    },
    {
      "attachments": {},
      "metadata": {},
      "cell_type": "markdown",
      "source": "We also don't have to include the upper and lower bound on the slice.  If we don't include the lower bound, Python uses 0 by default; if we don't include the upper, the slice runs to the end of the axis, and if we don't include either (i.e., if we use ':' on its own), the slice includes everything:\n\n\n"
    },
    {
      "outputs": [],
      "metadata": {
        "collapsed": false,
        "scrolled": true,
        "format": "row"
      },
      "source": "small = data[:3, 36:]\nprint('small is:')\nprint(small)",
      "cell_type": "code",
      "execution_count": 0
    },
    {
      "attachments": {},
      "metadata": {},
      "cell_type": "markdown",
      "source": "The above example selects rows 0 through 2 and columns 36 through to the end of the array.\n\n\n## Analyzing data\n\n\nNumPy has several useful functions that take an array as input to perform operations on its values. If we want to find the average inflammation for all patients on all days, for example, we can ask NumPy to compute `data`'s mean value:\n\n\n"
    },
    {
      "outputs": [],
      "metadata": {
        "collapsed": false,
        "scrolled": true,
        "format": "row"
      },
      "source": "print(numpy.mean(data))",
      "cell_type": "code",
      "execution_count": 0
    },
    {
      "attachments": {},
      "metadata": {},
      "cell_type": "markdown",
      "source": "`mean` is a <span style=\"color:red\" title=\"A named group of instructions that is executed when the function's name is used in the code. Occurrence of a function name in the code is a function call. Functions may process input arguments and return the result back. Functions may also be used for logically grouping together pieces of code. In such cases, they don't need to return any meaningful value and can be written without the `return` statement completely. Such functions return a special value `None`, which is a way of saying 'nothing' in Python.\">function</span> that takes an array as an <span style=\"color:red\" title=\"A value given to a function or program when it runs. The term is often used interchangeably (and inconsistently) with parameter.\">argument</span>.\n\n\n"
    },
    {
      "attachments": {},
      "metadata": {},
      "cell_type": "markdown",
      "source": "## Not All Functions Have Input\n\n\nGenerally, a function uses inputs to produce outputs. However, some functions produce outputs without needing any input. For example, checking the current time doesn't require any input.\n\n\n"
    },
    {
      "outputs": [],
      "metadata": {
        "collapsed": false,
        "scrolled": true,
        "format": "row"
      },
      "source": "import time\nprint(time.ctime())",
      "cell_type": "code",
      "execution_count": 0
    },
    {
      "attachments": {},
      "metadata": {},
      "cell_type": "markdown",
      "source": "For functions that don't take in any arguments, we still need parentheses (`()`) to tell Python to go and do something for us.\n\n\n"
    },
    {
      "attachments": {},
      "metadata": {},
      "cell_type": "markdown",
      "source": "Let's use three other NumPy functions to get some descriptive values about the dataset. We'll also use multiple assignment, a convenient Python feature that will enable us to do this all in one line.\n\n\n"
    },
    {
      "outputs": [],
      "metadata": {
        "collapsed": false,
        "scrolled": true,
        "format": "row"
      },
      "source": "maxval, minval, stdval = numpy.max(data), numpy.min(data), numpy.std(data)\n\nprint('maximum inflammation:', maxval)\nprint('minimum inflammation:', minval)\nprint('standard deviation:', stdval)",
      "cell_type": "code",
      "execution_count": 0
    },
    {
      "attachments": {},
      "metadata": {},
      "cell_type": "markdown",
      "source": "Here we've assigned the return value from `numpy.max(data)` to the variable `maxval`, the value from `numpy.min(data)` to `minval`, and so on.\n\n\n"
    },
    {
      "attachments": {},
      "metadata": {},
      "cell_type": "markdown",
      "source": "## Mystery Functions in IPython\n\n\nHow did we know what functions NumPy has and how to use them? If you are working in IPython or in a Jupyter Notebook, there is an easy way to find out. If you type the name of something followed by a dot, then you can use tab completion (e.g. type `numpy.` and then press <kbd>Tab</kbd>) to see a list of all functions and attributes that you can use. After selecting one, you can also add a question mark (e.g. `numpy.cumprod?`), and IPython will return an explanation of the method! This is the same as doing `help(numpy.cumprod)`. Similarly, if you are using the \"plain vanilla\" Python interpreter, you can type `numpy.` and press the <kbd>Tab</kbd> key twice for a listing of what is available. You can then use the `help()` function to see an explanation of the function you're interested in, for example: `help(numpy.cumprod)`.\n\n\n"
    },
    {
      "attachments": {},
      "metadata": {},
      "cell_type": "markdown",
      "source": "When analyzing data, though, we often want to look at variations in statistical values, such as the maximum inflammation per patient or the average inflammation per day. One way to do this is to create a new temporary array of the data we want, then ask it to do the calculation:\n\n\n"
    },
    {
      "outputs": [],
      "metadata": {
        "collapsed": false,
        "scrolled": true,
        "format": "row"
      },
      "source": "patient_0 = data[0, :] # 0 on the first axis (rows), everything on the second (columns)\nprint('maximum inflammation for patient 0:', numpy.max(patient_0))",
      "cell_type": "code",
      "execution_count": 0
    },
    {
      "attachments": {},
      "metadata": {},
      "cell_type": "markdown",
      "source": "Everything in a line of code following the '#' symbol is a <span style=\"color:red\" title=\"A remark in a program that is intended to help human readers understand what is going on, but is ignored by the computer. Comments in Python, R, and the Unix shell start with a `#` character and run to the end of the line; comments in SQL start with `--`, and other languages have other conventions.\">comment</span> that is ignored by Python. Comments allow programmers to leave explanatory notes for other programmers or their future selves.\n\n\nWe don't actually need to store the row in a variable of its own. Instead, we can combine the selection and the function call:\n\n\n"
    },
    {
      "outputs": [],
      "metadata": {
        "collapsed": false,
        "scrolled": true,
        "format": "row"
      },
      "source": "print('maximum inflammation for patient 2:', numpy.max(data[2, :]))",
      "cell_type": "code",
      "execution_count": 0
    },
    {
      "attachments": {
        "fig/python-operations-across-axes.png": {
          "image/png": "base64-encoded-png-data"
        }
      },
      "metadata": {},
      "cell_type": "markdown",
      "source": "What if we need the maximum inflammation for each patient over all days (as in the next diagram on the left) or the average for each day (as in the diagram on the right)? As the diagram below shows, we want to perform the operation across an axis:\n\n\n> <img src=fig/python-operations-across-axes.png>Per-patient maximum inflammation is computed row-wise across all columns using numpy.max(data, axis=1). Per-day average inflammation is computed column-wise across all rows using numpy.mean(data, axis=0).\n\n\nTo support this functionality, most array functions allow us to specify the axis we want to work on. If we ask for the average across axis 0 (rows in our 2D example), we get:\n\n\n"
    },
    {
      "outputs": [],
      "metadata": {
        "collapsed": false,
        "scrolled": true,
        "format": "row"
      },
      "source": "print(numpy.mean(data, axis=0))",
      "cell_type": "code",
      "execution_count": 0
    },
    {
      "attachments": {},
      "metadata": {},
      "cell_type": "markdown",
      "source": "As a quick check, we can ask this array what its shape is:\n\n\n"
    },
    {
      "outputs": [],
      "metadata": {
        "collapsed": false,
        "scrolled": true,
        "format": "row"
      },
      "source": "print(numpy.mean(data, axis=0).shape)",
      "cell_type": "code",
      "execution_count": 0
    },
    {
      "attachments": {},
      "metadata": {},
      "cell_type": "markdown",
      "source": "The expression `(40,)` tells us we have an N\u00d71 vector, so this is the average inflammation per day for all patients. If we average across axis 1 (columns in our 2D example), we get:\n\n\n"
    },
    {
      "outputs": [],
      "metadata": {
        "collapsed": false,
        "scrolled": true,
        "format": "row"
      },
      "source": "print(numpy.mean(data, axis=1))",
      "cell_type": "code",
      "execution_count": 0
    },
    {
      "attachments": {},
      "metadata": {},
      "cell_type": "markdown",
      "source": "which is the average inflammation per patient across all days.\n\n\n## Slicing Strings\n\n\nA section of an array is called a <span style=\"color:red\" title=\"A regular subsequence of a larger sequence, such as the first five elements or every second element.\">slice</span>. We can take slices of character strings as well:\n\n\n"
    },
    {
      "outputs": [],
      "metadata": {
        "collapsed": false,
        "scrolled": true,
        "format": "row"
      },
      "source": "element = 'oxygen'\nprint('first three characters:', element[0:3])\nprint('last three characters:', element[3:6])",
      "cell_type": "code",
      "execution_count": 0
    },
    {
      "attachments": {},
      "metadata": {},
      "cell_type": "markdown",
      "source": "What is the value of `element[:4]`? What about `element[4:]`? Or `element[:]`?\n\n\n"
    },
    {
      "attachments": {},
      "metadata": {},
      "cell_type": "raw",
      "source": "Your answer"
    },
    {
      "attachments": {},
      "metadata": {},
      "cell_type": "markdown",
      "source": "<details>  \n<summary><b> Solution</b></summary>  \n\n---  \n<span style=\"color:red\">Out [1]:</span>  \n```\noxyg  \nen  \noxygen  \n```\n---  \n\n\n</details>  \n\n"
    },
    {
      "attachments": {},
      "metadata": {},
      "cell_type": "markdown",
      "source": "What is `element[-1]`? What is `element[-2]`?\n\n\n"
    },
    {
      "attachments": {},
      "metadata": {},
      "cell_type": "raw",
      "source": "Your answer"
    },
    {
      "attachments": {},
      "metadata": {},
      "cell_type": "markdown",
      "source": "<details>  \n<summary><b> Solution</b></summary>  \n\n---  \n<span style=\"color:red\">Out [1]:</span>  \n```\nn  \ne  \n```\n---  \n\n\n</details>  \n\n"
    },
    {
      "attachments": {},
      "metadata": {},
      "cell_type": "markdown",
      "source": "Given those answers, explain what `element[1:-1]` does.\n\n\n"
    },
    {
      "attachments": {},
      "metadata": {},
      "cell_type": "raw",
      "source": "Your answer"
    },
    {
      "attachments": {},
      "metadata": {},
      "cell_type": "markdown",
      "source": "<details>  \n<summary><b> Solution</b></summary>  \n\nCreates a substring from index 1 up to (not including) the final index, effectively removing the first and last letters from 'oxygen'  \n\n\n</details>  \n\n"
    },
    {
      "attachments": {},
      "metadata": {},
      "cell_type": "markdown",
      "source": "How can we rewrite the slice for getting the last three characters of `element`, so that it works even if we assign a different string to `element`? Test your solution with the following strings: `carpentry`, `clone`, `hi`.\n\n\n"
    },
    {
      "outputs": [],
      "metadata": {
        "collapsed": false,
        "scrolled": true,
        "format": "row"
      },
      "source": "#Your answer",
      "cell_type": "code",
      "execution_count": 0
    },
    {
      "attachments": {},
      "metadata": {},
      "cell_type": "markdown",
      "source": "<details>  \n<summary><b> Solution</b></summary>  \n\n---  \n<span style=\"color:blue\">In [1]:</span>  \n```python\nelement = 'oxygen'  \nprint('last three characters:', element[-3:])  \nelement = 'carpentry'  \nprint('last three characters:', element[-3:])  \nelement = 'clone'  \nprint('last three characters:', element[-3:])  \nelement = 'hi'  \nprint('last three characters:', element[-3:])  \n```\n---  \n\n\n---  \n<span style=\"color:red\">Out [1]:</span>  \n```python\nlast three characters: gen  \nlast three characters: try  \nlast three characters: one  \nlast three characters: hi  \n```\n---  \n\n\n</details>  \n\n"
    },
    {
      "attachments": {},
      "metadata": {},
      "cell_type": "markdown",
      "source": "## Thin Slices\n\n\nThe expression `element<span style=\"color:red\" title=\"A character string containing no characters, often thought of as the 'zero' of text.\">3:3</span>, i.e., a string that contains no characters. If `data` holds our array of patient data, what does `data[3:3, 4:4]` produce? What about `data[3:3, :]`?\n\n\n"
    },
    {
      "attachments": {},
      "metadata": {},
      "cell_type": "raw",
      "source": "Your answer"
    },
    {
      "attachments": {},
      "metadata": {},
      "cell_type": "markdown",
      "source": "<details>  \n<summary><b> Solution</b></summary>  \n\n---  \n<span style=\"color:red\">Out [1]:</span>  \n```\narray([], shape=(0, 0), dtype=float64)  \narray([], shape=(0, 40), dtype=float64)  \n```\n---  \n\n\n</details>  \n\n"
    },
    {
      "attachments": {},
      "metadata": {},
      "cell_type": "markdown",
      "source": "## Stacking Arrays\n\n\nArrays can be concatenated and stacked on top of one another, using NumPy's `vstack` and `hstack` functions for vertical and horizontal stacking, respectively.\n\n\n"
    },
    {
      "outputs": [],
      "metadata": {
        "collapsed": false,
        "scrolled": true,
        "format": "row"
      },
      "source": "import numpy\n\nA = numpy.array([[1,2,3], [4,5,6], [7, 8, 9]])\nprint('A = ')\nprint(A)\n\nB = numpy.hstack([A, A])\nprint('B = ')\nprint(B)\n\nC = numpy.vstack([A, A])\nprint('C = ')\nprint(C)",
      "cell_type": "code",
      "execution_count": 0
    },
    {
      "attachments": {},
      "metadata": {},
      "cell_type": "markdown",
      "source": "Write some additional code that slices the first and last columns of `A`, and stacks them into a 3x2 array. Make sure to `print` the results to verify your solution.\n\n\n"
    },
    {
      "outputs": [],
      "metadata": {
        "collapsed": false,
        "scrolled": true,
        "format": "row"
      },
      "source": "#Your answer",
      "cell_type": "code",
      "execution_count": 0
    },
    {
      "attachments": {},
      "metadata": {},
      "cell_type": "markdown",
      "source": "<details>  \n<summary><b> Solution</b></summary>  \n\nA 'gotcha' with array indexing is that singleton dimensions are dropped by default. That means `A[:, 0]` is a one dimensional array, which won't stack as desired. To preserve singleton dimensions, the index itself can be a slice or array. For example, `A[:, :1]` returns a two dimensional array with one singleton dimension (i.e. a column vector).  \n\n\n---  \n<span style=\"color:blue\">In [1]:</span>  \n```python\nD = numpy.hstack((A[:, :1], A[:, -1:]))  \nprint('D = ')  \nprint(D)  \n```\n---  \n\n\n---  \n<span style=\"color:red\">Out [1]:</span>  \n```python\nD =  \n[[1 3]  \n [4 6]  \n [7 9]]  \n```\n---  \n\n\nAn alternative way to achieve the same result is to use Numpy's delete function to remove the second column of A.  \n\n\n---  \n<span style=\"color:blue\">In [1]:</span>  \n```python\nD = numpy.delete(A, 1, 1)  \nprint('D = ')  \nprint(D)  \n```\n---  \n\n\n---  \n<span style=\"color:red\">Out [1]:</span>  \n```python\nD =  \n[[1 3]  \n [4 6]  \n [7 9]]  \n```\n---  \n\n\n</details>  \n\n"
    },
    {
      "attachments": {},
      "metadata": {},
      "cell_type": "markdown",
      "source": "## Change In Inflammation\n\n\nThe patient data is _longitudinal_ in the sense that each row represents a series of observations relating to one individual.  This means that the change in inflammation over time is a meaningful concept. Let's find out how to calculate changes in the data contained in an array with NumPy.\n\n\nThe `numpy.diff()` function takes an array and returns the differences between two successive values. Let's use it to examine the changes each day across the first week of patient 3 from our inflammation dataset.\n\n\n"
    },
    {
      "outputs": [],
      "metadata": {
        "collapsed": false,
        "scrolled": true,
        "format": "row"
      },
      "source": "patient3_week1 = data[3, :7]\nprint(patient3_week1)",
      "cell_type": "code",
      "execution_count": 0
    },
    {
      "attachments": {},
      "metadata": {},
      "cell_type": "markdown",
      "source": "Calling `numpy.diff(patient3_week1)` would do the following calculations\n\n\n"
    },
    {
      "outputs": [],
      "metadata": {
        "collapsed": false,
        "scrolled": true,
        "format": "row"
      },
      "source": "[ 0 - 0, 2 - 0, 0 - 2, 4 - 0, 2 - 4, 2 - 2 ]",
      "cell_type": "code",
      "execution_count": 0
    },
    {
      "attachments": {},
      "metadata": {},
      "cell_type": "markdown",
      "source": "and return the 6 difference values in a new array.\n\n\n"
    },
    {
      "outputs": [],
      "metadata": {
        "collapsed": false,
        "scrolled": true,
        "format": "row"
      },
      "source": "numpy.diff(patient3_week1)",
      "cell_type": "code",
      "execution_count": 0
    },
    {
      "attachments": {},
      "metadata": {},
      "cell_type": "markdown",
      "source": "Note that the array of differences is shorter by one element (length 6).\n\n\nWhen calling `numpy.diff` with a multi-dimensional array, an `axis` argument may be passed to the function to specify which axis to process. When applying `numpy.diff` to our 2D inflammation array `data`, which axis would we specify?\n\n\n"
    },
    {
      "attachments": {},
      "metadata": {},
      "cell_type": "raw",
      "source": "Your answer"
    },
    {
      "attachments": {},
      "metadata": {},
      "cell_type": "markdown",
      "source": "<details>  \n<summary><b> Solution</b></summary>  \n\nSince the row axis (0) is patients, it does not make sense to get the difference between two arbitrary patients. The column axis (1) is in days, so the difference is the change in inflammation -- a meaningful concept.  \n\n\n---  \n<span style=\"color:blue\">In [1]:</span>  \n```python\nnumpy.diff(data, axis=1)  \n```\n---  \n\n\n</details>  \n\n"
    },
    {
      "attachments": {},
      "metadata": {},
      "cell_type": "markdown",
      "source": "If the shape of an individual data file is `(60, 40)` (60 rows and 40 columns), what would the shape of the array be after you run the `diff()` function and why?\n\n\n"
    },
    {
      "attachments": {},
      "metadata": {},
      "cell_type": "raw",
      "source": "Your answer"
    },
    {
      "attachments": {},
      "metadata": {},
      "cell_type": "markdown",
      "source": "<details>  \n<summary><b> Solution</b></summary>  \n\nThe shape will be `(60, 39)` because there is one fewer difference between columns than there are columns in the data.  \n\n\n</details>  \n\n"
    },
    {
      "attachments": {},
      "metadata": {},
      "cell_type": "markdown",
      "source": "How would you find the largest change in inflammation for each patient? Does it matter if the change in inflammation is an increase or a decrease?\n\n\n"
    },
    {
      "outputs": [],
      "metadata": {
        "collapsed": false,
        "scrolled": true,
        "format": "row"
      },
      "source": "#Your answer",
      "cell_type": "code",
      "execution_count": 0
    },
    {
      "attachments": {},
      "metadata": {},
      "cell_type": "markdown",
      "source": "<details>  \n<summary><b> Solution</b></summary>  \n\nBy using the `numpy.max()` function after you apply the `numpy.diff()` function, you will get the largest difference between days.  \n\n\n---  \n<span style=\"color:blue\">In [1]:</span>  \n```python\nnumpy.max(numpy.diff(data, axis=1), axis=1)  \n```\n---  \n\n\n---  \n<span style=\"color:blue\">In [1]:</span>  \n```python\narray([  7.,  12.,  11.,  10.,  11.,  13.,  10.,   8.,  10.,  10.,   7.,  \n         7.,  13.,   7.,  10.,  10.,   8.,  10.,   9.,  10.,  13.,   7.,  \n        12.,   9.,  12.,  11.,  10.,  10.,   7.,  10.,  11.,  10.,   8.,  \n        11.,  12.,  10.,   9.,  10.,  13.,  10.,   7.,   7.,  10.,  13.,  \n        12.,   8.,   8.,  10.,  10.,   9.,   8.,  13.,  10.,   7.,  10.,  \n         8.,  12.,  10.,   7.,  12.])  \n```\n---  \n\n\nIf inflammation values *decrease* along an axis, then the difference from one element to the next will be negative. If you are interested in the **magnitude** of the change and not the direction, the `numpy.absolute()` function will provide that.  \n\n\nNotice the difference if you get the largest _absolute_ difference between readings.  \n\n\n---  \n<span style=\"color:blue\">In [1]:</span>  \n```python\nnumpy.max(numpy.absolute(numpy.diff(data, axis=1)), axis=1)  \n```\n---  \n\n\n---  \n<span style=\"color:blue\">In [1]:</span>  \n```python\narray([ 12.,  14.,  11.,  13.,  11.,  13.,  10.,  12.,  10.,  10.,  10.,  \n        12.,  13.,  10.,  11.,  10.,  12.,  13.,   9.,  10.,  13.,   9.,  \n        12.,   9.,  12.,  11.,  10.,  13.,   9.,  13.,  11.,  11.,   8.,  \n        11.,  12.,  13.,   9.,  10.,  13.,  11.,  11.,  13.,  11.,  13.,  \n        13.,  10.,   9.,  10.,  10.,   9.,   9.,  13.,  10.,   9.,  10.,  \n        11.,  13.,  10.,  10.,  12.])  \n```\n---  \n\n\n</details>  \n\n"
    }
  ],
  "nbformat_minor": 4
}