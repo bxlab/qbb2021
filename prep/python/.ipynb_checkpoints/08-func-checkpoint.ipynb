{
  "nbformat": 4,
  "nbformat_minor": 4,
  "cells": [
    {
      "source": "Adapted from [Software Carpentry](https://swcarpentry.github.io/python-novice-inflammation/08-func/index.html \"08-func\")",
      "attachments": {},
      "cell_type": "markdown",
      "metadata": {}
    },
    {
      "source": "---\n\n\n\n\n# Creating Functions\n\n\nteaching: 30\n\n\nexercises: 0\n\n\nquestions:\n\n\n- \"How can I define new functions?\"\n- \"What's the difference between defining and calling a function?\"\n- \"What happens when I call a function?\"\n\n\nobjectives:\n\n\n- \"Define a function that takes parameters.\"\n- \"Return a value from a function.\"\n- \"Test and debug a function.\"\n- \"Set default values for function parameters.\"\n- \"Explain why we should divide programs into small, single-purpose functions.\"\n\n\nkeypoints:\n\n\n- \"Define a function using `def function_name(parameter)`.\"\n- \"The body of a function must be indented.\"\n- \"Call a function using `function_name(value)`.\"\n- \"Numbers are stored as integers or floating-point numbers.\"\n- \"Variables defined within a function can only be seen and used within the body of the function.\"\n- \"If a variable is not defined within the function it is used, Python looks for a definition before the function call\"\n- \"Use `help(thing)` to view help for something.\"\n- \"Put docstrings in functions to provide help for that function.\"\n- \"Specify default values for parameters when defining a function using `name=value` in the parameter list.\"\n- \"Parameters can be passed by matching based on name, by position, or by omitting them (in which case the default value is used).\"\n- \"Put code whose parameters change frequently in a function, then call it with different parameter values to customize its behavior.\"\n---\n\n\n\n\nAt this point, we've written code to draw some interesting features in our inflammation data, loop over all our data files to quickly draw these plots for each of them, and have Python make decisions based on what it sees in our data. But, our code is getting pretty long and complicated; what if we had thousands of datasets, and didn't want to generate a figure for every single one? Commenting out the figure-drawing code is a nuisance. Also, what if we want to use that code again, on a different dataset or at a different point in our program? Cutting and pasting it is going to make our code get very long and very repetitive, very quickly. We'd like a way to package our code so that it is easier to reuse, and Python provides for this by letting us define things called 'functions' --- a shorthand way of re-executing longer pieces of code. Let's start by defining a function `fahr_to_celsius` that converts temperatures from Fahrenheit to Celsius:\n\n\n",
      "attachments": {},
      "cell_type": "markdown",
      "metadata": {}
    },
    {
      "execution_count": 0,
      "source": "def fahr_to_celsius(temp):\n    return ((temp - 32) * (5/9))",
      "outputs": [],
      "cell_type": "code",
      "metadata": {
        "collapsed": false,
        "format": "row",
        "scrolled": true
      }
    },
    {
      "source": "> <img src=fig/python-function.svg>Labeled parts of a Python function definition\n\n\nThe function definition opens with the keyword `def` followed by the name of the function (`fahr_to_celsius`) and a parenthesized list of parameter names (`temp`). The <span style=\"color:red\" title=\"(of a function): the statements that are executed when a function runs.\">body</span> of the function --- the statements that are executed when it runs --- is indented below the definition line.  The body concludes with a `return` keyword followed by the return value.\n\n\nWhen we call the function, the values we pass to it are assigned to those variables so that we can use them inside the function. Inside the function, we use a <span style=\"color:red\" title=\"A statement that causes a function to stop executing and return a value to its caller immediately.\">return statement</span> to send a result back to whoever asked for it.\n\n\nLet's try running our function.\n\n\n",
      "attachments": {
        "fig/python-function.svg": {
          "image/svg+xml": "UTF-8"
        }
      },
      "cell_type": "markdown",
      "metadata": {}
    },
    {
      "execution_count": 0,
      "source": "fahr_to_celsius(32)",
      "outputs": [],
      "cell_type": "code",
      "metadata": {
        "collapsed": false,
        "format": "row",
        "scrolled": true
      }
    },
    {
      "source": "This command should call our function, using \"32\" as the input and return the function value.\n\n\nIn fact, calling our own function is no different from calling any other function:\n\n\n",
      "attachments": {},
      "cell_type": "markdown",
      "metadata": {}
    },
    {
      "execution_count": 0,
      "source": "print('freezing point of water:', fahr_to_celsius(32), 'C')\nprint('boiling point of water:', fahr_to_celsius(212), 'C')",
      "outputs": [],
      "cell_type": "code",
      "metadata": {
        "collapsed": false,
        "format": "row",
        "scrolled": true
      }
    },
    {
      "source": "We've successfully called the function that we defined, and we have access to the value that we returned.\n\n\n## Composing Functions\n\n\nNow that we've seen how to turn Fahrenheit into Celsius, we can also write the function to turn Celsius into Kelvin:\n\n\n",
      "attachments": {},
      "cell_type": "markdown",
      "metadata": {}
    },
    {
      "execution_count": 0,
      "source": "def celsius_to_kelvin(temp_c):\n    return temp_c + 273.15\n\nprint('freezing point of water in Kelvin:', celsius_to_kelvin(0.))",
      "outputs": [],
      "cell_type": "code",
      "metadata": {
        "collapsed": false,
        "format": "row",
        "scrolled": true
      }
    },
    {
      "source": "What about converting Fahrenheit to Kelvin? We could write out the formula, but we don't need to. Instead, we can <span style=\"color:red\" title=\"To apply one function to the result of another, such as `f(g(x))`.\">compose</span> the two functions we have already created:\n\n\n",
      "attachments": {},
      "cell_type": "markdown",
      "metadata": {}
    },
    {
      "execution_count": 0,
      "source": "def fahr_to_kelvin(temp_f):\n    temp_c = fahr_to_celsius(temp_f)\n    temp_k = celsius_to_kelvin(temp_c)\n    return temp_k\n\nprint('boiling point of water in Kelvin:', fahr_to_kelvin(212.0))",
      "outputs": [],
      "cell_type": "code",
      "metadata": {
        "collapsed": false,
        "format": "row",
        "scrolled": true
      }
    },
    {
      "source": "This is our first taste of how larger programs are built: we define basic operations, then combine them in ever-larger chunks to get the effect we want. Real-life functions will usually be larger than the ones shown here --- typically half a dozen to a few dozen lines --- but they shouldn't ever be much longer than that, or the next person who reads it won't be able to understand what's going on.\n\n\n## Tidying up\n\n\nNow that we know how to wrap bits of code up in functions, we can make our inflammation analysis easier to read and easier to reuse. First, let's make a `visualize` function that generates our plots:\n\n\n",
      "attachments": {},
      "cell_type": "markdown",
      "metadata": {}
    },
    {
      "execution_count": 0,
      "source": "import numpy\nimport matplotlib.pyplot\n\ndef visualize(filename):\n\n    data = numpy.loadtxt(fname=filename, delimiter=',')\n\n    fig = matplotlib.pyplot.figure(figsize=(10.0, 3.0))\n\n    axes1 = fig.add_subplot(1, 3, 1)\n    axes2 = fig.add_subplot(1, 3, 2)\n    axes3 = fig.add_subplot(1, 3, 3)\n\n    axes1.set_ylabel('average')\n    axes1.plot(numpy.mean(data, axis=0))\n\n    axes2.set_ylabel('max')\n    axes2.plot(numpy.max(data, axis=0))\n\n    axes3.set_ylabel('min')\n    axes3.plot(numpy.min(data, axis=0))\n\n    fig.tight_layout()\n    matplotlib.pyplot.show()",
      "outputs": [],
      "cell_type": "code",
      "metadata": {
        "collapsed": false,
        "format": "row",
        "scrolled": true
      }
    },
    {
      "source": "and another function called `detect_problems` that checks for those systematics we noticed:\n\n\n",
      "attachments": {},
      "cell_type": "markdown",
      "metadata": {}
    },
    {
      "execution_count": 0,
      "source": "def detect_problems(filename):\n\n    data = numpy.loadtxt(fname=filename, delimiter=',')\n\n    if numpy.max(data, axis=0)[0] == 0 and numpy.max(data, axis=0)[20] == 20:\n        print('Suspicious looking maxima!')\n    elif numpy.sum(numpy.min(data, axis=0)) == 0:\n        print('Minima add up to zero!')\n    else:\n        print('Seems OK!')",
      "outputs": [],
      "cell_type": "code",
      "metadata": {
        "collapsed": false,
        "format": "row",
        "scrolled": true
      }
    },
    {
      "source": "Wait! Didn't we forget to specify what both of these functions should return? Well, we didn't. In Python, functions are not required to include a `return` statement and can be used for the sole purpose of grouping together pieces of code that conceptually do one thing. In such cases, function names usually describe what they do, _e.g._ `visualize`, `detect_problems`.\n\n\nNotice that rather than jumbling this code together in one giant `for` loop, we can now read and reuse both ideas separately. We can reproduce the previous analysis with a much simpler `for` loop:\n\n\n",
      "attachments": {},
      "cell_type": "markdown",
      "metadata": {}
    },
    {
      "execution_count": 0,
      "source": "import glob\n\nfilenames = sorted(glob.glob('data/inflammation*.csv'))\n\nfor filename in filenames[:3]:\n    print(filename)\n    visualize(filename)\n    detect_problems(filename)",
      "outputs": [],
      "cell_type": "code",
      "metadata": {
        "collapsed": false,
        "format": "row",
        "scrolled": true
      }
    },
    {
      "source": "By giving our functions human-readable names, we can more easily read and understand what is happening in the `for` loop. Even better, if at some later date we want to use either of those pieces of code again, we can do so in a single line.\n\n\n## Testing and Documenting\n\n\nOnce we start putting things in functions so that we can re-use them, we need to start testing that those functions are working correctly. To see how to do this, let's write a function to offset a dataset so that it's mean value shifts to a user-defined value:\n\n\n",
      "attachments": {},
      "cell_type": "markdown",
      "metadata": {}
    },
    {
      "execution_count": 0,
      "source": "def offset_mean(data, target_mean_value):\n    return (data - numpy.mean(data)) + target_mean_value",
      "outputs": [],
      "cell_type": "code",
      "metadata": {
        "collapsed": false,
        "format": "row",
        "scrolled": true
      }
    },
    {
      "source": "We could test this on our actual data, but since we don't know what the values ought to be, it will be hard to tell if the result was correct. Instead, let's use NumPy to create a matrix of 0's and then offset its values to have a mean value of 3:\n\n\n",
      "attachments": {},
      "cell_type": "markdown",
      "metadata": {}
    },
    {
      "execution_count": 0,
      "source": "z = numpy.zeros((2,2))\nprint(offset_mean(z, 3))",
      "outputs": [],
      "cell_type": "code",
      "metadata": {
        "collapsed": false,
        "format": "row",
        "scrolled": true
      }
    },
    {
      "source": "That looks right, so let's try `offset_mean` on our real data:\n\n\n",
      "attachments": {},
      "cell_type": "markdown",
      "metadata": {}
    },
    {
      "execution_count": 0,
      "source": "data = numpy.loadtxt(fname='data/inflammation-01.csv', delimiter=',')\nprint(offset_mean(data, 0))",
      "outputs": [],
      "cell_type": "code",
      "metadata": {
        "collapsed": false,
        "format": "row",
        "scrolled": true
      }
    },
    {
      "source": "It's hard to tell from the default output whether the result is correct, but there are a few tests that we can run to reassure us:\n\n\n",
      "attachments": {},
      "cell_type": "markdown",
      "metadata": {}
    },
    {
      "execution_count": 0,
      "source": "print('original min, mean, and max are:', numpy.min(data), numpy.mean(data), numpy.max(data))\noffset_data = offset_mean(data, 0)\nprint('min, mean, and max of offset data are:',\n      numpy.min(offset_data),\n      numpy.mean(offset_data),\n      numpy.max(offset_data))",
      "outputs": [],
      "cell_type": "code",
      "metadata": {
        "collapsed": false,
        "format": "row",
        "scrolled": true
      }
    },
    {
      "source": "That seems almost right: the original mean was about 6.1, so the lower bound from zero is now about -6.1. The mean of the offset data isn't quite zero --- we'll explore why not in the challenges --- but it's pretty close. We can even go further and check that the standard deviation hasn't changed:\n\n\n",
      "attachments": {},
      "cell_type": "markdown",
      "metadata": {}
    },
    {
      "execution_count": 0,
      "source": "print('std dev before and after:', numpy.std(data), numpy.std(offset_data))",
      "outputs": [],
      "cell_type": "code",
      "metadata": {
        "collapsed": false,
        "format": "row",
        "scrolled": true
      }
    },
    {
      "source": "Those values look the same, but we probably wouldn't notice if they were different in the sixth decimal place. Let's do this instead:\n\n\n",
      "attachments": {},
      "cell_type": "markdown",
      "metadata": {}
    },
    {
      "execution_count": 0,
      "source": "print('difference in standard deviations before and after:',\n      numpy.std(data) - numpy.std(offset_data))",
      "outputs": [],
      "cell_type": "code",
      "metadata": {
        "collapsed": false,
        "format": "row",
        "scrolled": true
      }
    },
    {
      "source": "Again, the difference is very small. It's still possible that our function is wrong, but it seems unlikely enough that we should probably get back to doing our analysis. We have one more task first, though: we should write some <span style=\"color:red\" title=\"Human-language text written to explain what software does, how it works, or how to use it.\">documentation</span> for our function to remind ourselves later what it's for and how to use it.\n\n\nThe usual way to put documentation in software is to add <span style=\"color:red\" title=\"A remark in a program that is intended to help human readers understand what is going on, but is ignored by the computer. Comments in Python, R, and the Unix shell start with a `#` character and run to the end of the line; comments in SQL start with `--`, and other languages have other conventions.\">comments</span> like this:\n\n\n",
      "attachments": {},
      "cell_type": "markdown",
      "metadata": {}
    },
    {
      "execution_count": 0,
      "source": "# offset_mean(data, target_mean_value):\n# return a new array containing the original data with its mean offset to match the desired value.\ndef offset_mean(data, target_mean_value):\n    return (data - numpy.mean(data)) + target_mean_value",
      "outputs": [],
      "cell_type": "code",
      "metadata": {
        "collapsed": false,
        "format": "row",
        "scrolled": true
      }
    },
    {
      "source": "There's a better way, though. If the first thing in a function is a string that isn't assigned to a variable, that string is attached to the function as its documentation:\n\n\n",
      "attachments": {},
      "cell_type": "markdown",
      "metadata": {}
    },
    {
      "execution_count": 0,
      "source": "def offset_mean(data, target_mean_value):\n    \"\"\"Return a new array containing the original data\n       with its mean offset to match the desired value.\"\"\"\n    return (data - numpy.mean(data)) + target_mean_value",
      "outputs": [],
      "cell_type": "code",
      "metadata": {
        "collapsed": false,
        "format": "row",
        "scrolled": true
      }
    },
    {
      "source": "This is better because we can now ask Python's built-in help system to show us the documentation for the function:\n\n\n",
      "attachments": {},
      "cell_type": "markdown",
      "metadata": {}
    },
    {
      "execution_count": 0,
      "source": "help(offset_mean)",
      "outputs": [],
      "cell_type": "code",
      "metadata": {
        "collapsed": false,
        "format": "row",
        "scrolled": true
      }
    },
    {
      "source": "A string like this is called a <span style=\"color:red\" title=\"Short for 'documentation string', this refers to textual documentation embedded in Python programs. Unlike comments, docstrings are preserved in the running program and can be examined in interactive sessions.\">docstring</span>. We don't need to use triple quotes when we write one, but if we do, we can break the string across multiple lines:\n\n\n",
      "attachments": {},
      "cell_type": "markdown",
      "metadata": {}
    },
    {
      "execution_count": 0,
      "source": "def offset_mean(data, target_mean_value):\n    \"\"\"Return a new array containing the original data\n       with its mean offset to match the desired value.\n\n    Examples\n    --------\n    >>> offset_mean([1, 2, 3], 0)\n    array([-1.,  0.,  1.])\n    \"\"\"\n    return (data - numpy.mean(data)) + target_mean_value\n\nhelp(offset_mean)",
      "outputs": [],
      "cell_type": "code",
      "metadata": {
        "collapsed": false,
        "format": "row",
        "scrolled": true
      }
    },
    {
      "source": "## Defining Defaults\n\n\nWe have passed parameters to functions in two ways: directly, as in `type(data)`, and by name, as in `numpy.loadtxt(fname='something.csv', delimiter=',')`. In fact, we can pass the filename to `loadtxt` without the `fname=`:\n\n\n",
      "attachments": {},
      "cell_type": "markdown",
      "metadata": {}
    },
    {
      "execution_count": 0,
      "source": "numpy.loadtxt('data/inflammation-01.csv', delimiter=',')",
      "outputs": [],
      "cell_type": "code",
      "metadata": {
        "collapsed": false,
        "format": "row",
        "scrolled": true
      }
    },
    {
      "source": "but we still need to say `delimiter=`:\n\n\n",
      "attachments": {},
      "cell_type": "markdown",
      "metadata": {}
    },
    {
      "execution_count": 0,
      "source": "numpy.loadtxt('data/inflammation-01.csv', ',')",
      "outputs": [],
      "cell_type": "code",
      "metadata": {
        "collapsed": false,
        "format": "row",
        "scrolled": true
      }
    },
    {
      "source": "To understand what's going on, and make our own functions easier to use, let's re-define our `offset_mean` function like this:\n\n\n",
      "attachments": {},
      "cell_type": "markdown",
      "metadata": {}
    },
    {
      "execution_count": 0,
      "source": "def offset_mean(data, target_mean_value=0.0):\n    \"\"\"Return a new array containing the original data\n       with its mean offset to match the desired value, (0 by default).\n\n    Examples\n    --------\n    >>> offset_mean([1, 2, 3])\n    array([-1.,  0.,  1.])\n    \"\"\"\n    return (data - numpy.mean(data)) + target_mean_value",
      "outputs": [],
      "cell_type": "code",
      "metadata": {
        "collapsed": false,
        "format": "row",
        "scrolled": true
      }
    },
    {
      "source": "The key change is that the second parameter is now written `target_mean_value=0.0` instead of just `target_mean_value`. If we call the function with two arguments, it works as it did before:\n\n\n",
      "attachments": {},
      "cell_type": "markdown",
      "metadata": {}
    },
    {
      "execution_count": 0,
      "source": "test_data = numpy.zeros((2, 2))\nprint(offset_mean(test_data, 3))",
      "outputs": [],
      "cell_type": "code",
      "metadata": {
        "collapsed": false,
        "format": "row",
        "scrolled": true
      }
    },
    {
      "source": "But we can also now call it with just one parameter, in which case `target_mean_value` is automatically assigned the <span style=\"color:red\" title=\"A value to use for a parameter if nothing is specified explicitly.\">default value</span> of 0.0:\n\n\n",
      "attachments": {},
      "cell_type": "markdown",
      "metadata": {}
    },
    {
      "execution_count": 0,
      "source": "more_data = 5 + numpy.zeros((2, 2))\nprint('data before mean offset:')\nprint(more_data)\nprint('offset data:')\nprint(offset_mean(more_data))",
      "outputs": [],
      "cell_type": "code",
      "metadata": {
        "collapsed": false,
        "format": "row",
        "scrolled": true
      }
    },
    {
      "source": "This is handy: if we usually want a function to work one way, but occasionally need it to do something else, we can allow people to pass a parameter when they need to but provide a default to make the normal case easier. The example below shows how Python matches values to parameters:\n\n\n",
      "attachments": {},
      "cell_type": "markdown",
      "metadata": {}
    },
    {
      "execution_count": 0,
      "source": "def display(a=1, b=2, c=3):\n    print('a:', a, 'b:', b, 'c:', c)\n\nprint('no parameters:')\ndisplay()\nprint('one parameter:')\ndisplay(55)\nprint('two parameters:')\ndisplay(55, 66)",
      "outputs": [],
      "cell_type": "code",
      "metadata": {
        "collapsed": false,
        "format": "row",
        "scrolled": true
      }
    },
    {
      "source": "As this example shows, parameters are matched up from left to right, and any that haven't been given a value explicitly get their default value. We can override this behavior by naming the value as we pass it in:\n\n\n",
      "attachments": {},
      "cell_type": "markdown",
      "metadata": {}
    },
    {
      "execution_count": 0,
      "source": "print('only setting the value of c')\ndisplay(c=77)",
      "outputs": [],
      "cell_type": "code",
      "metadata": {
        "collapsed": false,
        "format": "row",
        "scrolled": true
      }
    },
    {
      "source": "With that in hand, let's look at the help for `numpy.loadtxt`:\n\n\n",
      "attachments": {},
      "cell_type": "markdown",
      "metadata": {}
    },
    {
      "execution_count": 0,
      "source": "help(numpy.loadtxt)",
      "outputs": [],
      "cell_type": "code",
      "metadata": {
        "collapsed": false,
        "format": "row",
        "scrolled": true
      }
    },
    {
      "source": "There's a lot of information here, but the most important part is the first couple of lines:\n\n\nThis tells us that `loadtxt` has one parameter called `fname` that doesn't have a default value, and eight others that do. If we call the function like this:\n\n\n",
      "attachments": {},
      "cell_type": "markdown",
      "metadata": {}
    },
    {
      "execution_count": 0,
      "source": "numpy.loadtxt('data/inflammation-01.csv', ',')",
      "outputs": [],
      "cell_type": "code",
      "metadata": {
        "collapsed": false,
        "format": "row",
        "scrolled": true
      }
    },
    {
      "source": "then the filename is assigned to `fname` (which is what we want), but the delimiter string `','` is assigned to `dtype` rather than `delimiter`, because `dtype` is the second parameter in the list. However `','` isn't a known `dtype` so our code produced an error message when we tried to run it. When we call `loadtxt` we don't have to provide `fname=` for the filename because it's the first item in the list, but if we want the `','` to be assigned to the variable `delimiter`, we *do* have to provide `delimiter=` for the second parameter since `delimiter` is not the second parameter in the list.\n\n\n## Readable functions\n\n\nConsider these two functions:\n\n\n",
      "attachments": {},
      "cell_type": "markdown",
      "metadata": {}
    },
    {
      "execution_count": 0,
      "source": "def s(p):\n    a = 0\n    for v in p:\n        a += v\n    m = a / len(p)\n    d = 0\n    for v in p:\n        d += (v - m) * (v - m)\n    return numpy.sqrt(d / (len(p) - 1))\n\ndef std_dev(sample):\n    sample_sum = 0\n    for value in sample:\n        sample_sum += value\n\n    sample_mean = sample_sum / len(sample)\n\n    sum_squared_devs = 0\n    for value in sample:\n        sum_squared_devs += (value - sample_mean) * (value - sample_mean)\n\n    return numpy.sqrt(sum_squared_devs / (len(sample) - 1))",
      "outputs": [],
      "cell_type": "code",
      "metadata": {
        "collapsed": false,
        "format": "row",
        "scrolled": true
      }
    },
    {
      "source": "The functions `s` and `std_dev` are computationally equivalent (they both calculate the sample standard deviation), but to a human reader, they look very different. You probably found `std_dev` much easier to read and understand than `s`.\n\n\nAs this example illustrates, both documentation and a programmer's _coding style_ combine to determine how easy it is for others to read and understand the programmer's code. Choosing meaningful variable names and using blank spaces to break the code into logical \"chunks\" are helpful techniques for producing _readable code_. This is useful not only for sharing code with others, but also for the original programmer. If you need to revisit code that you wrote months ago and haven't thought about since then, you will appreciate the value of readable code!\n\n\n## Combining Strings\n\n\n\"Adding\" two strings produces their concatenation: `'a' + 'b'` is `'ab'`. Write a function called `fence` that takes two parameters called `original` and `wrapper` and returns a new string that has the wrapper character at the beginning and end of the original. A call to your function should look like this:\n\n\n---\n\n\n<span style=\"color:blue\">In [1]:</span>\n```python\nprint(fence('name', '*'))\n```\n---\n\n\n\n\n---\n\n\n<span style=\"color:red\">Out [1]:</span>\n```python\n*name*\n```\n---\n\n\n\n\n",
      "attachments": {},
      "cell_type": "markdown",
      "metadata": {}
    },
    {
      "execution_count": 0,
      "source": "#Your answer",
      "outputs": [],
      "cell_type": "code",
      "metadata": {
        "collapsed": false,
        "format": "row",
        "scrolled": true
      }
    },
    {
      "source": "<details>  \n<summary><b> Solution</b></summary>  \n\n---  \n<span style=\"color:blue\">In [1]:</span>  \n```python\ndef fence(original, wrapper):  \n    return wrapper + original + wrapper  \n```\n---  \n\n\n</details>  \n\n",
      "attachments": {},
      "cell_type": "markdown",
      "metadata": {}
    },
    {
      "source": "## Return versus print\n\n\nNote that `return` and `print` are not interchangeable. `print` is a Python function that *prints* data to the screen. It enables us, *users*, see the data. `return` statement, on the other hand, makes data visible to the program. Let's have a look at the following function:\n\n\n",
      "attachments": {},
      "cell_type": "markdown",
      "metadata": {}
    },
    {
      "execution_count": 0,
      "source": "def add(a, b):\n    print(a + b)",
      "outputs": [],
      "cell_type": "code",
      "metadata": {
        "collapsed": false,
        "format": "row",
        "scrolled": true
      }
    },
    {
      "source": "**Question**: What will we see if we execute the following commands?\n\n\n---\n\n\n<span style=\"color:blue\">In [1]:</span>\n```python\nA = add(7, 3)\nprint(A)\n```\n---\n\n\n\n\n",
      "attachments": {},
      "cell_type": "markdown",
      "metadata": {}
    },
    {
      "source": "Your answer",
      "attachments": {},
      "cell_type": "raw",
      "metadata": {}
    },
    {
      "source": "<details>  \n<summary><b> Solution</b></summary>  \n\nPython will first execute the function `add` with `a = 7` and `b = 3`, and, therefore, print `10`. However, because function `add` does not have a line that starts with `return` (no `return` \"statement\"), it will, by default, return nothing which, in Python world, is called `None`. Therefore, `A` will be assigned to `None` and the last line (`print(A)`) will print `None`. As a result, we will see:  \n\n\n---  \n<span style=\"color:red\">Out [1]:</span>  \n```\n10  \nNone  \n```\n---  \n\n\n</details>  \n\n",
      "attachments": {},
      "cell_type": "markdown",
      "metadata": {}
    },
    {
      "source": "## Selecting Characters From Strings\n\n\nIf the variable `s` refers to a string, then `s[0]` is the string's first character and `s[-1]` is its last. Write a function called `outer` that returns a string made up of just the first and last characters of its input. A call to your function should look like this:\n\n\n---\n\n\n<span style=\"color:blue\">In [1]:</span>\n```python\nprint(outer('helium'))\n```\n---\n\n\n\n\n---\n\n\n<span style=\"color:red\">Out [1]:</span>\n```python\nhm\n```\n---\n\n\n\n\n",
      "attachments": {},
      "cell_type": "markdown",
      "metadata": {}
    },
    {
      "execution_count": 0,
      "source": "#Your answer",
      "outputs": [],
      "cell_type": "code",
      "metadata": {
        "collapsed": false,
        "format": "row",
        "scrolled": true
      }
    },
    {
      "source": "<details>  \n<summary><b> Solution</b></summary>  \n\n---  \n<span style=\"color:blue\">In [1]:</span>  \n```python\ndef outer(input_string):  \n    return input_string[0] + input_string[-1]  \n```\n---  \n\n\n</details>  \n\n",
      "attachments": {},
      "cell_type": "markdown",
      "metadata": {}
    },
    {
      "source": "## Rescaling an Array\n\n\nWrite a function `rescale` that takes an array as input and returns a corresponding array of values scaled to lie in the range 0.0 to 1.0. (Hint: If `L` and `H` are the lowest and highest values in the original array, then the replacement for a value `v` should be `(v-L) / (H-L)`.)\n\n\n",
      "attachments": {},
      "cell_type": "markdown",
      "metadata": {}
    },
    {
      "execution_count": 0,
      "source": "#Your answer",
      "outputs": [],
      "cell_type": "code",
      "metadata": {
        "collapsed": false,
        "format": "row",
        "scrolled": true
      }
    },
    {
      "source": "<details>  \n<summary><b> Solution</b></summary>  \n\n---  \n<span style=\"color:blue\">In [1]:</span>  \n```python\ndef rescale(input_array):  \n    L = numpy.min(input_array)  \n    H = numpy.max(input_array)  \n    output_array = (input_array - L) / (H - L)  \n    return output_array  \n```\n---  \n\n\n</details>  \n\n",
      "attachments": {},
      "cell_type": "markdown",
      "metadata": {}
    },
    {
      "source": "## Testing and Documenting Your Function\n\n\nRun the commands `help(numpy.arange)` and `help(numpy.linspace)` to see how to use these functions to generate regularly-spaced values, then use those values to test your `rescale` function. Once you've successfully tested your function, add a docstring that explains what it does.\n\n\n",
      "attachments": {},
      "cell_type": "markdown",
      "metadata": {}
    },
    {
      "execution_count": 0,
      "source": "#Your answer",
      "outputs": [],
      "cell_type": "code",
      "metadata": {
        "collapsed": false,
        "format": "row",
        "scrolled": true
      }
    },
    {
      "source": "<details>  \n<summary><b> Solution</b></summary>  \n\n---  \n<span style=\"color:blue\">In [1]:</span>  \n```python\n\"\"\"Takes an array as input, and returns a corresponding array scaled so  \nthat 0 corresponds to the minimum and 1 to the maximum value of the input array.  \n\nExamples:  \n rescale(numpy.arange(10.0))  \narray([ 0.        ,  0.11111111,  0.22222222,  0.33333333,  0.44444444,  \n       0.55555556,  0.66666667,  0.77777778,  0.88888889,  1.        ])  \n rescale(numpy.linspace(0, 100, 5))  \narray([ 0.  ,  0.25,  0.5 ,  0.75,  1.  ])  \n\"\"\"  \n```\n---  \n\n\n</details>  \n\n",
      "attachments": {},
      "cell_type": "markdown",
      "metadata": {}
    },
    {
      "source": "## Defining Defaults\n\n\nRewrite the `rescale` function so that it scales data to lie between `0.0` and `1.0` by default, but will allow the caller to specify lower and upper bounds if they want. Compare your implementation to your neighbor's: do the two functions always behave the same way?\n\n\n",
      "attachments": {},
      "cell_type": "markdown",
      "metadata": {}
    },
    {
      "execution_count": 0,
      "source": "#Your answer",
      "outputs": [],
      "cell_type": "code",
      "metadata": {
        "collapsed": false,
        "format": "row",
        "scrolled": true
      }
    },
    {
      "source": "<details>  \n<summary><b> Solution</b></summary>  \n\n---  \n<span style=\"color:blue\">In [1]:</span>  \n```python\ndef rescale(input_array, low_val=0.0, high_val=1.0):  \n    \"\"\"rescales input array values to lie between low_val and high_val\"\"\"  \n    L = numpy.min(input_array)  \n    H = numpy.max(input_array)  \n    intermed_array = (input_array - L) / (H - L)  \n    output_array = intermed_array * (high_val - low_val) + low_val  \n    return output_array  \n```\n---  \n\n\n</details>  \n\n",
      "attachments": {},
      "cell_type": "markdown",
      "metadata": {}
    },
    {
      "source": "## Variables Inside and Outside Functions\n\n\nWhat does the following piece of code display when run --- and why?\n\n\n---\n\n\n<span style=\"color:blue\">In [1]:</span>\n```python\nf = 0\nk = 0\n\ndef f2k(f):\n    k = ((f-32)*(5.0/9.0)) + 273.15\n    return k\n\nf2k(8)\nf2k(41)\nf2k(32)\n\nprint(k)\n```\n---\n\n\n\n\n",
      "attachments": {},
      "cell_type": "markdown",
      "metadata": {}
    },
    {
      "source": "Your answer",
      "attachments": {},
      "cell_type": "raw",
      "metadata": {}
    },
    {
      "source": "<details>  \n<summary><b> Solution</b></summary>  \n\n---  \n<span style=\"color:red\">Out [1]:</span>  \n```\n259.81666666666666  \n287.15  \n273.15  \n0  \n```\n---  \n\n\n`k` is 0 because the `k` inside the function `f2k` doesn't know about the `k` defined outside the function.  \n\n\n</details>  \n\n",
      "attachments": {},
      "cell_type": "markdown",
      "metadata": {}
    },
    {
      "source": "## Mixing Default and Non-Default Parameters\n\n\nGiven the following code:\n\n\n---\n\n\n<span style=\"color:blue\">In [1]:</span>\n```python\ndef numbers(one, two=2, three, four=4):\n    n = str(one) + str(two) + str(three) + str(four)\n    return n\n\nprint(numbers(1, three=3))\n```\n---\n\n\n\n\nwhat do you expect will be printed?  What is actually printed? What rule do you think Python is following?\n\n\n1.  `1234`\n\n2.  `one2three4`\n\n3.  `1239`\n\n4.  `SyntaxError`\n\nGiven that, what does the following piece of code display when run?\n\n\n",
      "attachments": {},
      "cell_type": "markdown",
      "metadata": {}
    },
    {
      "source": "Your answer",
      "attachments": {},
      "cell_type": "raw",
      "metadata": {}
    },
    {
      "source": "<details>  \n<summary><b> Solution</b></summary>  \n\nAttempting to define the `numbers` function results in `4. SyntaxError`. The defined parameters `two` and `four` are given default values. Because `one` and `three` are not given default values, they are required to be included as arguments when the function is called and must be placed before any parameters that have default values in the function definition.  \n\n\n</details>  \n\n",
      "attachments": {},
      "cell_type": "markdown",
      "metadata": {}
    },
    {
      "execution_count": 0,
      "source": "def func(a, b=3, c=6):\n    print('a: ', a, 'b: ', b, 'c:', c)\n\nfunc(-1, 2)",
      "outputs": [],
      "cell_type": "code",
      "metadata": {
        "collapsed": false,
        "format": "row",
        "scrolled": true
      }
    },
    {
      "source": "1. `a: b: 3 c: 6`\n\n2. `a: -1 b: 3 c: 6`\n\n3. `a: -1 b: 2 c: 6`\n\n4. `a: b: -1 c: 2`\n\n",
      "attachments": {},
      "cell_type": "markdown",
      "metadata": {}
    },
    {
      "source": "Your answer",
      "attachments": {},
      "cell_type": "raw",
      "metadata": {}
    },
    {
      "source": "<details>  \n<summary><b> Solution</b></summary>  \n\nThe given call to `func` displays `a: -1 b: 2 c: 6`. -1 is assigned to the first parameter `a`, 2 is assigned to the next parameter `b`, and `c` is not passed a value, so it uses its default value 6.  \n\n\n</details>  \n\n",
      "attachments": {},
      "cell_type": "markdown",
      "metadata": {}
    },
    {
      "source": "## The Old Switcheroo\n\n\nConsider this code:\n\n\n---\n\n\n<span style=\"color:blue\">In [1]:</span>\n```python\na = 3\nb = 7\n\ndef swap(a, b):\n    temp = a\n    a = b\n    b = temp\n\nswap(a, b)\n\nprint(a, b)\n```\n---\n\n\n\n\nWhich of the following would be printed if you were to run this code? Why did you pick this answer?\n\n\n1. `7 3`\n\n2. `3 7`\n\n3. `3 3`\n\n4. `7 7`\n\n",
      "attachments": {},
      "cell_type": "markdown",
      "metadata": {}
    },
    {
      "source": "Your answer",
      "attachments": {},
      "cell_type": "raw",
      "metadata": {}
    },
    {
      "source": "<details>  \n<summary><b> Solution</b></summary>  \n\n`3 7` is the correct answer. Initially, `a` has a value of 3 and `b` has a value of 7. When the `swap` function is called, it creates local variables (also called `a` and `b` in this case) and trades their values. The function does not return any values and does not alter `a` or `b` outside of its local copy. Therefore the original values of `a` and `b` remain unchanged.  \n\n\n</details>  \n\n",
      "attachments": {},
      "cell_type": "markdown",
      "metadata": {}
    },
    {
      "source": "## Readable Code\n\n\nRevise a function you wrote for one of the previous exercises to try to make the code more readable.\n\n\n",
      "attachments": {},
      "cell_type": "markdown",
      "metadata": {}
    },
    {
      "execution_count": 0,
      "source": "#Your answer",
      "outputs": [],
      "cell_type": "code",
      "metadata": {
        "collapsed": false,
        "format": "row",
        "scrolled": true
      }
    }
  ],
  "metadata": {
    "language_info": {
      "file_extension": ".py",
      "nbconvert_exporter": "python",
      "name": "python",
      "codemirror_mode": {
        "version": 3,
        "name": "ipython"
      },
      "mimetype": "text/x-python",
      "version": "3.7.6",
      "pygments_lexer": "ipython3"
    },
    "kernelspec": {
      "language": "python",
      "name": "python3",
      "display_name": "Python 3"
    },
    "toc": {
      "toc_section_display": true,
      "toc_cell": false,
      "sideBar": true,
      "base_numbering": 1,
      "toc_window_display": true,
      "title_cell": "Table of Contents",
      "toc_postion": {},
      "title_sidebar": "Contents",
      "skip_h1_title": false,
      "nav_menu": {},
      "number_sections": false
    }
  }
}