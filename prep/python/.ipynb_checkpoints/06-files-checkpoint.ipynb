{
  "cells": [
    {
      "attachments": {},
      "source": "Adapted from [Software Carpentry](https://swcarpentry.github.io/python-novice-inflammation/06-files/index.html \"06-files\")",
      "metadata": {},
      "cell_type": "markdown"
    },
    {
      "attachments": {},
      "source": "---\n\n\n\n\n# Analyzing Data from Multiple Files\n\n\nteaching: 20\n\n\nexercises: 0\n\n\nquestions:\n\n\n- \"How can I do the same operations on many different files?\"\n\n\nobjectives:\n\n\n- \"Use a library function to get a list of filenames that match a wildcard pattern.\"\n- \"Write a `for` loop to process multiple files.\"\n\n\nkeypoints:\n\n\n- \"Use `glob.glob(pattern)` to create a list of files whose names match a pattern.\"\n- \"Use `*` in a pattern to match zero or more characters, and `?` to match any single character.\"\n---\n\n\n\n\nWe now have almost everything we need to process all our data files. The only thing that's missing is a library with a rather unpleasant name:\n\n\n",
      "metadata": {},
      "cell_type": "markdown"
    },
    {
      "execution_count": 0,
      "source": "import glob",
      "metadata": {
        "collapsed": false,
        "scrolled": true,
        "format": "row"
      },
      "cell_type": "code",
      "outputs": []
    },
    {
      "attachments": {},
      "source": "The `glob` library contains a function, also called `glob`, that finds files and directories whose names match a pattern. We provide those patterns as strings: the character `*` matches zero or more characters, while `?` matches any one character. We can use this to get the names of all the CSV files in the current directory:\n\n\n",
      "metadata": {},
      "cell_type": "markdown"
    },
    {
      "execution_count": 0,
      "source": "print(glob.glob('data/inflammation*.csv'))",
      "metadata": {
        "collapsed": false,
        "scrolled": true,
        "format": "row"
      },
      "cell_type": "code",
      "outputs": []
    },
    {
      "attachments": {},
      "source": "As these examples show, `glob.glob`'s result is a list of file and directory paths in arbitrary order. This means we can loop over it to do something with each filename in turn. In our case, the \"something\" we want to do is generate a set of plots for each file in our inflammation dataset. If we want to start by analyzing just the first three files in alphabetical order, we can use the `sorted` built-in function to generate a new sorted list from the `glob.glob` output:\n\n\n",
      "metadata": {},
      "cell_type": "markdown"
    },
    {
      "execution_count": 0,
      "source": "import glob\nimport numpy\nimport matplotlib.pyplot\n\nfilenames = sorted(glob.glob('data/inflammation*.csv'))\nfilenames = filenames[0:3]\nfor filename in filenames:\n    print(filename)\n\n    data = numpy.loadtxt(fname=filename, delimiter=',')\n\n    fig = matplotlib.pyplot.figure(figsize=(10.0, 3.0))\n\n    axes1 = fig.add_subplot(1, 3, 1)\n    axes2 = fig.add_subplot(1, 3, 2)\n    axes3 = fig.add_subplot(1, 3, 3)\n\n    axes1.set_ylabel('average')\n    axes1.plot(numpy.mean(data, axis=0))\n\n    axes2.set_ylabel('max')\n    axes2.plot(numpy.max(data, axis=0))\n\n    axes3.set_ylabel('min')\n    axes3.plot(numpy.min(data, axis=0))\n\n    fig.tight_layout()\n    matplotlib.pyplot.show()",
      "metadata": {
        "collapsed": false,
        "scrolled": true,
        "format": "row"
      },
      "cell_type": "code",
      "outputs": []
    },
    {
      "attachments": {},
      "source": "Sure enough, the maxima of the first two data sets show exactly the same ramp as the first, and their minima show the same staircase structure; a different situation has been revealed in the third dataset, where the maxima are a bit less regular, but the minima are consistently zero.\n\n\n## Plotting Differences\n\n\nPlot the difference between the average inflammations reported in the first and second datasets (stored in `inflammation-01.csv` and `inflammation-02.csv`, correspondingly), i.e., the difference between the leftmost plots of the first two figures.\n\n\n",
      "metadata": {},
      "cell_type": "markdown"
    },
    {
      "execution_count": 0,
      "source": "#Your answer",
      "metadata": {
        "collapsed": false,
        "scrolled": true,
        "format": "row"
      },
      "cell_type": "code",
      "outputs": []
    },
    {
      "attachments": {},
      "source": "<details>  \n<summary><b> Solution</b></summary>  \n\n---  \n<span style=\"color:blue\">In [1]:</span>  \n```python\nimport glob  \nimport numpy  \nimport matplotlib.pyplot  \n\nfilenames = sorted(glob.glob('data/inflammation*.csv'))  \n\ndata0 = numpy.loadtxt(fname=filenames[0], delimiter=',')  \ndata1 = numpy.loadtxt(fname=filenames[1], delimiter=',')  \n\nfig = matplotlib.pyplot.figure(figsize=(10.0, 3.0))  \n\nmatplotlib.pyplot.ylabel('Difference in average')  \nmatplotlib.pyplot.plot(numpy.mean(data0, axis=0) - numpy.mean(data1, axis=0))  \n\nfig.tight_layout()  \nmatplotlib.pyplot.show()  \n```\n---  \n\n\n</details>  \n\n",
      "metadata": {},
      "cell_type": "markdown"
    },
    {
      "attachments": {},
      "source": "## Generate Composite Statistics\n\n\nUse each of the files once to generate a dataset containing values averaged over all patients:\n\n\n",
      "metadata": {},
      "cell_type": "markdown"
    },
    {
      "execution_count": 0,
      "source": "filenames = glob.glob('data/inflammation*.csv')\ncomposite_data = numpy.zeros((60,40))",
      "metadata": {
        "collapsed": false,
        "scrolled": true,
        "format": "row"
      },
      "cell_type": "code",
      "outputs": []
    },
    {
      "attachments": {},
      "source": "---\n\n\n<span style=\"color:blue\">In [1]:</span>\n```python\nfor filename in filenames:\n    # sum each new file's data into composite_data as it's read\n    #\n# and then divide the composite_data by number of samples\ncomposite_data = composite_data / len(filenames)\n```\n---\n\n\n\n\nThen use pyplot to generate average, max, and min for all patients.\n\n\n",
      "metadata": {},
      "cell_type": "markdown"
    },
    {
      "execution_count": 0,
      "source": "#Your answer",
      "metadata": {
        "collapsed": false,
        "scrolled": true,
        "format": "row"
      },
      "cell_type": "code",
      "outputs": []
    },
    {
      "attachments": {},
      "source": "<details>  \n<summary><b> Solution</b></summary>  \n\n---  \n<span style=\"color:blue\">In [1]:</span>  \n```python\nimport glob  \nimport numpy  \nimport matplotlib.pyplot  \n\nfilenames = glob.glob('data/inflammation*.csv')  \ncomposite_data = numpy.zeros((60,40))  \n\nfor filename in filenames:  \n    data = numpy.loadtxt(fname = filename, delimiter=',')  \n    composite_data = composite_data + data  \n\ncomposite_data = composite_data / len(filenames)  \n\nfig = matplotlib.pyplot.figure(figsize=(10.0, 3.0))  \n\naxes1 = fig.add_subplot(1, 3, 1)  \naxes2 = fig.add_subplot(1, 3, 2)  \naxes3 = fig.add_subplot(1, 3, 3)  \n\naxes1.set_ylabel('average')  \naxes1.plot(numpy.mean(composite_data, axis=0))  \n\naxes2.set_ylabel('max')  \naxes2.plot(numpy.max(composite_data, axis=0))  \n\naxes3.set_ylabel('min')  \naxes3.plot(numpy.min(composite_data, axis=0))  \n\nfig.tight_layout()  \n\nmatplotlib.pyplot.show()  \n```\n---  \n\n\n</details>  \n\n",
      "metadata": {},
      "cell_type": "markdown"
    }
  ],
  "nbformat": 4,
  "metadata": {
    "toc": {
      "title_sidebar": "Contents",
      "base_numbering": 1,
      "number_sections": false,
      "nav_menu": {},
      "sideBar": true,
      "toc_section_display": true,
      "title_cell": "Table of Contents",
      "toc_postion": {},
      "skip_h1_title": false,
      "toc_window_display": true,
      "toc_cell": false
    },
    "kernelspec": {
      "name": "python3",
      "language": "python",
      "display_name": "Python 3"
    },
    "language_info": {
      "file_extension": ".py",
      "version": "3.7.6",
      "pygments_lexer": "ipython3",
      "nbconvert_exporter": "python",
      "mimetype": "text/x-python",
      "name": "python",
      "codemirror_mode": {
        "name": "ipython",
        "version": 3
      }
    }
  },
  "nbformat_minor": 4
}