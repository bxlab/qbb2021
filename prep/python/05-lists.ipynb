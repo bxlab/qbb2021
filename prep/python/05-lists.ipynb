{
  "nbformat": 4,
  "nbformat_minor": 4,
  "metadata": {
    "kernelspec": {
      "language": "python",
      "display_name": "Python 3",
      "name": "python3"
    },
    "language_info": {
      "version": "3.7.6",
      "codemirror_mode": {
        "version": 3,
        "name": "ipython"
      },
      "pygments_lexer": "ipython3",
      "nbconvert_exporter": "python",
      "mimetype": "text/x-python",
      "name": "python",
      "file_extension": ".py"
    },
    "toc": {
      "toc_postion": {},
      "title_sidebar": "Contents",
      "number_sections": false,
      "toc_section_display": true,
      "skip_h1_title": false,
      "title_cell": "Table of Contents",
      "nav_menu": {},
      "base_numbering": 1,
      "toc_cell": false,
      "toc_window_display": true,
      "sideBar": true
    }
  },
  "cells": [
    {
      "attachments": {},
      "metadata": {},
      "cell_type": "markdown",
      "source": "Adapted from [Software Carpentry](https://swcarpentry.github.io/python-novice-inflammation/05-lists/index.html \"05-lists\")"
    },
    {
      "attachments": {},
      "metadata": {},
      "cell_type": "markdown",
      "source": "---\n\n\n\n\n# Storing Multiple Values in Lists\n\n\nteaching: 30\n\n\nexercises: 15\n\n\nquestions:\n\n\n- \"How can I store many values together?\"\n\n\nobjectives:\n\n\n- \"Explain what a list is.\"\n- \"Create and index lists of simple values.\"\n- \"Change the values of individual elements\"\n- \"Append values to an existing list\"\n- \"Reorder and slice list elements\"\n- \"Create and manipulate nested lists\"\n\n\nkeypoints:\n\n\n- \"`[value1, value2, value3, ...]` creates a list.\"\n- \"Lists can contain any Python object, including lists (i.e., list of lists).\"\n- \"Lists are indexed and sliced with square brackets (e.g., list[0] and list[2:9]), in the same way as strings and arrays.\"\n- \"Lists are mutable (i.e., their values can be changed in place).\"\n- \"Strings are immutable (i.e., the characters in them cannot be changed).\"\n---\n\n\n\n\nSimilar to a string that can contain many characters, a list is a container that can store many values. Unlike NumPy arrays, lists are built into the language (so we don't have to load a library to use them). We create a list by putting values inside square brackets and separating the values with commas:\n\n\n"
    },
    {
      "execution_count": 0,
      "outputs": [],
      "metadata": {
        "scrolled": true,
        "collapsed": false,
        "format": "row"
      },
      "cell_type": "code",
      "source": "odds = [1, 3, 5, 7]\nprint('odds are:', odds)"
    },
    {
      "attachments": {},
      "metadata": {},
      "cell_type": "markdown",
      "source": "We can access elements of a list using indices -- numbered positions of elements in the list. These positions are numbered starting at 0, so the first element has an index of 0.\n\n\n"
    },
    {
      "execution_count": 0,
      "outputs": [],
      "metadata": {
        "scrolled": true,
        "collapsed": false,
        "format": "row"
      },
      "cell_type": "code",
      "source": "print('first element:', odds[0])\nprint('last element:', odds[3])\nprint('\"-1\" element:', odds[-1])"
    },
    {
      "attachments": {},
      "metadata": {},
      "cell_type": "markdown",
      "source": "Yes, we can use negative numbers as indices in Python. When we do so, the index `-1` gives us the last element in the list, `-2` the second to last, and so on. Because of this, `odds[3]` and `odds[-1]` point to the same element here.\n\n\nIf we loop over a list, the loop variable is assigned to its elements one at a time:\n\n\n"
    },
    {
      "execution_count": 0,
      "outputs": [],
      "metadata": {
        "scrolled": true,
        "collapsed": false,
        "format": "row"
      },
      "cell_type": "code",
      "source": "for number in odds:\n    print(number)"
    },
    {
      "attachments": {},
      "metadata": {},
      "cell_type": "markdown",
      "source": "There is one important difference between lists and strings: we can change the values in a list, but we cannot change individual characters in a string. For example:\n\n\n"
    },
    {
      "execution_count": 0,
      "outputs": [],
      "metadata": {
        "scrolled": true,
        "collapsed": false,
        "format": "row"
      },
      "cell_type": "code",
      "source": "names = ['Curie', 'Darwing', 'Turing']  # typo in Darwin's name\nprint('names is originally:', names)\nnames[1] = 'Darwin'  # correct the name\nprint('final value of names:', names)"
    },
    {
      "attachments": {},
      "metadata": {},
      "cell_type": "markdown",
      "source": "works, but:\n\n\n"
    },
    {
      "execution_count": 0,
      "outputs": [],
      "metadata": {
        "scrolled": true,
        "collapsed": false,
        "format": "row"
      },
      "cell_type": "code",
      "source": "name = 'Darwin'\nname[0] = 'd'"
    },
    {
      "attachments": {},
      "metadata": {},
      "cell_type": "markdown",
      "source": "does not.\n\n\n"
    },
    {
      "attachments": {},
      "metadata": {},
      "cell_type": "markdown",
      "source": "## Ch-Ch-Ch-Ch-Changes\n\n\nData which can be modified in place is called <span style=\"color:red\" title=\"Changeable. The value of mutable data can be altered after it has been created. See immutable.\">mutable</span>, while data which cannot be modified is called <span style=\"color:red\" title=\"Unchangeable. The value of immutable data cannot be altered after it has been created. See also: mutable.\">immutable</span>. Strings and numbers are immutable. This does not mean that variables with string or number values are constants, but when we want to change the value of a string or number variable, we can only replace the old value with a completely new value.\n\n\nLists and arrays, on the other hand, are mutable: we can modify them after they have been created. We can change individual elements, append new elements, or reorder the whole list. For some operations, like sorting, we can choose whether to use a function that modifies the data in-place or a function that returns a modified copy and leaves the original unchanged.\n\n\nBe careful when modifying data in-place. If two variables refer to the same list, and you modify the list value, it will change for both variables!\n\n\n"
    },
    {
      "execution_count": 0,
      "outputs": [],
      "metadata": {
        "scrolled": true,
        "collapsed": false,
        "format": "row"
      },
      "cell_type": "code",
      "source": "salsa = ['peppers', 'onions', 'cilantro', 'tomatoes']\nmy_salsa = salsa        # <-- my_salsa and salsa point to the *same* list data in memory\nsalsa[0] = 'hot peppers'\nprint('Ingredients in my salsa:', my_salsa)"
    },
    {
      "attachments": {},
      "metadata": {},
      "cell_type": "markdown",
      "source": "If you want variables with mutable values to be independent, you must make a copy of the value when you assign it.\n\n\n"
    },
    {
      "execution_count": 0,
      "outputs": [],
      "metadata": {
        "scrolled": true,
        "collapsed": false,
        "format": "row"
      },
      "cell_type": "code",
      "source": "salsa = ['peppers', 'onions', 'cilantro', 'tomatoes']\nmy_salsa = list(salsa)        # <-- makes a *copy* of the list\nsalsa[0] = 'hot peppers'\nprint('Ingredients in my salsa:', my_salsa)"
    },
    {
      "attachments": {},
      "metadata": {},
      "cell_type": "markdown",
      "source": "Because of pitfalls like this, code which modifies data in place can be more difficult to understand. However, it is often far more efficient to modify a large data structure in place than to create a modified copy for every small change. You should consider both of these aspects when writing your code.\n\n\n"
    },
    {
      "attachments": {},
      "metadata": {},
      "cell_type": "markdown",
      "source": "## Nested Lists Since a list can contain any Python variables, it can even contain other lists.\n\n\nFor example, we could represent the products in the shelves of a small grocery shop:\n\n\n"
    },
    {
      "execution_count": 0,
      "outputs": [],
      "metadata": {
        "scrolled": true,
        "collapsed": false,
        "format": "row"
      },
      "cell_type": "code",
      "source": "x = [['pepper', 'zucchini', 'onion'],\n     ['cabbage', 'lettuce', 'garlic'],\n     ['apple', 'pear', 'banana']]"
    },
    {
      "attachments": {
        "fig/indexing_lists_python.png": {
          "image/png": "base64-encoded-png-data"
        }
      },
      "metadata": {},
      "cell_type": "markdown",
      "source": "Here is a visual example of how indexing a list of lists `x` works:\n\n\n> <img src=fig/indexing_lists_python.png>x is represented as a pepper shaker containing several packets of pepper. [x[0]] is represented as a pepper shaker containing a single packet of pepper. x[0] is represented as a single packet of pepper. x[0][0] is represented as single grain of pepper.  Adapted from @hadleywickham.\n\n\nUsing the previously declared list `x`, these would be the results of the index operations shown in the image:\n\n\n"
    },
    {
      "execution_count": 0,
      "outputs": [],
      "metadata": {
        "scrolled": true,
        "collapsed": false,
        "format": "row"
      },
      "cell_type": "code",
      "source": "print([x[0]])"
    },
    {
      "execution_count": 0,
      "outputs": [],
      "metadata": {
        "scrolled": true,
        "collapsed": false,
        "format": "row"
      },
      "cell_type": "code",
      "source": "print(x[0])"
    },
    {
      "execution_count": 0,
      "outputs": [],
      "metadata": {
        "scrolled": true,
        "collapsed": false,
        "format": "row"
      },
      "cell_type": "code",
      "source": "print(x[0][0])"
    },
    {
      "attachments": {},
      "metadata": {},
      "cell_type": "markdown",
      "source": "Thanks to [Hadley Wickam](https://twitter.com/hadleywickham/status/643381054758363136 \"hadleywickham-tweet\") for the image above\n\n\n"
    },
    {
      "attachments": {},
      "metadata": {},
      "cell_type": "markdown",
      "source": "## Heterogeneous Lists Lists in Python can contain elements of different types. Example:\n\n\n"
    },
    {
      "execution_count": 0,
      "outputs": [],
      "metadata": {
        "scrolled": true,
        "collapsed": false,
        "format": "row"
      },
      "cell_type": "code",
      "source": "sample_ages = [10, 12.5, 'Unknown']"
    },
    {
      "attachments": {},
      "metadata": {},
      "cell_type": "markdown",
      "source": "There are many ways to change the contents of lists besides assigning new values to individual elements:\n\n\n"
    },
    {
      "execution_count": 0,
      "outputs": [],
      "metadata": {
        "scrolled": true,
        "collapsed": false,
        "format": "row"
      },
      "cell_type": "code",
      "source": "odds.append(11)\nprint('odds after adding a value:', odds)"
    },
    {
      "execution_count": 0,
      "outputs": [],
      "metadata": {
        "scrolled": true,
        "collapsed": false,
        "format": "row"
      },
      "cell_type": "code",
      "source": "removed_element = odds.pop(0)\nprint('odds after removing the first element:', odds)\nprint('removed_element:', removed_element)"
    },
    {
      "execution_count": 0,
      "outputs": [],
      "metadata": {
        "scrolled": true,
        "collapsed": false,
        "format": "row"
      },
      "cell_type": "code",
      "source": "odds.reverse()\nprint('odds after reversing:', odds)"
    },
    {
      "attachments": {},
      "metadata": {},
      "cell_type": "markdown",
      "source": "While modifying in place, it is useful to remember that Python treats lists in a slightly counter-intuitive way.\n\n\nAs we saw earlier, when we modified the `salsa` list item in-place, if we make a list, (attempt to) copy it and then modify this list, we can cause all sorts of trouble. This also applies to modifying the list using the above functions:\n\n\n"
    },
    {
      "execution_count": 0,
      "outputs": [],
      "metadata": {
        "scrolled": true,
        "collapsed": false,
        "format": "row"
      },
      "cell_type": "code",
      "source": "odds = [1, 3, 5, 7]\nprimes = odds\nprimes.append(2)\nprint('primes:', primes)\nprint('odds:', odds)"
    },
    {
      "attachments": {},
      "metadata": {},
      "cell_type": "markdown",
      "source": "This is because Python stores a list in memory, and then can use multiple names to refer to the same list. If all we want to do is copy a (simple) list, we can again use the `list` function, so we do not modify a list we did not mean to:\n\n\n"
    },
    {
      "execution_count": 0,
      "outputs": [],
      "metadata": {
        "scrolled": true,
        "collapsed": false,
        "format": "row"
      },
      "cell_type": "code",
      "source": "odds = [1, 3, 5, 7]\nprimes = list(odds)\nprimes.append(2)\nprint('primes:', primes)\nprint('odds:', odds)"
    },
    {
      "attachments": {},
      "metadata": {},
      "cell_type": "markdown",
      "source": "## Turn a String Into a List\n\n\nUse a for-loop to convert the string \"hello\" into a list of letters:\n\n\n---\n\n\n<span style=\"color:red\">Out [1]:</span>\n```\n[\"h\", \"e\", \"l\", \"l\", \"o\"]\n```\n---\n\n\n\n\nHint: You can create an empty list like this:\n\n\n---\n\n\n<span style=\"color:blue\">In [1]:</span>\n```python\nmy_list = []\n```\n---\n\n\n\n\n"
    },
    {
      "execution_count": 0,
      "outputs": [],
      "metadata": {
        "scrolled": true,
        "collapsed": false,
        "format": "row"
      },
      "cell_type": "code",
      "source": "#Your answer"
    },
    {
      "attachments": {},
      "metadata": {},
      "cell_type": "markdown",
      "source": "<details>  \n<summary><b> Solution</b></summary>  \n\n---  \n<span style=\"color:blue\">In [1]:</span>  \n```python\nmy_list = []  \nfor char in \"hello\":  \n    my_list.append(char)  \nprint(my_list)  \n```\n---  \n\n\n</details>  \n\n"
    },
    {
      "attachments": {},
      "metadata": {},
      "cell_type": "markdown",
      "source": "Subsets of lists and strings can be accessed by specifying ranges of values in brackets, similar to how we accessed ranges of positions in a NumPy array. This is commonly referred to as \"slicing\" the list/string.\n\n\n"
    },
    {
      "execution_count": 0,
      "outputs": [],
      "metadata": {
        "scrolled": true,
        "collapsed": false,
        "format": "row"
      },
      "cell_type": "code",
      "source": "binomial_name = \"Drosophila melanogaster\"\ngroup = binomial_name[0:10]\nprint(\"group:\", group)\n\nspecies = binomial_name[11:23]\nprint(\"species:\", species)\n\nchromosomes = [\"X\", \"Y\", \"2\", \"3\", \"4\"]\nautosomes = chromosomes[2:5]\nprint(\"autosomes:\", autosomes)\n\nlast = chromosomes[-1]\nprint(\"last:\", last)"
    },
    {
      "attachments": {},
      "metadata": {},
      "cell_type": "markdown",
      "source": "## Slicing From the End\n\n\nUse slicing to access only the last four characters of a string or entries of a list.\n\n\n"
    },
    {
      "execution_count": 0,
      "outputs": [],
      "metadata": {
        "scrolled": true,
        "collapsed": false,
        "format": "row"
      },
      "cell_type": "code",
      "source": "string_for_slicing = \"Observation date: 02-Feb-2013\"\nlist_for_slicing = [[\"fluorine\", \"F\"],\n                    [\"chlorine\", \"Cl\"],\n                    [\"bromine\", \"Br\"],\n                    [\"iodine\", \"I\"],\n                    [\"astatine\", \"At\"]]"
    },
    {
      "attachments": {},
      "metadata": {},
      "cell_type": "markdown",
      "source": "Would your solution work regardless of whether you knew beforehand the length of the string or list (e.g. if you wanted to apply the solution to a set of lists of different lengths)? If not, try to change your approach to make it more robust.\n\n\nHint: Remember that indices can be negative as well as positive\n\n\n"
    },
    {
      "execution_count": 0,
      "outputs": [],
      "metadata": {
        "scrolled": true,
        "collapsed": false,
        "format": "row"
      },
      "cell_type": "code",
      "source": "#Your answer"
    },
    {
      "attachments": {},
      "metadata": {},
      "cell_type": "markdown",
      "source": "<details>  \n<summary><b> Solution</b></summary>  \n\nUse negative indices to count elements from the end of a container (such as list or string):  \n\n\n---  \n<span style=\"color:blue\">In [1]:</span>  \n```python\nstring_for_slicing[-4:]  \nlist_for_slicing[-4:]  \n```\n---  \n\n\n</details>  \n\n"
    },
    {
      "attachments": {},
      "metadata": {},
      "cell_type": "markdown",
      "source": "## Non-Continuous Slices\n\n\nSo far we've seen how to use slicing to take single blocks of successive entries from a sequence. But what if we want to take a subset of entries that aren't next to each other in the sequence?\n\n\nYou can achieve this by providing a third argument to the range within the brackets, called the _step size_. The example below shows how you can take every third entry in a list:\n\n\n"
    },
    {
      "execution_count": 0,
      "outputs": [],
      "metadata": {
        "scrolled": true,
        "collapsed": false,
        "format": "row"
      },
      "cell_type": "code",
      "source": "primes = [2, 3, 5, 7, 11, 13, 17, 19, 23, 29, 31, 37]\nsubset = primes[0:12:3]\nprint(\"subset\", subset)"
    },
    {
      "attachments": {},
      "metadata": {},
      "cell_type": "markdown",
      "source": "Notice that the slice taken begins with the first entry in the range, followed by entries taken at equally-spaced intervals (the steps) thereafter. If you wanted to begin the subset with the third entry, you would need to specify that as the starting point of the sliced range:\n\n\n"
    },
    {
      "execution_count": 0,
      "outputs": [],
      "metadata": {
        "scrolled": true,
        "collapsed": false,
        "format": "row"
      },
      "cell_type": "code",
      "source": "primes = [2, 3, 5, 7, 11, 13, 17, 19, 23, 29, 31, 37]\nsubset = primes[2:12:3]\nprint(\"subset\", subset)"
    },
    {
      "attachments": {},
      "metadata": {},
      "cell_type": "markdown",
      "source": "Use the step size argument to create a new string that contains only every other character in the string \"In an octopus's garden in the shade\". Start with creating a variable to hold the string:\n\n\n"
    },
    {
      "execution_count": 0,
      "outputs": [],
      "metadata": {
        "scrolled": true,
        "collapsed": false,
        "format": "row"
      },
      "cell_type": "code",
      "source": "beatles = \"In an octopus's garden in the shade\""
    },
    {
      "attachments": {},
      "metadata": {},
      "cell_type": "markdown",
      "source": "What slice of `beatles` will produce the following output (i.e., the first character, third character, and every other character through the end of the string)?\n\n\n---\n\n\n<span style=\"color:red\">Out [1]:</span>\n```\nI notpssgre ntesae\n```\n---\n\n\n\n\n"
    },
    {
      "execution_count": 0,
      "outputs": [],
      "metadata": {
        "scrolled": true,
        "collapsed": false,
        "format": "row"
      },
      "cell_type": "code",
      "source": "#Your answer"
    },
    {
      "attachments": {},
      "metadata": {},
      "cell_type": "markdown",
      "source": "<details>  \n<summary><b> Solution</b></summary>  \n\nTo obtain every other character you need to provide a slice with the step size of 2:  \n\n\n---  \n<span style=\"color:blue\">In [1]:</span>  \n```python\nbeatles[0:35:2]  \n```\n---  \n\n\nYou can also leave out the beginning and end of the slice to take the whole string and provide only the step argument to go every second element:  \n\n\n---  \n<span style=\"color:blue\">In [1]:</span>  \n```python\nbeatles[::2]  \n```\n---  \n\n\n</details>  \n\n"
    },
    {
      "attachments": {},
      "metadata": {},
      "cell_type": "markdown",
      "source": "If you want to take a slice from the beginning of a sequence, you can omit the first index in the range:\n\n\n"
    },
    {
      "execution_count": 0,
      "outputs": [],
      "metadata": {
        "scrolled": true,
        "collapsed": false,
        "format": "row"
      },
      "cell_type": "code",
      "source": "date = \"Monday 4 January 2016\"\nday = date[0:6]\nprint(\"Using 0 to begin range:\", day)\nday = date[:6]\nprint(\"Omitting beginning index:\", day)"
    },
    {
      "attachments": {},
      "metadata": {},
      "cell_type": "markdown",
      "source": "And similarly, you can omit the ending index in the range to take a slice to the very end of the sequence:\n\n\n"
    },
    {
      "execution_count": 0,
      "outputs": [],
      "metadata": {
        "scrolled": true,
        "collapsed": false,
        "format": "row"
      },
      "cell_type": "code",
      "source": "months = [\"jan\", \"feb\", \"mar\", \"apr\", \"may\", \"jun\", \"jul\", \"aug\", \"sep\", \"oct\", \"nov\", \"dec\"]\nsond = months[8:12]\nprint(\"With known last position:\", sond)\nsond = months[8:len(months)]\nprint(\"Using len() to get last entry:\", sond)\nsond = months[8:]\nprint(\"Omitting ending index:\", sond)"
    },
    {
      "attachments": {},
      "metadata": {},
      "cell_type": "markdown",
      "source": "## Overloading\n\n\n`+` usually means addition, but when used on strings or lists, it means \"concatenate\". Given that, what do you think the multiplication operator `*` does on lists? In particular, what will be the output of the following code?\n\n\n---\n\n\n<span style=\"color:blue\">In [1]:</span>\n```python\ncounts = [2, 4, 6, 8, 10]\nrepeats = counts * 2\nprint(repeats)\n```\n---\n\n\n\n\n1.  `[2, 4, 6, 8, 10, 2, 4, 6, 8, 10]`\n\n2.  `[4, 8, 12, 16, 20]`\n\n3.  `[[2, 4, 6, 8, 10],[2, 4, 6, 8, 10]]`\n\n4.  `[2, 4, 6, 8, 10, 4, 8, 12, 16, 20]`\n\nThe technical term for this is *operator overloading*: a single operator, like `+` or `*`, can do different things depending on what it's applied to.\n\n\n"
    },
    {
      "attachments": {},
      "metadata": {},
      "cell_type": "raw",
      "source": "Your answer"
    },
    {
      "attachments": {},
      "metadata": {},
      "cell_type": "markdown",
      "source": "<details>  \n<summary><b> Solution</b></summary>  \n\nThe multiplication operator `*` used on a list replicates elements of the list and concatenates them together:  \n\n\n---  \n<span style=\"color:red\">Out [1]:</span>  \n```\n[2, 4, 6, 8, 10, 2, 4, 6, 8, 10]  \n```\n---  \n\n\nIt's equivalent to:  \n\n\n---  \n<span style=\"color:blue\">In [1]:</span>  \n```python\ncounts + counts  \n```\n---  \n\n\n</details>  \n\n"
    }
  ]
}