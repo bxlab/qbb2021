{
  "cells": [
    {
      "attachments": {},
      "cell_type": "markdown",
      "metadata": {},
      "source": "Adapted from [Software Carpentry](https://swcarpentry.github.io/python-novice-inflammation/03-matplotlib/index.html \"03-matplotlib\")"
    },
    {
      "attachments": {},
      "cell_type": "markdown",
      "metadata": {},
      "source": "---\n\n\n\n\n# Visualizing Tabular Data\n\n\nteaching: 30\n\n\nexercises: 20\n\n\nquestions:\n\n\n- \"How can I visualize tabular data in Python?\"\n- \"How can I group several plots together?\"\n\n\nobjectives:\n\n\n- \"Plot simple graphs from data.\"\n- \"Group several graphs in a single figure.\"\n\n\nkeypoints:\n\n\n- \"Use the `pyplot` module from the `matplotlib` library for creating simple visualizations.\"\n---\n\n\n\n\n## Visualizing data\n\n\nThe mathematician Richard Hamming once said, \"The purpose of computing is insight, not numbers,\" and the best way to develop insight is often to visualize data.  Visualization deserves an entire lecture of its own, but we can explore a few features of Python's `matplotlib` library here.  While there is no official plotting library, `matplotlib` is the _de facto_ standard.  First, we will import the `pyplot` module from `matplotlib` and use two of its functions to create and display a heat map of our data:\n\n\n"
    },
    {
      "outputs": [],
      "cell_type": "code",
      "metadata": {
        "scrolled": true,
        "format": "row",
        "collapsed": false
      },
      "execution_count": 0,
      "source": "import numpy\ndata = numpy.loadtxt(fname='data/inflammation-01.csv', delimiter=',')\nimport matplotlib.pyplot\nimage = matplotlib.pyplot.imshow(data)\nmatplotlib.pyplot.show()"
    },
    {
      "attachments": {},
      "cell_type": "markdown",
      "metadata": {},
      "source": "Blue pixels in this heat map represent low values, while yellow pixels represent high values.  As we can see, inflammation rises and falls over a 40-day period.  Let's take a look at the average inflammation over time:\n\n\n"
    },
    {
      "outputs": [],
      "cell_type": "code",
      "metadata": {
        "scrolled": true,
        "format": "row",
        "collapsed": false
      },
      "execution_count": 0,
      "source": "ave_inflammation = numpy.mean(data, axis=0)\nave_plot = matplotlib.pyplot.plot(ave_inflammation)\nmatplotlib.pyplot.show()"
    },
    {
      "attachments": {},
      "cell_type": "markdown",
      "metadata": {},
      "source": "Here, we have put the average inflammation per day across all patients in the variable `ave_inflammation`, then asked `matplotlib.pyplot` to create and display a line graph of those values.  The result is a roughly linear rise and fall, which is suspicious: we might instead expect a sharper rise and slower fall.  Let's have a look at two other statistics:\n\n\n"
    },
    {
      "outputs": [],
      "cell_type": "code",
      "metadata": {
        "scrolled": true,
        "format": "row",
        "collapsed": false
      },
      "execution_count": 0,
      "source": "max_plot = matplotlib.pyplot.plot(numpy.max(data, axis=0))\nmatplotlib.pyplot.show()"
    },
    {
      "outputs": [],
      "cell_type": "code",
      "metadata": {
        "scrolled": true,
        "format": "row",
        "collapsed": false
      },
      "execution_count": 0,
      "source": "min_plot = matplotlib.pyplot.plot(numpy.min(data, axis=0))\nmatplotlib.pyplot.show()"
    },
    {
      "attachments": {},
      "cell_type": "markdown",
      "metadata": {},
      "source": "The maximum value rises and falls smoothly, while the minimum seems to be a step function.  Neither trend seems particularly likely, so either there's a mistake in our calculations or something is wrong with our data.  This insight would have been difficult to reach by examining the numbers themselves without visualization tools.\n\n\n### Grouping plots\n\n\nYou can group similar plots in a single figure using subplots. This script below uses a number of new commands. The function `matplotlib.pyplot.figure()` creates a space into which we will place all of our plots. The parameter `figsize` tells Python how big to make this space. Each subplot is placed into the figure using its `add_subplot` <span style=\"color:red\" title=\"A function which is tied to a particular object. Each of an object's methods typically implements one of the things it can do, or one of the questions it can answer.\">method</span>. The `add_subplot` method takes 3 parameters. The first denotes how many total rows of subplots there are, the second parameter refers to the total number of subplot columns, and the final parameter denotes which subplot your variable is referencing (left-to-right, top-to-bottom). Each subplot is stored in a different variable (`axes1`, `axes2`, `axes3`). Once a subplot is created, the axes can be titled using the `set_xlabel()` command (or `set_ylabel()`). Here are our three plots side by side:\n\n\n"
    },
    {
      "outputs": [],
      "cell_type": "code",
      "metadata": {
        "scrolled": true,
        "format": "row",
        "collapsed": false
      },
      "execution_count": 0,
      "source": "import numpy\nimport matplotlib.pyplot\n\ndata = numpy.loadtxt(fname='data/inflammation-01.csv', delimiter=',')\n\nfig = matplotlib.pyplot.figure(figsize=(10.0, 3.0))\n\naxes1 = fig.add_subplot(1, 3, 1)\naxes2 = fig.add_subplot(1, 3, 2)\naxes3 = fig.add_subplot(1, 3, 3)\n\naxes1.set_ylabel('average')\naxes1.plot(numpy.mean(data, axis=0))\n\naxes2.set_ylabel('max')\naxes2.plot(numpy.max(data, axis=0))\n\naxes3.set_ylabel('min')\naxes3.plot(numpy.min(data, axis=0))\n\nfig.tight_layout()\n\nmatplotlib.pyplot.savefig('inflammation.png')\nmatplotlib.pyplot.show()"
    },
    {
      "attachments": {},
      "cell_type": "markdown",
      "metadata": {},
      "source": "The <span style=\"color:red\" title=\"A use of a function in another piece of software.\">call</span> to `loadtxt` reads our data, and the rest of the program tells the plotting library how large we want the figure to be, that we're creating three subplots, what to draw for each one, and that we want a tight layout. (If we leave out that call to `fig.tight_layout()`, the graphs will actually be squeezed together more closely.)\n\n\nThe call to `savefig` stores the plot as a graphics file. This can be a convenient way to store your plots for use in other documents, web pages etc. The graphics format is automatically determined by Matplotlib from the file name ending we specify; here PNG from 'inflammation.png'. Matplotlib supports many different graphics formats, including SVG, PDF, and JPEG.\n\n\n## Plot Scaling\n\n\nWhy do all of our plots stop just short of the upper end of our graph?\n\n\n"
    },
    {
      "attachments": {},
      "cell_type": "raw",
      "metadata": {},
      "source": "Your answer"
    },
    {
      "attachments": {},
      "cell_type": "markdown",
      "metadata": {},
      "source": "<details>  \n<summary><b> Solution</b></summary>  \n\nBecause matplotlib normally sets x and y axes limits to the min and max of our data (depending on data range)  \n\n\n</details>  \n\n"
    },
    {
      "attachments": {},
      "cell_type": "markdown",
      "metadata": {},
      "source": "If we want to change this, we can use the `set_ylim(min, max)` method of each 'axes', for example:\n\n\n"
    },
    {
      "outputs": [],
      "cell_type": "code",
      "metadata": {
        "scrolled": true,
        "format": "row",
        "collapsed": false
      },
      "execution_count": 0,
      "source": "axes3.set_ylim(0,6)"
    },
    {
      "attachments": {},
      "cell_type": "markdown",
      "metadata": {},
      "source": "Update your plotting code to automatically set a more appropriate scale. (Hint: you can make use of the `max` and `min` methods to help.)\n\n\n"
    },
    {
      "outputs": [],
      "cell_type": "code",
      "metadata": {
        "scrolled": true,
        "format": "row",
        "collapsed": false
      },
      "execution_count": 0,
      "source": "import numpy\nimport matplotlib.pyplot\n\ndata = numpy.loadtxt(fname='data/inflammation-01.csv', delimiter=',')\n\nfig = matplotlib.pyplot.figure(figsize=(10.0, 3.0))\n\naxes1 = fig.add_subplot(1, 3, 1)\naxes2 = fig.add_subplot(1, 3, 2)\naxes3 = fig.add_subplot(1, 3, 3)\n\naxes1.set_ylabel('average')\naxes1.plot(numpy.mean(data, axis=0))\n\naxes2.set_ylabel('max')\naxes2.plot(numpy.max(data, axis=0))\n\naxes3.set_ylabel('min')\naxes3.plot(numpy.min(data, axis=0))\n\nfig.tight_layout()\n\n############\n#Your answer\n############\n\nmatplotlib.pyplot.show()"
    },
    {
      "attachments": {},
      "cell_type": "markdown",
      "metadata": {},
      "source": "<details>  \n<summary><b> Solution</b></summary>  \n\n---  \n<span style=\"color:blue\">In [1]:</span>  \n```python\n# One method  \naxes3.set_ylabel('min')  \naxes3.plot(numpy.min(data, axis=0))  \naxes3.set_ylim(0,6)  \n```\n---  \n\n\n---  \n<span style=\"color:blue\">In [1]:</span>  \n```python\n# A more automated approach  \nmin_data = numpy.min(data, axis=0)  \naxes3.set_ylabel('min')  \naxes3.plot(min_data)  \naxes3.set_ylim(numpy.min(min_data), numpy.max(min_data) * 1.1)  \n```\n---  \n\n\n</details>  \n\n"
    },
    {
      "attachments": {},
      "cell_type": "markdown",
      "metadata": {},
      "source": "## Drawing Straight Lines\n\n\nIn the center and right subplots above, we expect all lines to look like step functions because non-integer value are not realistic for the minimum and maximum values. However, you can see that the lines are not always vertical or horizontal, and in particular the step function in the subplot on the right looks slanted. Why is this?\n\n\n"
    },
    {
      "attachments": {},
      "cell_type": "raw",
      "metadata": {},
      "source": "Your answer"
    },
    {
      "attachments": {
        "fig/inflammation-01-line-styles.svg": {
          "image/svg+xml": "UTF-8"
        }
      },
      "cell_type": "markdown",
      "metadata": {},
      "source": "<details>  \n<summary><b> Solution</b></summary>  \n\nBecause matplotlib interpolates (draws a straight line) between the points. One way to do avoid this is to use the Matplotlib `drawstyle` option:  \n\n\n---  \n<span style=\"color:blue\">In [1]:</span>  \n```python\nimport numpy  \nimport matplotlib.pyplot  \n\ndata = numpy.loadtxt(fname='data/inflammation-01.csv', delimiter=',')  \n\nfig = matplotlib.pyplot.figure(figsize=(10.0, 3.0))  \n\naxes1 = fig.add_subplot(1, 3, 1)  \naxes2 = fig.add_subplot(1, 3, 2)  \naxes3 = fig.add_subplot(1, 3, 3)  \n\naxes1.set_ylabel('average')  \naxes1.plot(numpy.mean(data, axis=0), drawstyle='steps-mid')  \n\naxes2.set_ylabel('max')  \naxes2.plot(numpy.max(data, axis=0), drawstyle='steps-mid')  \n\naxes3.set_ylabel('min')  \naxes3.plot(numpy.min(data, axis=0), drawstyle='steps-mid')  \n\nfig.tight_layout()  \n\nmatplotlib.pyplot.show()  \n```\n---  \n\n\n> <img src=fig/inflammation-01-line-styles.svg>Plot with step lines  \n\n\n</details>  \n\n"
    },
    {
      "attachments": {},
      "cell_type": "markdown",
      "metadata": {},
      "source": "## Make Your Own Plot\n\n\nCreate a plot showing the standard deviation (`numpy.std`) of the inflammation data for each day across all patients.\n\n\n"
    },
    {
      "outputs": [],
      "cell_type": "code",
      "metadata": {
        "scrolled": true,
        "format": "row",
        "collapsed": false
      },
      "execution_count": 0,
      "source": "#Your answer"
    },
    {
      "attachments": {},
      "cell_type": "markdown",
      "metadata": {},
      "source": "<details>  \n<summary><b> Solution</b></summary>  \n\n---  \n<span style=\"color:blue\">In [1]:</span>  \n```python\nstd_plot = matplotlib.pyplot.plot(numpy.std(data, axis=0))  \nmatplotlib.pyplot.show()  \n```\n---  \n\n\n</details>  \n\n"
    },
    {
      "attachments": {},
      "cell_type": "markdown",
      "metadata": {},
      "source": "## Moving Plots Around\n\n\nModify the program to display the three plots on top of one another instead of side by side.\n\n\n"
    },
    {
      "outputs": [],
      "cell_type": "code",
      "metadata": {
        "scrolled": true,
        "format": "row",
        "collapsed": false
      },
      "execution_count": 0,
      "source": "#Your answer"
    },
    {
      "attachments": {},
      "cell_type": "markdown",
      "metadata": {},
      "source": "<details>  \n<summary><b> Solution</b></summary>  \n\n---  \n<span style=\"color:blue\">In [1]:</span>  \n```python\nimport numpy  \nimport matplotlib.pyplot  \n\ndata = numpy.loadtxt(fname='data/inflammation-01.csv', delimiter=',')  \n\n# change figsize (swap width and height)  \nfig = matplotlib.pyplot.figure(figsize=(3.0, 10.0))  \n\n# change add_subplot (swap first two parameters)  \naxes1 = fig.add_subplot(3, 1, 1)  \naxes2 = fig.add_subplot(3, 1, 2)  \naxes3 = fig.add_subplot(3, 1, 3)  \n\naxes1.set_ylabel('average')  \naxes1.plot(numpy.mean(data, axis=0))  \n\naxes2.set_ylabel('max')  \naxes2.plot(numpy.max(data, axis=0))  \n\naxes3.set_ylabel('min')  \naxes3.plot(numpy.min(data, axis=0))  \n\nfig.tight_layout()  \n\nmatplotlib.pyplot.show()  \n```\n---  \n\n\n</details>  \n\n"
    }
  ],
  "nbformat": 4,
  "metadata": {
    "kernelspec": {
      "language": "python",
      "name": "python3",
      "display_name": "Python 3"
    },
    "toc": {
      "title_cell": "Table of Contents",
      "skip_h1_title": false,
      "number_sections": false,
      "toc_cell": false,
      "toc_window_display": true,
      "base_numbering": 1,
      "title_sidebar": "Contents",
      "sideBar": true,
      "toc_section_display": true,
      "nav_menu": {},
      "toc_postion": {}
    },
    "language_info": {
      "file_extension": ".py",
      "mimetype": "text/x-python",
      "pygments_lexer": "ipython3",
      "codemirror_mode": {
        "name": "ipython",
        "version": 3
      },
      "version": "3.7.6",
      "name": "python",
      "nbconvert_exporter": "python"
    }
  },
  "nbformat_minor": 4
}