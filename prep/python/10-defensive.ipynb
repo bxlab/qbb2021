{
  "cells": [
    {
      "source": "Adapted from [Software Carpentry](https://swcarpentry.github.io/python-novice-inflammation/10-defensive/index.html \"10-defensive\")",
      "metadata": {},
      "attachments": {},
      "cell_type": "markdown"
    },
    {
      "source": "---\n\n\n\n\n# Defensive Programming\n\n\nteaching: 30\n\n\nexercises: 10\n\n\nquestions:\n\n\n- \"How can I make my programs more reliable?\"\n\n\nobjectives:\n\n\n- \"Explain what an assertion is.\"\n- \"Add assertions that check the program's state is correct.\"\n- \"Correctly add precondition and postcondition assertions to functions.\"\n- \"Explain what test-driven development is, and use it when creating new functions.\"\n- \"Explain why variables should be initialized using actual data values rather than arbitrary constants.\"\n\n\nkeypoints:\n\n\n- \"Program defensively, i.e., assume that errors are going to arise, and write code to detect them when they do.\"\n- \"Put assertions in programs to check their state as they run, and to help readers understand how those programs are supposed to work.\"\n- \"Use preconditions to check that the inputs to a function are safe to use.\"\n- \"Use postconditions to check that the output from a function is safe to use.\"\n- \"Write tests before writing code in order to help determine exactly what that code is supposed to do.\"\n---\n\n\n\n\nOur previous lessons have introduced the basic tools of programming:\n\n\n- variables and lists,\n- file I/O,\n- loops,\n- conditionals,\n- and functions.\n\n\nWhat they *haven't* done is show us how to tell whether a program is getting the right answer, and how to tell if it's *still* getting the right answer as we make changes to it.\n\n\nTo achieve that, we need to:\n\n\n*   Write programs that check their own operation. *   Write and run tests for widely-used functions. *   Make sure we know what \"correct\" actually means.\n\n\nThe good news is, doing these things will speed up our programming, not slow it down. As in real carpentry --- the kind done with lumber --- the time saved by measuring carefully before cutting a piece of wood is much greater than the time that measuring takes.\n\n\n## Assertions\n\n\nThe first step toward getting the right answers from our programs is to assume that mistakes *will* happen and to guard against them. This is called <span style=\"color:red\" title=\"The practice of writing programs that check their own operation to catch errors as early as possible.\">defensive programming</span>, and the most common way to do it is to add <span style=\"color:red\" title=\"An expression which is supposed to be true at a particular point in a program. Programmers typically put assertions in their code to check for errors; if the assertion fails (i.e., if the expression evaluates as false), the program halts and produces an error message. See also: invariant, precondition, postcondition.\">assertions</span> to our code so that it checks itself as it runs. An assertion is simply a statement that something must be true at a certain point in a program. When Python sees one, it evaluates the assertion's condition. If it's true, Python does nothing, but if it's false, Python halts the program immediately and prints the error message if one is provided. For example, this piece of code halts as soon as the loop encounters a value that isn't positive:\n\n\n",
      "metadata": {},
      "attachments": {},
      "cell_type": "markdown"
    },
    {
      "source": "numbers = [1.5, 2.3, 0.7, -0.001, 4.4]\ntotal = 0.0\nfor num in numbers:\n    assert num > 0.0, 'Data should only contain positive values'\n    total += num\nprint('total is:', total)",
      "metadata": {
        "collapsed": false,
        "format": "row",
        "scrolled": true
      },
      "outputs": [],
      "cell_type": "code",
      "execution_count": 0
    },
    {
      "source": "Programs like the Firefox browser are full of assertions:\n\n\n10-20% of the code they contain are there to check that the other 80\u201390% are working correctly. Broadly speaking, assertions fall into three categories:\n\n*   A <span style=\"color:red\" title=\"A condition that must be true in order for a function (or other block of code) to run correctly.\">precondition</span> is something that must be true at the start of a function in order for it to work correctly.\n\n\n*   A <span style=\"color:red\" title=\"A condition that a function (or other block of code) guarantees is true once it has finished running. Postconditions are often represented using assertions.\">postcondition</span> is something that the function guarantees is true when it finishes.\n\n\n*   An <span style=\"color:red\" title=\"An expression whose value doesn't change during the execution of a program, typically used in an assertion. See also: precondition, postcondition.\">invariant</span> is something that is always true at a particular point inside a piece of code.\n\n\nFor example, suppose we are representing rectangles using a <span style=\"color:red\" title=\"An immutable sequence of values.\">tuple</span> of four coordinates `(x0, y0, x1, y1)`, representing the lower left and upper right corners of the rectangle. In order to do some calculations, we need to normalize the rectangle so that the lower left corner is at the origin and the longest side is 1.0 units long. This function does that, but checks that its input is correctly formatted and that its result makes sense:\n\n\n",
      "metadata": {},
      "attachments": {},
      "cell_type": "markdown"
    },
    {
      "source": "def normalize_rectangle(rect):\n    \"\"\"Normalizes a rectangle so that it is at the origin and 1.0 units long on its longest axis.\n    Input should be of the format (x0, y0, x1, y1).\n    (x0, y0) and (x1, y1) define the lower left and upper right corners\n    of the rectangle, respectively.\"\"\"\n    assert len(rect) == 4, 'Rectangles must contain 4 coordinates'\n    x0, y0, x1, y1 = rect\n    assert x0 < x1, 'Invalid X coordinates'\n    assert y0 < y1, 'Invalid Y coordinates'\n\n    dx = x1 - x0\n    dy = y1 - y0\n    if dx > dy:\n        scaled = float(dx) / dy\n        upper_x, upper_y = 1.0, scaled\n    else:\n        scaled = float(dx) / dy\n        upper_x, upper_y = scaled, 1.0\n\n    assert 0 < upper_x <= 1.0, 'Calculated upper X coordinate invalid'\n    assert 0 < upper_y <= 1.0, 'Calculated upper Y coordinate invalid'\n\n    return (0, 0, upper_x, upper_y)",
      "metadata": {
        "collapsed": false,
        "format": "row",
        "scrolled": true
      },
      "outputs": [],
      "cell_type": "code",
      "execution_count": 0
    },
    {
      "source": "The preconditions on lines 6, 8, and 9 catch invalid inputs:\n\n\n",
      "metadata": {},
      "attachments": {},
      "cell_type": "markdown"
    },
    {
      "source": "print(normalize_rectangle( (0.0, 1.0, 2.0) )) # missing the fourth coordinate",
      "metadata": {
        "collapsed": false,
        "format": "row",
        "scrolled": true
      },
      "outputs": [],
      "cell_type": "code",
      "execution_count": 0
    },
    {
      "source": "print(normalize_rectangle( (4.0, 2.0, 1.0, 5.0) )) # X axis inverted",
      "metadata": {
        "collapsed": false,
        "format": "row",
        "scrolled": true
      },
      "outputs": [],
      "cell_type": "code",
      "execution_count": 0
    },
    {
      "source": "The post-conditions on lines 20 and 21 help us catch bugs by telling us when our calculations might have been incorrect. For example, if we normalize a rectangle that is taller than it is wide everything seems OK:\n\n\n",
      "metadata": {},
      "attachments": {},
      "cell_type": "markdown"
    },
    {
      "source": "print(normalize_rectangle( (0.0, 0.0, 1.0, 5.0) ))",
      "metadata": {
        "collapsed": false,
        "format": "row",
        "scrolled": true
      },
      "outputs": [],
      "cell_type": "code",
      "execution_count": 0
    },
    {
      "source": "but if we normalize one that's wider than it is tall, the assertion is triggered:\n\n\n",
      "metadata": {},
      "attachments": {},
      "cell_type": "markdown"
    },
    {
      "source": "print(normalize_rectangle( (0.0, 0.0, 5.0, 1.0) ))",
      "metadata": {
        "collapsed": false,
        "format": "row",
        "scrolled": true
      },
      "outputs": [],
      "cell_type": "code",
      "execution_count": 0
    },
    {
      "source": "Re-reading our function, we realize that line 14 should divide `dy` by `dx` rather than `dx` by `dy`. In a Jupyter notebook, you can display line numbers by typing <kbd>Ctrl</kbd>+<kbd>M</kbd> followed by <kbd>L</kbd>. If we had left out the assertion at the end of the function, we would have created and returned something that had the right shape as a valid answer, but wasn't. Detecting and debugging that would almost certainly have taken more time in the long run than writing the assertion.\n\n\nBut assertions aren't just about catching errors: they also help people understand programs. Each assertion gives the person reading the program a chance to check (consciously or otherwise) that their understanding matches what the code is doing.\n\n\nMost good programmers follow two rules when adding assertions to their code. The first is, *fail early, fail often*. The greater the distance between when and where an error occurs and when it's noticed, the harder the error will be to debug, so good code catches mistakes as early as possible.\n\n\nThe second rule is, *turn bugs into assertions or tests*. Whenever you fix a bug, write an assertion that catches the mistake should you make it again. If you made a mistake in a piece of code, the odds are good that you have made other mistakes nearby, or will make the same mistake (or a related one) the next time you change it. Writing assertions to check that you haven't <span style=\"color:red\" title=\"To re-introduce a bug that was once fixed.\">regressed</span> (i.e., haven't re-introduced an old problem) can save a lot of time in the long run, and helps to warn people who are reading the code (including your future self) that this bit is tricky.\n\n\n## Test-Driven Development\n\n\nAn assertion checks that something is true at a particular point in the program. The next step is to check the overall behavior of a piece of code, i.e., to make sure that it produces the right output when it's given a particular input. For example, suppose we need to find where two or more time series overlap. The range of each time series is represented as a pair of numbers, which are the time the interval started and ended. The output is the largest range that they all include:\n\n\n> <img src=fig/python-overlapping-ranges.svg>Overlapping Ranges\n\n\nMost novice programmers would solve this problem like this:\n\n\n1.  Write a function `range_overlap`.\n\n2.  Call it interactively on two or three different inputs.\n\n3.  If it produces the wrong answer, fix the function and re-run that test.\n\nThis clearly works --- after all, thousands of scientists are doing it right now --- but there's a better way:\n\n\n1.  Write a short function for each test.\n\n2.  Write a `range_overlap` function that should pass those tests.\n\n3.  If `range_overlap` produces any wrong answers, fix it and re-run the test functions.\n\nWriting the tests *before* writing the function they exercise is called <span style=\"color:red\" title=\"\">test-driven development</span> (TDD). Its advocates believe it produces better code faster because:\n\n\n1.  If people write tests after writing the thing to be tested, they are subject to confirmation bias, i.e., they subconsciously write tests to show that their code is correct, rather than to find errors.\n\n2.  Writing tests helps programmers figure out what the function is actually supposed to do.\n\nHere are three test functions for `range_overlap`:\n\n\n",
      "metadata": {},
      "attachments": {
        "fig/python-overlapping-ranges.svg": {
          "image/svg+xml": "UTF-8"
        }
      },
      "cell_type": "markdown"
    },
    {
      "source": "assert range_overlap([ (0.0, 1.0) ]) == (0.0, 1.0)\nassert range_overlap([ (2.0, 3.0), (2.0, 4.0) ]) == (2.0, 3.0)\nassert range_overlap([ (0.0, 1.0), (0.0, 2.0), (-1.0, 1.0) ]) == (0.0, 1.0)",
      "metadata": {
        "collapsed": false,
        "format": "row",
        "scrolled": true
      },
      "outputs": [],
      "cell_type": "code",
      "execution_count": 0
    },
    {
      "source": "The error is actually reassuring: we haven't written `range_overlap` yet, so if the tests passed, it would be a sign that someone else had and that we were accidentally using their function.\n\n\nAnd as a bonus of writing these tests, we've implicitly defined what our input and output look like: we expect a list of pairs as input, and produce a single pair as output.\n\n\nSomething important is missing, though. We don't have any tests for the case where the ranges don't overlap at all:\n\n\n---\n\n\n<span style=\"color:blue\">In [1]:</span>\n```python\nassert range_overlap([ (0.0, 1.0), (5.0, 6.0) ]) == ???\n```\n---\n\n\n\n\nWhat should `range_overlap` do in this case: fail with an error message, produce a special value like `(0.0, 0.0)` to signal that there's no overlap, or something else? Any actual implementation of the function will do one of these things; writing the tests first helps us figure out which is best *before* we're emotionally invested in whatever we happened to write before we realized there was an issue.\n\n\nAnd what about this case?\n\n\n---\n\n\n<span style=\"color:blue\">In [1]:</span>\n```python\nassert range_overlap([ (0.0, 1.0), (1.0, 2.0) ]) == ???\n```\n---\n\n\n\n\nDo two segments that touch at their endpoints overlap or not? Mathematicians usually say \"yes\", but engineers usually say \"no\". The best answer is \"whatever is most useful in the rest of our program\", but again, any actual implementation of `range_overlap` is going to do *something*, and whatever it is ought to be consistent with what it does when there's no overlap at all.\n\n\nSince we're planning to use the range this function returns as the X axis in a time series chart, we decide that:\n\n\n1.  every overlap has to have non-zero width, and\n\n2.  we will return the special value `None` when there's no overlap.\n\n`None` is built into Python, and means \"nothing here\". (Other languages often call the equivalent value `null` or `nil`). With that decision made, we can finish writing our last two tests:\n\n\n",
      "metadata": {},
      "attachments": {},
      "cell_type": "markdown"
    },
    {
      "source": "assert range_overlap([ (0.0, 1.0), (5.0, 6.0) ]) == None\nassert range_overlap([ (0.0, 1.0), (1.0, 2.0) ]) == None",
      "metadata": {
        "collapsed": false,
        "format": "row",
        "scrolled": true
      },
      "outputs": [],
      "cell_type": "code",
      "execution_count": 0
    },
    {
      "source": "Again, we get an error because we haven't written our function, but we're now ready to do so:\n\n\n",
      "metadata": {},
      "attachments": {},
      "cell_type": "markdown"
    },
    {
      "source": "def range_overlap(ranges):\n    \"\"\"Return common overlap among a set of [left, right] ranges.\"\"\"\n    max_left = 0.0\n    min_right = 1.0\n    for (left, right) in ranges:\n        max_left = max(max_left, left)\n        min_right = min(min_right, right)\n    return (max_left, min_right)",
      "metadata": {
        "collapsed": false,
        "format": "row",
        "scrolled": true
      },
      "outputs": [],
      "cell_type": "code",
      "execution_count": 0
    },
    {
      "source": "Take a moment to think about why we calculate the left endpoint of the overlap as the maximum of the input left endpoints, and the overlap right endpoint as the minimum of the input right endpoints. We'd now like to re-run our tests, but they're scattered across three different cells. To make running them easier, let's put them all in a function:\n\n\n",
      "metadata": {},
      "attachments": {},
      "cell_type": "markdown"
    },
    {
      "source": "def test_range_overlap():\n    assert range_overlap([ (0.0, 1.0), (5.0, 6.0) ]) == None\n    assert range_overlap([ (0.0, 1.0), (1.0, 2.0) ]) == None\n    assert range_overlap([ (0.0, 1.0) ]) == (0.0, 1.0)\n    assert range_overlap([ (2.0, 3.0), (2.0, 4.0) ]) == (2.0, 3.0)\n    assert range_overlap([ (0.0, 1.0), (0.0, 2.0), (-1.0, 1.0) ]) == (0.0, 1.0)\n    assert range_overlap([]) == None",
      "metadata": {
        "collapsed": false,
        "format": "row",
        "scrolled": true
      },
      "outputs": [],
      "cell_type": "code",
      "execution_count": 0
    },
    {
      "source": "We can now test `range_overlap` with a single function call:\n\n\n",
      "metadata": {},
      "attachments": {},
      "cell_type": "markdown"
    },
    {
      "source": "test_range_overlap()",
      "metadata": {
        "collapsed": false,
        "format": "row",
        "scrolled": true
      },
      "outputs": [],
      "cell_type": "code",
      "execution_count": 0
    },
    {
      "source": "The first test that was supposed to produce `None` fails, so we know something is wrong with our function. We *don't* know whether the other tests passed or failed because Python halted the program as soon as it spotted the first error. Still, some information is better than none, and if we trace the behavior of the function with that input, we realize that we're initializing `max_left` and `min_right` to 0.0 and 1.0 respectively, regardless of the input values. This violates another important rule of programming: *always initialize from data*.\n\n\n## Pre- and Post-Conditions\n\n\nSuppose you are writing a function called `average` that calculates the average of the numbers in a list. What pre-conditions and post-conditions would you write for it?\n\n\n",
      "metadata": {},
      "attachments": {},
      "cell_type": "markdown"
    },
    {
      "source": "Your answer",
      "metadata": {},
      "attachments": {},
      "cell_type": "raw"
    },
    {
      "source": "<details>  \n<summary><b> Solution</b></summary>  \n\n---  \n<span style=\"color:blue\">In [1]:</span>  \n```python\n# a possible pre-condition:  \nassert len(input_list) > 0, 'List length must be non-zero'  \n# a possible post-condition:  \nassert numpy.min(input_list) <= average <= numpy.max(input_list),  \n'Average should be between min and max of input values (inclusive)'  \n```\n---  \n\n\n</details>  \n\n",
      "metadata": {},
      "attachments": {},
      "cell_type": "markdown"
    },
    {
      "source": "## Testing Assertions\n\n\nGiven a sequence of a number of cars, the function `get_total_cars` returns the total number of cars.\n\n\n",
      "metadata": {},
      "attachments": {},
      "cell_type": "markdown"
    },
    {
      "source": "def get_total_cars(values):\n    assert len(values) > 0\n    for element in values:\n        assert int(element)\n    values = [int(element) for element in values]\n    total = sum(values)\n    assert total > 0\n    return total",
      "metadata": {
        "collapsed": false,
        "format": "row",
        "scrolled": true
      },
      "outputs": [],
      "cell_type": "code",
      "execution_count": 0
    },
    {
      "source": "get_total_cars([1, 2, 3, 4])",
      "metadata": {
        "collapsed": false,
        "format": "row",
        "scrolled": true
      },
      "outputs": [],
      "cell_type": "code",
      "execution_count": 0
    },
    {
      "source": "get_total_cars(['a', 'b', 'c'])",
      "metadata": {
        "collapsed": false,
        "format": "row",
        "scrolled": true
      },
      "outputs": [],
      "cell_type": "code",
      "execution_count": 0
    },
    {
      "source": "Explain in words what the assertions in this function check, and for each one, give an example of input that will make that assertion fail.\n\n\n",
      "metadata": {},
      "attachments": {},
      "cell_type": "markdown"
    },
    {
      "source": "#Your answer",
      "metadata": {
        "collapsed": false,
        "format": "row",
        "scrolled": true
      },
      "outputs": [],
      "cell_type": "code",
      "execution_count": 0
    },
    {
      "source": "<details>  \n<summary><b> Solution</b></summary>  \n\n*   The first assertion checks that the input sequence `values` is not empty. An empty sequence such as `[]` will make it fail. *   The second assertion checks that each value in the list can be turned into an integer. Input such as `[1, 2,'c', 3]` will make it fail. *   The third assertion checks that the total of the list is greater than 0. Input such as `[-10, 2, 3]` will make it fail.  \n\n\n</details>  \n\n",
      "metadata": {},
      "attachments": {},
      "cell_type": "markdown"
    }
  ],
  "nbformat": 4,
  "metadata": {
    "toc": {
      "toc_section_display": true,
      "toc_cell": false,
      "toc_postion": {},
      "number_sections": false,
      "base_numbering": 1,
      "title_sidebar": "Contents",
      "title_cell": "Table of Contents",
      "sideBar": true,
      "toc_window_display": true,
      "nav_menu": {},
      "skip_h1_title": false
    },
    "kernelspec": {
      "name": "python3",
      "display_name": "Python 3",
      "language": "python"
    },
    "language_info": {
      "nbconvert_exporter": "python",
      "codemirror_mode": {
        "name": "ipython",
        "version": 3
      },
      "pygments_lexer": "ipython3",
      "version": "3.7.6",
      "mimetype": "text/x-python",
      "name": "python",
      "file_extension": ".py"
    }
  },
  "nbformat_minor": 4
}