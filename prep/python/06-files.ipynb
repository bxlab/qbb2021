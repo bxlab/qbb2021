{
 "cells": [
  {
   "cell_type": "markdown",
   "metadata": {},
   "source": [
    "Adapted from [Software Carpentry](https://swcarpentry.github.io/python-novice-inflammation/06-files/index.html \"06-files\")"
   ]
  },
  {
   "cell_type": "markdown",
   "metadata": {},
   "source": [
    "---\n",
    "\n",
    "\n",
    "\n",
    "\n",
    "# Analyzing Data from Multiple Files\n",
    "\n",
    "\n",
    "teaching: 20\n",
    "\n",
    "\n",
    "exercises: 0\n",
    "\n",
    "\n",
    "questions:\n",
    "\n",
    "\n",
    "- \"How can I do the same operations on many different files?\"\n",
    "\n",
    "\n",
    "objectives:\n",
    "\n",
    "\n",
    "- \"Use a library function to get a list of filenames that match a wildcard pattern.\"\n",
    "- \"Write a `for` loop to process multiple files.\"\n",
    "\n",
    "\n",
    "keypoints:\n",
    "\n",
    "\n",
    "- \"Use `glob.glob(pattern)` to create a list of files whose names match a pattern.\"\n",
    "- \"Use `*` in a pattern to match zero or more characters, and `?` to match any single character.\"\n",
    "---\n",
    "\n",
    "\n",
    "\n",
    "\n",
    "We now have almost everything we need to process all our data files. The only thing that's missing is a library with a rather unpleasant name:\n",
    "\n",
    "\n"
   ]
  },
  {
   "cell_type": "code",
   "execution_count": null,
   "metadata": {
    "collapsed": false,
    "scrolled": true
   },
   "outputs": [],
   "source": [
    "import glob"
   ]
  },
  {
   "cell_type": "markdown",
   "metadata": {},
   "source": [
    "The `glob` library contains a function, also called `glob`, that finds files and directories whose names match a pattern. We provide those patterns as strings: the character `*` matches zero or more characters, while `?` matches any one character. We can use this to get the names of all the CSV files in the current directory:\n",
    "\n",
    "\n"
   ]
  },
  {
   "cell_type": "code",
   "execution_count": null,
   "metadata": {
    "collapsed": false,
    "scrolled": true
   },
   "outputs": [],
   "source": [
    "print(glob.glob('data/inflammation*.csv'))"
   ]
  },
  {
   "cell_type": "markdown",
   "metadata": {},
   "source": [
    "As these examples show, `glob.glob`'s result is a list of file and directory paths in arbitrary order. This means we can loop over it to do something with each filename in turn. In our case, the \"something\" we want to do is generate a set of plots for each file in our inflammation dataset. If we want to start by analyzing just the first three files in alphabetical order, we can use the `sorted` built-in function to generate a new sorted list from the `glob.glob` output:\n",
    "\n",
    "\n"
   ]
  },
  {
   "cell_type": "code",
   "execution_count": null,
   "metadata": {
    "collapsed": false,
    "scrolled": true
   },
   "outputs": [],
   "source": [
    "import glob\n",
    "import numpy\n",
    "import matplotlib.pyplot\n",
    "\n",
    "filenames = sorted(glob.glob('data/inflammation*.csv'))\n",
    "filenames = filenames[0:3]\n",
    "for filename in filenames:\n",
    "    print(filename)\n",
    "\n",
    "    data = numpy.loadtxt(fname=filename, delimiter=',')\n",
    "\n",
    "    fig = matplotlib.pyplot.figure(figsize=(10.0, 3.0))\n",
    "\n",
    "    axes1 = fig.add_subplot(1, 3, 1)\n",
    "    axes2 = fig.add_subplot(1, 3, 2)\n",
    "    axes3 = fig.add_subplot(1, 3, 3)\n",
    "\n",
    "    axes1.set_ylabel('average')\n",
    "    axes1.plot(numpy.mean(data, axis=0))\n",
    "\n",
    "    axes2.set_ylabel('max')\n",
    "    axes2.plot(numpy.max(data, axis=0))\n",
    "\n",
    "    axes3.set_ylabel('min')\n",
    "    axes3.plot(numpy.min(data, axis=0))\n",
    "\n",
    "    fig.tight_layout()\n",
    "    matplotlib.pyplot.show()"
   ]
  },
  {
   "cell_type": "markdown",
   "metadata": {},
   "source": [
    "Sure enough, the maxima of the first two data sets show exactly the same ramp as the first, and their minima show the same staircase structure; a different situation has been revealed in the third dataset, where the maxima are a bit less regular, but the minima are consistently zero.\n",
    "\n",
    "\n",
    "## Plotting Differences\n",
    "\n",
    "\n",
    "Plot the difference between the average inflammations reported in the first and second datasets (stored in `inflammation-01.csv` and `inflammation-02.csv`, correspondingly), i.e., the difference between the leftmost plots of the first two figures.\n",
    "\n",
    "\n"
   ]
  },
  {
   "cell_type": "code",
   "execution_count": null,
   "metadata": {
    "collapsed": false,
    "scrolled": true
   },
   "outputs": [],
   "source": [
    "#Your answer"
   ]
  },
  {
   "cell_type": "markdown",
   "metadata": {},
   "source": [
    "<details>  \n",
    "<summary><b> Solution</b></summary>  \n",
    "---  \n",
    "<span style=\"color:blue\">In [1]:</span>  \n",
    "```python\n",
    "import glob  \n",
    "import numpy  \n",
    "import matplotlib.pyplot  \n",
    "\n",
    "filenames = sorted(glob.glob('data/inflammation*.csv'))  \n",
    "\n",
    "data0 = numpy.loadtxt(fname=filenames[0], delimiter=',')  \n",
    "data1 = numpy.loadtxt(fname=filenames[1], delimiter=',')  \n",
    "\n",
    "fig = matplotlib.pyplot.figure(figsize=(10.0, 3.0))  \n",
    "\n",
    "matplotlib.pyplot.ylabel('Difference in average')  \n",
    "matplotlib.pyplot.plot(numpy.mean(data0, axis=0) - numpy.mean(data1, axis=0))  \n",
    "\n",
    "fig.tight_layout()  \n",
    "matplotlib.pyplot.show()  \n",
    "```\n",
    "---  \n",
    "</details>  \n",
    "\n"
   ]
  },
  {
   "cell_type": "markdown",
   "metadata": {},
   "source": [
    "## Generate Composite Statistics\n",
    "\n",
    "\n",
    "Use each of the files once to generate a dataset containing values averaged over all patients:\n",
    "\n",
    "\n"
   ]
  },
  {
   "cell_type": "code",
   "execution_count": null,
   "metadata": {
    "collapsed": false,
    "scrolled": true
   },
   "outputs": [],
   "source": [
    "filenames = glob.glob('data/inflammation*.csv')\n",
    "composite_data = numpy.zeros((60,40))"
   ]
  },
  {
   "cell_type": "markdown",
   "metadata": {},
   "source": [
    "---\n",
    "\n",
    "\n",
    "<span style=\"color:blue\">In [1]:</span>\n",
    "```python\n",
    "for filename in filenames:\n",
    "    # sum each new file's data into composite_data as it's read\n",
    "    #\n",
    "# and then divide the composite_data by number of samples\n",
    "composite_data = composite_data / len(filenames)\n",
    "```\n",
    "---\n",
    "\n",
    "\n",
    "\n",
    "\n",
    "Then use pyplot to generate average, max, and min for all patients.\n",
    "\n",
    "\n"
   ]
  },
  {
   "cell_type": "code",
   "execution_count": null,
   "metadata": {
    "collapsed": false,
    "scrolled": true
   },
   "outputs": [],
   "source": [
    "#Your answer"
   ]
  },
  {
   "cell_type": "markdown",
   "metadata": {},
   "source": [
    "<details>  \n",
    "<summary><b> Solution</b></summary>  \n",
    "\n",
    "---  \n",
    "<span style=\"color:blue\">In [1]:</span>  \n",
    "```python\n",
    "import glob  \n",
    "import numpy  \n",
    "import matplotlib.pyplot  \n",
    "\n",
    "filenames = glob.glob('data/inflammation*.csv')  \n",
    "composite_data = numpy.zeros((60,40))  \n",
    "\n",
    "for filename in filenames:  \n",
    "    data = numpy.loadtxt(fname = filename, delimiter=',')  \n",
    "    composite_data = composite_data + data  \n",
    "\n",
    "composite_data = composite_data / len(filenames)  \n",
    "\n",
    "fig = matplotlib.pyplot.figure(figsize=(10.0, 3.0))  \n",
    "\n",
    "axes1 = fig.add_subplot(1, 3, 1)  \n",
    "axes2 = fig.add_subplot(1, 3, 2)  \n",
    "axes3 = fig.add_subplot(1, 3, 3)  \n",
    "\n",
    "axes1.set_ylabel('average')  \n",
    "axes1.plot(numpy.mean(composite_data, axis=0))  \n",
    "\n",
    "axes2.set_ylabel('max')  \n",
    "axes2.plot(numpy.max(composite_data, axis=0))  \n",
    "\n",
    "axes3.set_ylabel('min')  \n",
    "axes3.plot(numpy.min(composite_data, axis=0))  \n",
    "\n",
    "fig.tight_layout()  \n",
    "\n",
    "matplotlib.pyplot.show()  \n",
    "```\n",
    "---  \n",
    "\n",
    "\n",
    "</details>  \n",
    "\n"
   ]
  }
 ],
 "metadata": {
  "kernelspec": {
   "display_name": "Python 3",
   "language": "python",
   "name": "python3"
  },
  "language_info": {
   "codemirror_mode": {
    "name": "ipython",
    "version": 3
   },
   "file_extension": ".py",
   "mimetype": "text/x-python",
   "name": "python",
   "nbconvert_exporter": "python",
   "pygments_lexer": "ipython3",
   "version": "3.5.0"
  },
  "toc": {
   "base_numbering": 1,
   "nav_menu": {},
   "number_sections": false,
   "sideBar": true,
   "skip_h1_title": false,
   "title_cell": "Table of Contents",
   "title_sidebar": "Contents",
   "toc_cell": false,
   "toc_postion": {},
   "toc_section_display": true,
   "toc_window_display": true
  }
 },
 "nbformat": 4,
 "nbformat_minor": 4
}
