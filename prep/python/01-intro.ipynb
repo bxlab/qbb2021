{
  "cells": [
    {
      "attachments": {},
      "metadata": {},
      "source": "Adapted from [Software Carpentry](https://swcarpentry.github.io/python-novice-inflammation/01-intro/index.html \"01-intro\")",
      "cell_type": "markdown"
    },
    {
      "attachments": {},
      "metadata": {},
      "source": "---\n\n\n\n\n# Python Fundamentals\n\n\nteaching: 20\n\n\nexercises: 10\n\n\nquestions:\n\n\n- \"What basic data types can I work with in Python?\"\n- \"How can I create a new variable in Python?\"\n- \"Can I change the value associated with a variable after I create it?\"\n\n\nobjectives:\n\n\n- \"Assign values to variables.\"\n\n\nkeypoints:\n\n\n- \"Basic data types in Python include integers, strings, and floating-point numbers.\"\n- \"Use `variable = value` to assign a value to a variable in order to record it in memory.\"\n- \"Variables are created on demand whenever a value is assigned to them.\"\n- \"Use `print(something)` to display the value of `something`.\"\n---\n\n\n\n\n## Variables\n\n\nAny Python interpreter can be used as a calculator:\n\n\n",
      "cell_type": "markdown"
    },
    {
      "outputs": [],
      "metadata": {
        "collapsed": false,
        "scrolled": true,
        "format": "row"
      },
      "execution_count": 0,
      "source": "3 + 5 * 4",
      "cell_type": "code"
    },
    {
      "attachments": {},
      "metadata": {},
      "source": "This is great but not very interesting. To do anything useful with data, we need to assign its value to a _variable_. In Python, we can <span style=\"color:red\" title=\"To give a value a name by associating a variable with it.\">assign</span> a value to a <span style=\"color:red\" title=\"A value that has a name associated with it.\">variable</span>, using the equals sign `=`. For example, to assign value `60` to a variable `weight_kg`, we would execute:\n\n\n",
      "cell_type": "markdown"
    },
    {
      "outputs": [],
      "metadata": {
        "collapsed": false,
        "scrolled": true,
        "format": "row"
      },
      "execution_count": 0,
      "source": "weight_kg = 60",
      "cell_type": "code"
    },
    {
      "attachments": {},
      "metadata": {},
      "source": "From now on, whenever we use `weight_kg`, Python will substitute the value we assigned to it. In layman's terms, **a variable is a name for a value**.\n\n\nIn Python, variable names:\n\n\n- can include letters, digits, and underscores - cannot start with a digit - are <span style=\"color:red\" title=\"Treating text as if upper and lower case characters of the same letter are different. See also: case-insensitive.\">case sensitive</span>.\n\n\nThis means that, for example: - `weight0` is a valid variable name, whereas `0weight` is not - `weight` and `Weight` are different variables\n\n\n## Types of data\n\n\nPython knows various types of data. Three common ones are:\n\n\n* integer numbers * floating point numbers, and * strings.\n\n\nIn the example above, variable `weight_kg` has an integer value of `60`. To create a variable with a floating point value, we can execute:\n\n\n",
      "cell_type": "markdown"
    },
    {
      "outputs": [],
      "metadata": {
        "collapsed": false,
        "scrolled": true,
        "format": "row"
      },
      "execution_count": 0,
      "source": "weight_kg = 60.0",
      "cell_type": "code"
    },
    {
      "attachments": {},
      "metadata": {},
      "source": "And to create a string, we add single or double quotes around some text, for example:\n\n\n",
      "cell_type": "markdown"
    },
    {
      "outputs": [],
      "metadata": {
        "collapsed": false,
        "scrolled": true,
        "format": "row"
      },
      "execution_count": 0,
      "source": "weight_kg_text = 'weight in kilograms:'",
      "cell_type": "code"
    },
    {
      "attachments": {},
      "metadata": {},
      "source": "## Using Variables in Python\n\n\nTo display the value of a variable to the screen in Python, we can use the `print` function:\n\n\n",
      "cell_type": "markdown"
    },
    {
      "outputs": [],
      "metadata": {
        "collapsed": false,
        "scrolled": true,
        "format": "row"
      },
      "execution_count": 0,
      "source": "print(weight_kg)",
      "cell_type": "code"
    },
    {
      "attachments": {},
      "metadata": {},
      "source": "We can display multiple things at once using only one `print` command:\n\n\n",
      "cell_type": "markdown"
    },
    {
      "outputs": [],
      "metadata": {
        "collapsed": false,
        "scrolled": true,
        "format": "row"
      },
      "execution_count": 0,
      "source": "print(weight_kg_text, weight_kg)",
      "cell_type": "code"
    },
    {
      "attachments": {},
      "metadata": {},
      "source": "Moreover, we can do arithmetic with variables right inside the `print` function:\n\n\n",
      "cell_type": "markdown"
    },
    {
      "outputs": [],
      "metadata": {
        "collapsed": false,
        "scrolled": true,
        "format": "row"
      },
      "execution_count": 0,
      "source": "print('weight in pounds:', 2.2 * weight_kg)",
      "cell_type": "code"
    },
    {
      "attachments": {},
      "metadata": {},
      "source": "The above command, however, did not change the value of `weight_kg`:\n\n\n",
      "cell_type": "markdown"
    },
    {
      "outputs": [],
      "metadata": {
        "collapsed": false,
        "scrolled": true,
        "format": "row"
      },
      "execution_count": 0,
      "source": "print(weight_kg)",
      "cell_type": "code"
    },
    {
      "attachments": {},
      "metadata": {},
      "source": "To change the value of the `weight_kg` variable, we have to **assign** `weight_kg` a new value using the equals `=` sign:\n\n\n",
      "cell_type": "markdown"
    },
    {
      "outputs": [],
      "metadata": {
        "collapsed": false,
        "scrolled": true,
        "format": "row"
      },
      "execution_count": 0,
      "source": "weight_kg = 65.0\nprint('weight in kilograms is now:', weight_kg)",
      "cell_type": "code"
    },
    {
      "attachments": {
        "fig/python-sticky-note-variables-01.svg": {
          "image/svg+xml": "UTF-8"
        }
      },
      "metadata": {},
      "source": "## Variables as Sticky Notes\n\n\nA variable is analogous to a sticky note with a name written on it: assigning a value to a variable is like putting that sticky note on a particular value.\n\n\n> <img src=fig/python-sticky-note-variables-01.svg>Value of 65.0 with weight_kg label stuck on it\n\n\nThis means that assigning a value to one variable does **not** change values of other variables. For example, let's store the subject's weight in pounds in its own variable:\n\n\n",
      "cell_type": "markdown"
    },
    {
      "outputs": [],
      "metadata": {
        "collapsed": false,
        "scrolled": true,
        "format": "row"
      },
      "execution_count": 0,
      "source": "# There are 2.2 pounds per kilogram\nweight_lb = 2.2 * weight_kg\nprint(weight_kg_text, weight_kg, 'and in pounds:', weight_lb)",
      "cell_type": "code"
    },
    {
      "attachments": {
        "fig/python-sticky-note-variables-02.svg": {
          "image/svg+xml": "UTF-8"
        }
      },
      "metadata": {},
      "source": "> <img src=fig/python-sticky-note-variables-02.svg>Value of 65.0 with weight_kg label stuck on it, and value of 143.0 with weight_lb label stuck on it\n\n\nLet's now change `weight_kg`:\n\n\n",
      "cell_type": "markdown"
    },
    {
      "outputs": [],
      "metadata": {
        "collapsed": false,
        "scrolled": true,
        "format": "row"
      },
      "execution_count": 0,
      "source": "weight_kg = 100.0\nprint('weight in kilograms is now:', weight_kg, 'and weight in pounds is still:', weight_lb)",
      "cell_type": "code"
    },
    {
      "attachments": {
        "fig/python-sticky-note-variables-03.svg": {
          "image/svg+xml": "UTF-8"
        }
      },
      "metadata": {},
      "source": "> <img src=fig/python-sticky-note-variables-03.svg>Value of 100.0 with label weight_kg stuck on it, and value of 143.0 with label weight_lb stuck on it\n\n\nSince `weight_lb` doesn't \"remember\" where its value comes from, it is not updated when we change `weight_kg`.\n\n\n",
      "cell_type": "markdown"
    },
    {
      "attachments": {},
      "metadata": {},
      "source": "## Check Your Understanding\n\n\nWhat values do the variables `mass` and `age` have after each statement in the following program?\n\n\n---\n\n\n<span style=\"color:blue\">In [1]:</span>\n```python\nmass = 47.5\nage = 122\nmass = mass * 2.0\nage = age - 20\nprint(mass, age)\n```\n---\n\n\n\n\n",
      "cell_type": "markdown"
    },
    {
      "attachments": {},
      "metadata": {},
      "source": "Your answer",
      "cell_type": "raw"
    },
    {
      "attachments": {},
      "metadata": {},
      "source": "<details>  \n<summary><b> Solution</b></summary>  \n\n---  \n<span style=\"color:red\">Out [1]:</span>  \n```\n95.0 102  \n```\n---  \n\n\n</details>  \n\n",
      "cell_type": "markdown"
    },
    {
      "attachments": {},
      "metadata": {},
      "source": "## Sorting Out References\n\n\nWhat does the following program print out?\n\n\n---\n\n\n<span style=\"color:blue\">In [1]:</span>\n```python\nfirst, second = 'Grace', 'Hopper'\nthird, fourth = second, first\nprint(third, fourth)\n```\n---\n\n\n\n\n",
      "cell_type": "markdown"
    },
    {
      "attachments": {},
      "metadata": {},
      "source": "Your answer",
      "cell_type": "raw"
    },
    {
      "attachments": {},
      "metadata": {},
      "source": "<details>  \n<summary><b> Solution</b></summary>  \n\n---  \n<span style=\"color:red\">Out [1]:</span>  \n```\nHopper Grace  \n```\n---  \n\n\n</details>  \n\n",
      "cell_type": "markdown"
    }
  ],
  "nbformat": 4,
  "metadata": {
    "toc": {
      "sideBar": true,
      "nav_menu": {},
      "title_sidebar": "Contents",
      "toc_cell": false,
      "toc_window_display": true,
      "base_numbering": 1,
      "toc_section_display": true,
      "title_cell": "Table of Contents",
      "toc_postion": {},
      "number_sections": false,
      "skip_h1_title": false
    },
    "kernelspec": {
      "language": "python",
      "name": "python3",
      "display_name": "Python 3"
    },
    "language_info": {
      "pygments_lexer": "ipython3",
      "version": "3.7.6",
      "mimetype": "text/x-python",
      "codemirror_mode": {
        "name": "ipython",
        "version": 3
      },
      "nbconvert_exporter": "python",
      "name": "python",
      "file_extension": ".py"
    }
  },
  "nbformat_minor": 4
}