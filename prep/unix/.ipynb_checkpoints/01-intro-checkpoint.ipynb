{
 "cells": [
  {
   "cell_type": "markdown",
   "metadata": {},
   "source": [
    "Adapted from [Software Carpentry](https://swcarpentry.github.io/shell-novice/01-intro/index.html \"01-intro\")\n",
    "\n",
    "-------\n",
    "# Introducing the Shell\n",
    "\n",
    "Teaching: 5 min\n",
    "\n",
    "Exercises: 0 min\n",
    "\n",
    "Questions:\n",
    "\n",
    "- What is a command shell and why would I use one?\n",
    "\n",
    "Objectives:\n",
    "\n",
    "- Explain how the shell relates to the keyboard, the screen, the operating system, and users’ programs.\n",
    "- Explain when and why command-line interfaces should be used instead of graphical interfaces.\n",
    "\n",
    "---\n",
    "\n",
    "## Background\n",
    "\n",
    "Humans and computers commonly interact in many different ways, such as through a keyboard and mouse, touch screen interfaces, or using speech recognition systems. The most widely used way to interact with personal computers is called a graphical user interface (GUI). With a GUI, we give instructions by clicking a mouse and using menu-driven interactions.\n",
    "\n",
    "While the visual aid of a GUI makes it intuitive to learn, this way of delivering instructions to a computer scales very poorly. Imagine the following task: for a literature search, you have to copy the third line of one thousand text files in one thousand different directories and paste it into a single file. Using a GUI, you would not only be clicking at your desk for several hours, but you could potentially also commit an error in the process of completing this repetitive task. This is where we take advantage of the Unix shell. The Unix shell is both a command-line interface (CLI) and a scripting language, allowing such repetitive tasks to be done automatically and fast. With the proper commands, the shell can repeat tasks with or without some modification as many times as we want. Using the shell, the task in the literature example can be accomplished in seconds.\n",
    "\n",
    "## The Shell\n",
    "\n",
    "The shell is a program where users can type commands. With the shell, it’s possible to invoke complicated programs like climate modeling software or simple commands that create an empty directory with only one line of code. The most popular Unix shell is Bash (the Bourne Again SHell — so-called because it’s derived from a shell written by Stephen Bourne). Bash is the default shell on most modern implementations of Unix and in most packages that provide Unix-like tools for Windows.\n",
    "\n",
    "Using the shell will take some effort and some time to learn. While a GUI presents you with choices to select, CLI choices are not automatically presented to you, so you must learn a few commands like new vocabulary in a language you’re studying. However, unlike a spoken language, a small number of “words” (i.e. commands) gets you a long way, and we’ll cover those essential few today.\n",
    "\n",
    "The grammar of a shell allows you to combine existing tools into powerful pipelines and handle large volumes of data automatically. Sequences of commands can be written into a script, improving the reproducibility of workflows.\n",
    "\n",
    "In addition, the command line is often the easiest way to interact with remote machines and supercomputers. Familiarity with the shell is near essential to run a variety of specialized tools and resources including high-performance computing systems. As clusters and cloud computing systems become more popular for scientific data crunching, being able to interact with the shell is becoming a necessary skill. We can build on the command-line skills covered here to tackle a wide range of scientific questions and computational challenges.\n",
    "\n",
    "Let’s get started.\n",
    "\n",
    "When the shell is first opened, you are presented with a prompt, indicating that the shell is waiting for input."
   ]
  },
  {
   "cell_type": "markdown",
   "metadata": {},
   "source": [
    "-----\n",
    "**Bash**\n",
    "\n",
    "```bash\n",
    "$\n",
    "```\n",
    "-----"
   ]
  },
  {
   "cell_type": "markdown",
   "metadata": {},
   "source": [
    "The shell typically uses `$` as the prompt, but may use a different symbol. In the examples for this lesson, we’ll show the prompt as `$` . Most importantly: when typing commands, either from these lessons or from other sources, do not type the prompt, only the commands that follow it. Also note that after you type a command, you have to press the Enter key to execute it.\n",
    "\n",
    "The prompt is followed by a **text cursor**, a character that indicates the position where your typing will appear. The cursor is usually a flashing or solid block, but it can also be an underscore or a pipe. You may have seen it in a text editor program, for example.\n",
    "\n",
    "So let’s try our first command, `ls` which is short for listing. This command will list the contents of the current directory:\n"
   ]
  },
  {
   "cell_type": "markdown",
   "metadata": {},
   "source": [
    "-----\n",
    "**Bash**\n",
    "\n",
    "```bash\n",
    "$ ls\n",
    "```\n",
    "-----"
   ]
  },
  {
   "cell_type": "markdown",
   "metadata": {},
   "source": [
    "**Output**\n",
    "\n",
    "```bash\n",
    "Desktop     Downloads   Movies      Pictures\n",
    "Documents   Library     Music       Public\n",
    "```\n",
    "-----"
   ]
  },
  {
   "cell_type": "markdown",
   "metadata": {},
   "source": [
    "> **Command not found**\n",
    "> \n",
    "> If the shell can’t find a program whose name is the command you typed, it will print an error message such as:\n",
    ">\n",
    "> -----\n",
    "> **Bash**\n",
    "> \n",
    "> ```bash\n",
    "> $ ks\n",
    "> ```\n",
    "> -----\n",
    ">\n",
    "> **Output**\n",
    ">\n",
    "> ```bash\n",
    "> ks: command not found\n",
    "> ```\n",
    "> -----\n",
    ">\n",
    "> This might happen if the command was mis-typed or if the program corresponding to that command is not installed."
   ]
  },
  {
   "cell_type": "markdown",
   "metadata": {},
   "source": [
    "## Nelle’s Pipeline: A Typical Problem\n",
    "\n",
    "Nelle Nemo, a marine biologist, has just returned from a six-month survey of the [(North Pacific Gyre](http://en.wikipedia.org/wiki/North_Pacific_Gyre), where she has been sampling gelatinous marine life in the [Great Pacific Garbage Patch](http://en.wikipedia.org/wiki/Great_Pacific_Garbage_Patch). She has 1520 samples that she’s run through an assay machine to measure the relative abundance of 300 proteins. She needs to run these 1520 files through an imaginary program called `goostats.sh` she inherited. On top of this huge task, she has to write up results by the end of the month so her paper can appear in a special issue of Aquatic Goo Letters.\n",
    "\n",
    "The bad news is that if she has to run `goostats.sh` by hand using a GUI, she’ll have to select and open a file 1520 times. If `goostats.sh` takes 30 seconds to run each file, the whole process will take more than 12 hours of Nelle’s attention. With the shell, Nelle can instead assign her computer this mundane task while she focuses her attention on writing her paper.\n",
    "\n",
    "The next few lessons will explore the ways Nelle can achieve this. More specifically, they explain how she can use a command shell to run the `goostats.sh` program, using loops to automate the repetitive steps of entering file names, so that her computer can work while she writes her paper.\n",
    "\n",
    "As a bonus, once she has put a processing pipeline together, she will be able to use it again whenever she collects more data."
   ]
  },
  {
   "cell_type": "markdown",
   "metadata": {},
   "source": [
    "> **Key Points:**\n",
    ">\n",
    "> - A shell is a program whose primary purpose is to read commands and run other programs.\n",
    "> - This lesson uses Bash, the default shell in many implementations of Unix.\n",
    "> - Programs can be run in Bash by entering commands at the command-line prompt.\n",
    "> - The shell’s main advantages are its high action-to-keystroke ratio, its support for automating repetitive tasks, and its capacity to access networked machines.\n",
    "> - The shell’s main disadvantages are its primarily textual nature and how cryptic its commands and operation can be.\n"
   ]
  }
 ],
 "metadata": {
  "kernelspec": {
   "display_name": "Python 3",
   "language": "python",
   "name": "python3"
  },
  "language_info": {
   "codemirror_mode": {
    "name": "ipython",
    "version": 3
   },
   "file_extension": ".py",
   "mimetype": "text/x-python",
   "name": "python",
   "nbconvert_exporter": "python",
   "pygments_lexer": "ipython3",
   "version": "3.5.0"
  }
 },
 "nbformat": 4,
 "nbformat_minor": 2
}
