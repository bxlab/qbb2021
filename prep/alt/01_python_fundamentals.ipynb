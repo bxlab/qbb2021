{
 "cells": [
  {
   "cell_type": "markdown",
   "metadata": {},
   "source": [
    "# Welcome to QBB2020!\n",
    "\n",
    "Please use this Jupyter Notebook to complete the Python preparatory work.  These exercises are based on the excellent [Programming with Python](https://swcarpentry.github.io/python-novice-inflammation/) materials created by Software Carpentry."
   ]
  },
  {
   "cell_type": "markdown",
   "metadata": {},
   "source": [
    "# Python Fundamentals Overview [[ref](https://swcarpentry.github.io/python-novice-inflammation/01-intro/index.html)]\n",
    "\n",
    "- Questions: \n",
    "    - What basic data types can I work with in Python?\n",
    "    - How can I create a new variable in Python?\n",
    "    - Can I change the value associated with a variable after I create it?\n",
    "- Objectives:\n",
    "    - Assign values to variables.\n",
    "- Estimated Time: 30 min"
   ]
  },
  {
   "cell_type": "markdown",
   "metadata": {},
   "source": [
    "# Variables"
   ]
  },
  {
   "cell_type": "markdown",
   "metadata": {},
   "source": [
    "Any Python interpreter can be used as a calculator:"
   ]
  },
  {
   "cell_type": "code",
   "execution_count": null,
   "metadata": {},
   "outputs": [],
   "source": [
    "3 + 5 * 4"
   ]
  },
  {
   "cell_type": "markdown",
   "metadata": {},
   "source": [
    "This is great but not very interesting.\n",
    "To do anything useful with data, we need to assign its value to a _variable_.\n",
    "In Python, we can [assign](https://swcarpentry.github.io/python-novice-inflammation/reference/#assign) a value to a\n",
    "[variable](https://swcarpentry.github.io/python-novice-inflammation/reference/#variable), using the equals sign `=`.\n",
    "For example, to assign value `60` to a variable `weight_kg`, we would execute:"
   ]
  },
  {
   "cell_type": "code",
   "execution_count": null,
   "metadata": {},
   "outputs": [],
   "source": [
    "weight_kg = 60"
   ]
  },
  {
   "cell_type": "markdown",
   "metadata": {},
   "source": [
    "From now on, whenever we use `weight_kg`, Python will substitute the value we assigned to\n",
    "it. In layman's terms, **a variable is a name for a value**.\n",
    "\n",
    "In Python, variable names:\n",
    "\n",
    " - can include letters, digits, and underscores\n",
    " - cannot start with a digit\n",
    " - are [case sensitive](https://swcarpentry.github.io/python-novice-inflammation/reference/#case-sensitive).\n",
    "\n",
    "This means that, for example:\n",
    " - `weight0` is a valid variable name, whereas `0weight` is not\n",
    " - `weight` and `Weight` are different variables"
   ]
  },
  {
   "cell_type": "markdown",
   "metadata": {},
   "source": [
    "# Types of data"
   ]
  },
  {
   "cell_type": "markdown",
   "metadata": {},
   "source": [
    "Python knows various types of data. Three common ones are:\n",
    "\n",
    "* integer numbers\n",
    "* floating point numbers, and\n",
    "* strings.\n",
    "\n",
    "In the example above, variable `weight_kg` has an integer value of `60`.\n",
    "To create a variable with a floating point value, we can execute:"
   ]
  },
  {
   "cell_type": "code",
   "execution_count": null,
   "metadata": {},
   "outputs": [],
   "source": [
    "weight_kg = 60.0"
   ]
  },
  {
   "cell_type": "markdown",
   "metadata": {},
   "source": [
    "And to create a string, we add single or double quotes around some text, for example:"
   ]
  },
  {
   "cell_type": "code",
   "execution_count": null,
   "metadata": {},
   "outputs": [],
   "source": [
    "weight_kg_text = 'weight in kilograms:'"
   ]
  },
  {
   "cell_type": "markdown",
   "metadata": {},
   "source": [
    "# Using Variables in Python"
   ]
  },
  {
   "cell_type": "markdown",
   "metadata": {},
   "source": [
    "To display the value of a variable to the screen in Python, we can use the `print` function:"
   ]
  },
  {
   "cell_type": "code",
   "execution_count": null,
   "metadata": {},
   "outputs": [],
   "source": [
    "print(weight_kg)"
   ]
  },
  {
   "cell_type": "markdown",
   "metadata": {},
   "source": [
    "We can display multiple things at once using only one `print` command:"
   ]
  },
  {
   "cell_type": "code",
   "execution_count": null,
   "metadata": {},
   "outputs": [],
   "source": [
    "print(weight_kg_text, weight_kg)"
   ]
  },
  {
   "cell_type": "markdown",
   "metadata": {},
   "source": [
    "Moreover, we can do arithmetic with variables right inside the `print` function:"
   ]
  },
  {
   "cell_type": "code",
   "execution_count": null,
   "metadata": {},
   "outputs": [],
   "source": [
    "print('weight in pounds:', 2.2 * weight_kg)"
   ]
  },
  {
   "cell_type": "markdown",
   "metadata": {},
   "source": [
    "The above command, however, did not change the value of `weight_kg`:"
   ]
  },
  {
   "cell_type": "code",
   "execution_count": null,
   "metadata": {},
   "outputs": [],
   "source": [
    "print(weight_kg)"
   ]
  },
  {
   "cell_type": "markdown",
   "metadata": {},
   "source": [
    "To change the value of the `weight_kg` variable, we have to\n",
    "**assign** `weight_kg` a new value using the equals `=` sign:"
   ]
  },
  {
   "cell_type": "code",
   "execution_count": null,
   "metadata": {},
   "outputs": [],
   "source": [
    "weight_kg = 65.0\n",
    "print('weight in kilograms is now:', weight_kg)"
   ]
  },
  {
   "cell_type": "markdown",
   "metadata": {},
   "source": [
    "# Variables as Sticky Notes"
   ]
  },
  {
   "cell_type": "markdown",
   "metadata": {},
   "source": [
    "A variable is analogous to a sticky note with a name written on it:\n",
    "assigning a value to a variable is like putting that sticky note on a particular value.\n",
    "\n",
    "![Value of 65.0 with weight_kg label stuck on it](https://swcarpentry.github.io/python-novice-inflammation/fig/python-sticky-note-variables-01.svg)\n",
    "\n",
    "This means that assigning a value to one variable does **not** change\n",
    "values of other variables.\n",
    "For example, let's store the subject's weight in pounds in its own variable:"
   ]
  },
  {
   "cell_type": "code",
   "execution_count": null,
   "metadata": {},
   "outputs": [],
   "source": [
    "# There are 2.2 pounds per kilogram\n",
    "weight_lb = 2.2 * weight_kg\n",
    "print(weight_kg_text, weight_kg, 'and in pounds:', weight_lb)"
   ]
  },
  {
   "cell_type": "markdown",
   "metadata": {},
   "source": [
    "![Value of 65.0 with weight_kg label stuck on it, and value of 143.0 with weight_lb label stuck on it](https://swcarpentry.github.io/python-novice-inflammation/fig/python-sticky-note-variables-02.svg)\n",
    "\n",
    "Let's now change `weight_kg`:\n"
   ]
  },
  {
   "cell_type": "code",
   "execution_count": null,
   "metadata": {},
   "outputs": [],
   "source": [
    "weight_kg = 100.0\n",
    "print('weight in kilograms is now:', weight_kg, 'and weight in pounds is still:', weight_lb)"
   ]
  },
  {
   "cell_type": "markdown",
   "metadata": {},
   "source": [
    "![Value of 100.0 with label weight_kg stuck on it, and value of 143.0 with label weight_lb stuck on it](https://swcarpentry.github.io/python-novice-inflammation/fig/python-sticky-note-variables-03.svg)\n",
    "\n",
    "Since `weight_lb` doesn't \"remember\" where its value comes from,\n",
    "it is not updated when we change `weight_kg`."
   ]
  },
  {
   "cell_type": "markdown",
   "metadata": {},
   "source": [
    "# Exercise 1.1: Check Your Understanding\n",
    "\n",
    "What values do the variables `mass` and `age` have after each statement in the following program? Test your answers by executing the commands."
   ]
  },
  {
   "cell_type": "code",
   "execution_count": null,
   "metadata": {},
   "outputs": [],
   "source": [
    "mass = 47.5\n",
    "age = 122\n",
    "mass = mass * 2.0\n",
    "age = age - 20\n",
    "print(mass, age)"
   ]
  },
  {
   "cell_type": "markdown",
   "metadata": {},
   "source": [
    "# Exercise 1.2: Sorting Out References\n",
    "\n",
    "What does the following program print out?"
   ]
  },
  {
   "cell_type": "code",
   "execution_count": null,
   "metadata": {},
   "outputs": [],
   "source": [
    "first, second = 'Grace', 'Hopper'\n",
    "third, fourth = second, first\n",
    "print(third, fourth)"
   ]
  },
  {
   "cell_type": "markdown",
   "metadata": {},
   "source": [
    "# Key Points\n",
    "\n",
    "- Basic data types in Python include integers, strings, and floating-point numbers.\n",
    "- Use `variable = value` to assign a value to a variable in order to record it in memory.\n",
    "- Variables are created on demand whenever a value is assigned to them.\n",
    "- Use `print(something)` to display the value of `something`.\n"
   ]
  }
 ],
 "metadata": {
  "kernelspec": {
   "display_name": "Python 3",
   "language": "python",
   "name": "python3"
  },
  "language_info": {
   "codemirror_mode": {
    "name": "ipython",
    "version": 3
   },
   "file_extension": ".py",
   "mimetype": "text/x-python",
   "name": "python",
   "nbconvert_exporter": "python",
   "pygments_lexer": "ipython3",
   "version": "3.7.6"
  },
  "toc": {
   "base_numbering": 1,
   "nav_menu": {},
   "number_sections": true,
   "sideBar": true,
   "skip_h1_title": false,
   "title_cell": "Table of Contents",
   "title_sidebar": "Contents",
   "toc_cell": false,
   "toc_position": {},
   "toc_section_display": true,
   "toc_window_display": true
  }
 },
 "nbformat": 4,
 "nbformat_minor": 4
}
