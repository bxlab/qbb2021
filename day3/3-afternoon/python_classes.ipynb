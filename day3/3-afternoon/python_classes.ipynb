{
 "cells": [
  {
   "cell_type": "markdown",
   "metadata": {},
   "source": [
    "# Python classes\n",
    "\n",
    "Classes defining objects just like the base data types and structures in python. They can have attributes and functions that belong to them and create very powerful structures with their own built-in toolbox.\n",
    "\n",
    "## Defining a class\n",
    "\n",
    "Every class definition begins with `class`. Classes can be created from scratch or they can be built based on a previously existing class, allowing you to extend and customize it. If you don't provide a parent class type, then it defaults to the base `object` class, which is basically a bunch of empty built-in functions so you won't get errors, but it won't do anything without you defining stuff. We can also define attributes that every object created of that class type will contain."
   ]
  },
  {
   "cell_type": "code",
   "execution_count": null,
   "metadata": {},
   "outputs": [],
   "source": [
    "# Define our first class and give it a doc string"
   ]
  },
  {
   "cell_type": "markdown",
   "metadata": {},
   "source": [
    "Every class has several specially-defined functions. These always have names beginning and ending with `__`, such as `__init__`. Some of the typical special names that you may care about are:\n",
    "\n",
    "- \\_\\_init__\n",
    "- \\_\\_len__\n",
    "- \\_\\_str__\n",
    "- \\_\\_doc__\n",
    "- \\_\\_getitem__\n",
    "- \\_\\_setitem__\n",
    "- \\_\\_iter__\n",
    "- \\_\\_next__\n",
    "- \\_\\_del__\n"
   ]
  },
  {
   "cell_type": "code",
   "execution_count": null,
   "metadata": {},
   "outputs": [],
   "source": [
    "# Make a class that has a constructor, string, and delete method"
   ]
  },
  {
   "cell_type": "markdown",
   "metadata": {},
   "source": [
    "We can even recreate a python data type from scratch, like a dictionary."
   ]
  },
  {
   "cell_type": "code",
   "execution_count": null,
   "metadata": {},
   "outputs": [],
   "source": [
    "# Write our own dictionary class"
   ]
  },
  {
   "cell_type": "markdown",
   "metadata": {},
   "source": [
    "Using classes means that we can store lots of types of information together and allow built-in functions to have access to them without having to keep track of lots of variables."
   ]
  },
  {
   "cell_type": "code",
   "execution_count": null,
   "metadata": {},
   "outputs": [],
   "source": [
    "# Make a class to decribe a rectangle"
   ]
  },
  {
   "cell_type": "markdown",
   "metadata": {},
   "source": [
    "What about something more practical? Some people have encountered the problem (especially in a Jupyter notebook) that if you read through a file and without closing it and then try reading it again, it doesn't return any lines. Let's make a class to fix this behavior."
   ]
  },
  {
   "cell_type": "code",
   "execution_count": null,
   "metadata": {},
   "outputs": [],
   "source": [
    "# File reader with automatic reset"
   ]
  },
  {
   "cell_type": "markdown",
   "metadata": {},
   "source": [
    "This file reader class demonstrates a powerful aspect of classes which is being able to create your own iterator. What if we want something more specific? Yesterday you worked with a ctab data file which had multiple entries for genes, one per transcript. What if we want to be able to read out one gene at a time, including all of its transcripts?"
   ]
  },
  {
   "cell_type": "code",
   "execution_count": null,
   "metadata": {},
   "outputs": [],
   "source": [
    "# Ctab reader"
   ]
  }
 ],
 "metadata": {
  "kernelspec": {
   "display_name": "Python 3",
   "language": "python",
   "name": "python3"
  },
  "language_info": {
   "codemirror_mode": {
    "name": "ipython",
    "version": 3
   },
   "file_extension": ".py",
   "mimetype": "text/x-python",
   "name": "python",
   "nbconvert_exporter": "python",
   "pygments_lexer": "ipython3",
   "version": "3.5.0"
  }
 },
 "nbformat": 4,
 "nbformat_minor": 2
}
