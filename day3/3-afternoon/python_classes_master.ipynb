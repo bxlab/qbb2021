{
 "cells": [
  {
   "cell_type": "markdown",
   "metadata": {},
   "source": [
    "# Python classes\n",
    "\n",
    "Classes defining objects just like the base data types and structures in python. They can have attributes and functions that belong to them and create very powerful structures with their own built-in toolbox.\n",
    "\n",
    "## Defining a class\n",
    "\n",
    "Every class definition begins with `class`. Classes can be created from scratch or they can be built based on a previously existing class, allowing you to extend and customize it. If you don't provide a parent class type, then it defaults to the base `object` class, which is basically a bunch of empty built-in functions so you won't get errors, but it won't do anything without you defining stuff. We can also define attributes that every object created of that class type will contain."
   ]
  },
  {
   "cell_type": "code",
   "execution_count": 2,
   "metadata": {},
   "outputs": [
    {
     "name": "stdout",
     "output_type": "stream",
     "text": [
      "My first class\n"
     ]
    }
   ],
   "source": [
    "# Define our first class and give it a doc string\n",
    "class First():\n",
    "    \"\"\"My first class\"\"\"\n",
    "    \n",
    "a = First()\n",
    "print(a.__doc__)"
   ]
  },
  {
   "cell_type": "markdown",
   "metadata": {},
   "source": [
    "Every class has several specially-defined functions. These always have names beginning and ending with `__`, such as `__init__`. Some of the typical special names that you may care about are:\n",
    "\n",
    "- \\_\\_init__\n",
    "- \\_\\_len__\n",
    "- \\_\\_str__\n",
    "- \\_\\_doc__\n",
    "- \\_\\_getitem__\n",
    "- \\_\\_setitem__\n",
    "- \\_\\_iter__\n",
    "- \\_\\_next__\n",
    "- \\_\\_del__\n"
   ]
  },
  {
   "cell_type": "code",
   "execution_count": 4,
   "metadata": {},
   "outputs": [
    {
     "name": "stdout",
     "output_type": "stream",
     "text": [
      "My value: 5\n",
      "Goodbye cruel world\n"
     ]
    }
   ],
   "source": [
    "# Make a class that has a constructor, string, and delete method\n",
    "class Second():\n",
    "    \"\"\"My second class\"\"\"\n",
    "    \n",
    "    def __init__(self, value):\n",
    "        self.value = value\n",
    "        \n",
    "    def __str__(self):\n",
    "        return \"My value: {}\".format(self.value)\n",
    "    \n",
    "    def __del__(self):\n",
    "        print(\"Goodbye cruel world\")\n",
    "        \n",
    "b = Second(5)\n",
    "print(b)\n",
    "del b"
   ]
  },
  {
   "cell_type": "markdown",
   "metadata": {},
   "source": [
    "We can even a python data type, like a dictionary."
   ]
  },
  {
   "cell_type": "code",
   "execution_count": 7,
   "metadata": {},
   "outputs": [
    {
     "name": "stdout",
     "output_type": "stream",
     "text": [
      "1\n",
      "1\n",
      "1\n",
      "Glitter!!!!!\n",
      "1\n",
      "1\n",
      "1\n",
      "Glitter!!!!!\n"
     ]
    }
   ],
   "source": [
    "# Write our own dictionary class\n",
    "class MyDict(dict):\n",
    "    \"\"\"My own dictionary\"\"\"\n",
    "    counter = 0\n",
    "    \n",
    "    def __setitem__(self, key, value):\n",
    "        setattr(self, key, value)\n",
    "    \n",
    "    def __getitem__(self, key):\n",
    "        self.counter += 1\n",
    "        if self.counter == 4:\n",
    "            self.counter = 0\n",
    "            return \"Glitter!!!!!\"\n",
    "        else:\n",
    "            return getattr(self, key)\n",
    "        \n",
    "c = MyDict()\n",
    "c['a'] = 1\n",
    "for i in range(8):\n",
    "    print(c['a'])"
   ]
  },
  {
   "cell_type": "markdown",
   "metadata": {},
   "source": [
    "Using classes means that we can store lots of types of information together and allow built-in functions to have access to them without having to keep track of lots of variables."
   ]
  },
  {
   "cell_type": "code",
   "execution_count": 9,
   "metadata": {},
   "outputs": [
    {
     "name": "stdout",
     "output_type": "stream",
     "text": [
      "1\n",
      "Rectangle with sides of length 2 and 3\n",
      "6\n"
     ]
    }
   ],
   "source": [
    "# Make a class to decribe a rectangle\n",
    "class Rect(object):\n",
    "    def __init__(self, height=1, width=1):\n",
    "        self.height = height\n",
    "        self.width = width\n",
    "        \n",
    "    def area(self):\n",
    "        return self.height * self.width\n",
    "        \n",
    "    def __str__(self):\n",
    "        return \"Rectangle with sides of length {} and {}\".format(self.height, self.width)\n",
    "    \n",
    "    def __len__(self):\n",
    "        return 1\n",
    "        \n",
    "rect = Rect(2, 3)\n",
    "print(len(rect))\n",
    "print(rect)\n",
    "print(rect.area())"
   ]
  },
  {
   "cell_type": "markdown",
   "metadata": {},
   "source": [
    "What about something more practical? Some people have encountered the problem (especially in a Jupyter notebook) that if you read through a file and without closing it and then try reading it again, it doesn't return any lines. Let's make a class to fix this behavior."
   ]
  },
  {
   "cell_type": "code",
   "execution_count": 13,
   "metadata": {},
   "outputs": [
    {
     "name": "stdout",
     "output_type": "stream",
     "text": [
      "one\n",
      "two\n",
      "one\n",
      "two\n",
      "three\n",
      "four\n",
      "five\n"
     ]
    }
   ],
   "source": [
    "# File reader with automatic reset\n",
    "class FileReader(object):\n",
    "    def __init__(self, fname):\n",
    "        self.fname = fname\n",
    "        self.filehandle = open(fname, 'r')\n",
    "        self.reset = False\n",
    "        \n",
    "    def __iter__(self):\n",
    "        if self.reset:\n",
    "            self.filehandle.seek(0)\n",
    "            self.reset = False\n",
    "        return self\n",
    "    \n",
    "    def __next__(self):\n",
    "        line = self.filehandle.readline()\n",
    "        if line == '':\n",
    "            self.reset = True\n",
    "            raise StopIteration\n",
    "        return line\n",
    "    \n",
    "    def reset_file(self):\n",
    "        self.reset = True\n",
    "        \n",
    "    def __del__(self):\n",
    "        self.filehandle.close()\n",
    "        \n",
    "fr = FileReader('test.txt')\n",
    "for i, line in enumerate(fr):\n",
    "    print(line, end='')\n",
    "    if i == 1:\n",
    "        break\n",
    "    \n",
    "fr.reset_file()\n",
    "\n",
    "for line in fr:\n",
    "    print(line, end='')\n",
    "\n",
    "del fr"
   ]
  },
  {
   "cell_type": "markdown",
   "metadata": {},
   "source": [
    "This file reader class demonstrates a powerful aspect of classes which is being able to create your own iterator. What if we want something more specific? Yesterday you worked with a ctab data file which had multiple entries for genes, one per transcript. What if we want to be able to read out one gene at a time, including all of its transcripts?"
   ]
  },
  {
   "cell_type": "code",
   "execution_count": 12,
   "metadata": {},
   "outputs": [
    {
     "name": "stdout",
     "output_type": "stream",
     "text": [
      "('CR41571', [['1', '3R', '-', '722370', '722621', 'FBtr0114258', '1', '252', 'FBgn0085804', 'CR41571', '0.000000', '0.000000']])\n",
      "('CG45784', [['2', '3R', '+', '835381', '2503907', 'FBtr0346770', '20', '6213', 'FBgn0267431', 'CG45784', '0.000000', '0.000000']])\n",
      "CR45220\n",
      "   ['6', '3R', '-', '2744304', '2744800', 'FBtr0345282', '2', '438', 'FBgn0266747', 'CR45220', '0.000000', '0.000000']\n",
      "   ['7', '3R', '-', '2744305', '2744800', 'FBtr0345281', '1', '496', 'FBgn0266747', 'CR45220', '0.231855', '0.284474']\n",
      "   ['8', '3R', '+', '3322810', '3354486', 'FBtr0300207', '2', '1767', 'FBgn0086917', 'spok', '0.000000', '0.000000']\n",
      "CR40182\n",
      "   ['4', '3R', '-', '2156916', '2157206', 'FBtr0302347', '1', '291', 'FBgn0058182', 'CR40182', '14.020618', '17.202570']\n",
      "Gfat1\n",
      "   ['22', '3R', '+', '4126442', '4137882', 'FBtr0302850', '9', '2628', 'FBgn0027341', 'Gfat1', '0.000000', '0.000000']\n",
      "   ['23', '3R', '+', '4130521', '4137882', 'FBtr0113687', '9', '2426', 'FBgn0027341', 'Gfat1', '0.000000', '0.000000']\n",
      "   ['24', '3R', '+', '4130521', '4137882', 'FBtr0113690', '9', '2290', 'FBgn0027341', 'Gfat1', '0.000000', '0.000000']\n",
      "   ['25', '3R', '+', '4130521', '4137882', 'FBtr0113692', '8', '2363', 'FBgn0027341', 'Gfat1', '0.000000', '0.000000']\n",
      "   ['26', '3R', '+', '4130521', '4137882', 'FBtr0302846', '10', '2538', 'FBgn0027341', 'Gfat1', '0.000000', '0.000000']\n",
      "   ['27', '3R', '+', '4130521', '4137882', 'FBtr0302847', '5', '3726', 'FBgn0027341', 'Gfat1', '0.000000', '0.000000']\n",
      "   ['28', '3R', '+', '4130521', '4137882', 'FBtr0302848', '9', '2390', 'FBgn0027341', 'Gfat1', '0.000000', '0.000000']\n",
      "   ['29', '3R', '+', '4130521', '4137882', 'FBtr0302849', '7', '2339', 'FBgn0027341', 'Gfat1', '0.000000', '0.000000']\n",
      "   ['30', '3R', '-', '4137894', '4138652', 'FBtr0114267', '3', '614', 'FBgn0085812', 'CR41601', '0.000000', '0.000000']\n",
      "TwdlU\n",
      "   ['64', '3R', '+', '4243606', '4245511', 'FBtr0113190', '3', '1074', 'FBgn0037223', 'TwdlU', '0.000000', '0.000000']\n",
      "CG40198\n",
      "   ['31', '3R', '-', '4160610', '4162235', 'FBtr0333189', '2', '1567', 'FBgn0058198', 'CG40198', '0.000000', '0.000000']\n",
      "   ['32', '3R', '-', '4161508', '4162235', 'FBtr0301809', '2', '669', 'FBgn0058198', 'CG40198', '0.000000', '0.000000']\n",
      "   ['33', '3R', '+', '4174632', '4184473', 'FBtr0078962', '3', '3183', 'FBgn0037213', 'CG12581', '117.739143', '144.459808']\n",
      "CG41099\n",
      "   ['14', '3R', '+', '3846729', '3867684', 'FBtr0113990', '7', '3594', 'FBgn0039955', 'CG41099', '0.000000', '0.000000']\n",
      "   ['15', '3R', '+', '3846729', '3867684', 'FBtr0113991', '8', '3669', 'FBgn0039955', 'CG41099', '0.000000', '0.000000']\n",
      "   ['16', '3R', '+', '3846729', '3867980', 'FBtr0344573', '7', '3869', 'FBgn0039955', 'CG41099', '0.000000', '0.000000']\n",
      "   ['17', '3R', '+', '3846729', '3868401', 'FBtr0113989', '7', '4294', 'FBgn0039955', 'CG41099', '27.157639', '33.321011']\n",
      "   ['18', '3R', '+', '4077939', '4104326', 'FBtr0336454', '12', '4915', 'FBgn0259821', 'CG42402', '0.000000', '0.000000']\n"
     ]
    }
   ],
   "source": [
    "# Ctab reader\n",
    "class ctabReader(object):\n",
    "    def __init__(self, fname):\n",
    "        self.fname = fname\n",
    "        self.fh = open(self.fname, 'r')\n",
    "        self.reset_file = False\n",
    "        self.skip_header()\n",
    "        \n",
    "    def __iter__(self):\n",
    "        if self.reset_file:\n",
    "            self.fh.seek(0)\n",
    "            self.skip_header()\n",
    "        return self\n",
    "    \n",
    "    def skip_header(self):\n",
    "        self.fh.readline()\n",
    "        self.line = self.fh.readline()\n",
    "        \n",
    "    def __next__(self):\n",
    "        if not self.line:\n",
    "            self.reset_file = True\n",
    "            raise StopIteration\n",
    "        fields = self.line.rstrip('\\n\\r').split('\\t')\n",
    "        gene = fields[-3]\n",
    "        transcripts = [fields]\n",
    "        line = self.fh.readline()\n",
    "        fields = line.rstrip('\\n\\r').split('\\t')\n",
    "        while len(fields) > 2 and fields[-3] == gene:\n",
    "            fields = line.rstrip('\\n\\r').split('\\t')\n",
    "            transcripts.append(fields)\n",
    "            line = self.fh.readline()\n",
    "        self.line = line\n",
    "        return gene, transcripts\n",
    "    \n",
    "    def reset(self):\n",
    "        self.reset_file = True\n",
    "        \n",
    "cr = ctabReader('../../../qbb2021/data/SRR072893.t_data.ctab')\n",
    "print(next(cr))\n",
    "print(next(cr))\n",
    "cr.reset()\n",
    "\n",
    "genes = {}\n",
    "for gene, transcripts in cr:\n",
    "    genes[gene] = transcripts\n",
    "\n",
    "for i, pair in enumerate(genes.items()):\n",
    "    if i > 5:\n",
    "        break\n",
    "    print(pair[0])\n",
    "    for t in pair[1]:\n",
    "        print(\"  \", t)\n"
   ]
  },
  {
   "cell_type": "code",
   "execution_count": null,
   "metadata": {},
   "outputs": [],
   "source": []
  }
 ],
 "metadata": {
  "kernelspec": {
   "display_name": "Python 3",
   "language": "python",
   "name": "python3"
  },
  "language_info": {
   "codemirror_mode": {
    "name": "ipython",
    "version": 3
   },
   "file_extension": ".py",
   "mimetype": "text/x-python",
   "name": "python",
   "nbconvert_exporter": "python",
   "pygments_lexer": "ipython3",
   "version": "3.5.0"
  }
 },
 "nbformat": 4,
 "nbformat_minor": 2
}
