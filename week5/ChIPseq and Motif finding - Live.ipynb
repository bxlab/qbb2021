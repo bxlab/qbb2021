{
 "cells": [
  {
   "cell_type": "markdown",
   "id": "2214d294",
   "metadata": {},
   "source": [
    "### Get example data\n",
    "\n",
    "The data for this example exercise are taken from https://angus.readthedocs.io/en/2017/chip-seq.html, and the original publication:\n",
    "\n",
    "Chen, X et al. (2008), Integration of external signaling pathways with the core transcriptional network in embryonic stem cells. Cell. Jun 13;133(6):1106-17.\n",
    "\n",
    "The data include ChIP-seq of the transcription factor Oct4 (`oct4.fastq`) in mouse embryonic stem cells, as well as a control sample (`gfp.fastq`). Due to time constraints and since you've mapped reads before, I've already mapped and sorted the reads.\n",
    "\n",
    "```bash\n",
    "wget https://bx.bio.jhu.edu/data/msauria/cmdb-lab/chipseq_data.tgz\n",
    "```\n",
    "\n",
    "Unpack the data with `tar xzf chipseq_data.tgz` and you should see two files, `Oct4.bam` and `gfp.bam`."
   ]
  },
  {
   "cell_type": "code",
   "execution_count": null,
   "id": "32db5b10",
   "metadata": {},
   "outputs": [],
   "source": []
  },
  {
   "cell_type": "markdown",
   "id": "9b5b78cb",
   "metadata": {},
   "source": [
    "### Call ChIP-seq peaks\n",
    "\n",
    "Next, let's call ChIP-seq peaks using macs2. We're going to need to specify a custom genome size since the data is restricted to chr1. We also want to get bedgraph files to look at read coverage.\n",
    "\n",
    "```bash\n",
    "macs2 callpeak -t Oct4.bam -c gfp.bam --name=Oct4 --gsize=138000000 --bdg\n",
    "```\n",
    "\n",
    "Running macs2 will produce the following 6 files:\n",
    "\n",
    "`Oct4_peaks.xls`: is a tabular file which contains information about called peaks. You can open it in excel and sort/filter using excel functions. Information include position, length and height of detected peak etc.\n",
    "\n",
    "`Oct4_peaks.narrowPeak`: is BED6+4 format file which contains the peak locations together with peak summit, p-value and q-value. You can load it directly to UCSC genome browser.\n",
    "\n",
    "`Oct4_summits.bed`: is in BED format, which contains the peak summits locations for every peaks. The 5th column in this file is -log10p-value the same as NAME_peaks.bed. If you want to find the motifs at the binding sites, this file is recommended. The file can be loaded directly to UCSC genome browser. But remember to remove the beginning track line if you want to analyze it by other tools.\n",
    "\n",
    "`Oct4_model.r`: is an R script which you can use to produce a PDF image about the model based on your data. Load it to R by: $ Rscript NAME_model.r Then a pdf file NAME_model.pdf will be generated in your current directory. Note, R is required to draw this figure.\n",
    "\n",
    "`Oct4_treat_pileup.bdg`: A pileup of shifted reads from the treatment files.\n",
    "\n",
    "`Oct4_control_lambda.bdg`: The calculated local lambda background (windowed) from the control files."
   ]
  },
  {
   "cell_type": "code",
   "execution_count": null,
   "id": "f59660aa",
   "metadata": {},
   "outputs": [],
   "source": []
  },
  {
   "cell_type": "markdown",
   "id": "eff88ab5",
   "metadata": {},
   "source": [
    "\n",
    "### Load it all into IGV\n",
    "\n",
    "Launch `igv` and load the following files:\n",
    "\n",
    "1. Oct4_peaks.narrowPeak\n",
    "2. Oct4_treat_pileup.bdg\n",
    "3. Oct4_control_lambda.bdg\n",
    "\n"
   ]
  },
  {
   "cell_type": "markdown",
   "id": "8cc34d9e",
   "metadata": {},
   "source": [
    "\n",
    "### Extract the top 100 peaks\n",
    "\n",
    "In order to get the top peaks, we'll need to sort by the p-values (eigth column) in reverse order (largest first since the scores are -log transformed) in the narrowPeak file. Then we need to select only the first 100 lines.\n",
    "\n",
    "```bash\n",
    "sort -k8,8nr Oct4_peaks.narrowPeak > Oct4_sorted.narrowPeak\n",
    "head -n 100 Oct4_sorted.narrowPeak > Oct4_top100.narrowPeak\n",
    "```\n"
   ]
  },
  {
   "cell_type": "code",
   "execution_count": null,
   "id": "74dc9b2c",
   "metadata": {},
   "outputs": [],
   "source": []
  },
  {
   "cell_type": "markdown",
   "id": "b508a606",
   "metadata": {},
   "source": [
    "Next, we'll need a way to get the sequence for each of these intervals. Luckily bedtools makes this easy.\n",
    "\n",
    "`bedtools getfasta` https://bedtools.readthedocs.io/en/latest/content/tools/getfasta.html\n",
    "\n",
    "```bash\n",
    "bedtools getfasta -fi /Users/cmdb/data/genomes/mm10.fa -bed Oct4_top100.narrowPeak > Oct4_top100.fa\n",
    "```\n"
   ]
  },
  {
   "cell_type": "code",
   "execution_count": null,
   "id": "4162b61a",
   "metadata": {},
   "outputs": [],
   "source": []
  },
  {
   "cell_type": "markdown",
   "id": "8afcb313",
   "metadata": {},
   "source": [
    "### Motif finding\n",
    "\n",
    "Now that we have the sequences, let's see if there is a motif that is enriched in these sequences. For this, we're going to use the `meme` suite of tools. \n",
    "\n",
    "http://meme-suite.org/doc/meme-chip.html\n",
    "\n"
   ]
  }
 ],
 "metadata": {
  "kernelspec": {
   "display_name": "Python 3",
   "language": "python",
   "name": "python3"
  },
  "language_info": {
   "codemirror_mode": {
    "name": "ipython",
    "version": 3
   },
   "file_extension": ".py",
   "mimetype": "text/x-python",
   "name": "python",
   "nbconvert_exporter": "python",
   "pygments_lexer": "ipython3",
   "version": "3.5.0"
  }
 },
 "nbformat": 4,
 "nbformat_minor": 5
}
